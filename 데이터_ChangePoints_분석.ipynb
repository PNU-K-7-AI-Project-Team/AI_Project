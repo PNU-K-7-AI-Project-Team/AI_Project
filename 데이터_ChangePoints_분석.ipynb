{
 "cells": [
  {
   "cell_type": "markdown",
   "metadata": {},
   "source": [
    "# GPU 사용"
   ]
  },
  {
   "cell_type": "markdown",
   "metadata": {},
   "source": [
    "## GPU 사용 확인"
   ]
  },
  {
   "cell_type": "code",
   "execution_count": 1,
   "metadata": {},
   "outputs": [
    {
     "name": "stdout",
     "output_type": "stream",
     "text": [
      "True\n",
      "12.1\n",
      "NVIDIA GeForce GTX 1650\n"
     ]
    }
   ],
   "source": [
    "import torch\n",
    "print(torch.cuda.is_available())  # True 반환 시 GPU 사용 가능\n",
    "print(torch.version.cuda)  # 설치된 PyTorch가 지원하는 CUDA 버전 출력\n",
    "print(torch.cuda.get_device_name(0))  # GPU 이름 출력"
   ]
  },
  {
   "cell_type": "markdown",
   "metadata": {},
   "source": [
    "## GPU 메모리 사용량 확인"
   ]
  },
  {
   "cell_type": "code",
   "execution_count": 2,
   "metadata": {},
   "outputs": [
    {
     "name": "stdout",
     "output_type": "stream",
     "text": [
      "총 메모리: 4.00 GB\n",
      "사용 중인 메모리: 0.00 GB\n",
      "예약된 메모리: 0.00 GB\n"
     ]
    }
   ],
   "source": [
    "print(f\"총 메모리: {torch.cuda.get_device_properties(0).total_memory / 1024 ** 3:.2f} GB\")\n",
    "print(f\"사용 중인 메모리: {torch.cuda.memory_allocated(0) / 1024 ** 3:.2f} GB\")\n",
    "print(f\"예약된 메모리: {torch.cuda.memory_reserved(0) / 1024 ** 3:.2f} GB\")"
   ]
  },
  {
   "cell_type": "markdown",
   "metadata": {
    "id": "gC9YzWUFZobG"
   },
   "source": [
    "# **1. 데이터 로드 및 기본정보 확인**"
   ]
  },
  {
   "cell_type": "code",
   "execution_count": 3,
   "metadata": {},
   "outputs": [],
   "source": [
    "import pandas as pd\n",
    "import numpy as np\n",
    "import matplotlib.pyplot as plt\n",
    "import ruptures as rpt # 다양한 알고리즘을 제공하여 시계열 데이터에서 급격한 변화가 발생한 시점을 탐지"
   ]
  },
  {
   "cell_type": "markdown",
   "metadata": {},
   "source": [
    "### **CSV 데이터 불러오기**"
   ]
  },
  {
   "cell_type": "code",
   "execution_count": 4,
   "metadata": {
    "colab": {
     "base_uri": "https://localhost:8080/"
    },
    "id": "8_IFuIu1hl6m",
    "outputId": "d9f2b896-2dc7-4854-8789-e2ef8797c350"
   },
   "outputs": [
    {
     "name": "stdout",
     "output_type": "stream",
     "text": [
      "생체 데이터 정보:\n",
      "<class 'pandas.core.frame.DataFrame'>\n",
      "RangeIndex: 425992 entries, 0 to 425991\n",
      "Data columns (total 8 columns):\n",
      " #   Column       Non-Null Count   Dtype  \n",
      "---  ------       --------------   -----  \n",
      " 0   WorkDate     425992 non-null  int64  \n",
      " 1   UserCode     425992 non-null  int64  \n",
      " 2   Heartbeat    425992 non-null  int64  \n",
      " 3   Temperature  425992 non-null  int64  \n",
      " 4   Spo2         425992 non-null  int64  \n",
      " 5   Latitude     425992 non-null  float64\n",
      " 6   Longitude    425992 non-null  float64\n",
      " 7   VitalDate    425992 non-null  object \n",
      "dtypes: float64(2), int64(5), object(1)\n",
      "memory usage: 26.0+ MB\n",
      "\n",
      "자이로 데이터 정보:\n",
      "<class 'pandas.core.frame.DataFrame'>\n",
      "RangeIndex: 5920987 entries, 0 to 5920986\n",
      "Data columns (total 6 columns):\n",
      " #   Column        Dtype  \n",
      "---  ------        -----  \n",
      " 0   WorkDate      int64  \n",
      " 1   UserCode      int64  \n",
      " 2   X             float64\n",
      " 3   Y             float64\n",
      " 4   Z             float64\n",
      " 5   RegisterDate  object \n",
      "dtypes: float64(3), int64(2), object(1)\n",
      "memory usage: 271.0+ MB\n",
      "\n",
      "생체 데이터 일부행:\n",
      "   WorkDate  UserCode  Heartbeat  Temperature  Spo2  Latitude  Longitude  \\\n",
      "0  20230803         1         71            0     0       0.0        0.0   \n",
      "1  20230803         1         71            0     0       0.0        0.0   \n",
      "2  20230803         1         59            0     0       0.0        0.0   \n",
      "3  20230803         1         57            0     0       0.0        0.0   \n",
      "4  20230803         1         56            0     0       0.0        0.0   \n",
      "\n",
      "                 VitalDate  \n",
      "0  2023-08-03 10:29:07.398  \n",
      "1  2023-08-03 10:29:08.442  \n",
      "2  2023-08-03 10:29:14.393  \n",
      "3  2023-08-03 10:29:16.379  \n",
      "4  2023-08-03 10:29:17.377  \n",
      "\n",
      "자이로 데이터 일부 행:\n",
      "   WorkDate  UserCode     X     Y     Z         RegisterDate\n",
      "0  20230803         1 -0.01  0.00  0.00  2023-08-03 10:34:41\n",
      "1  20230803         1  0.05 -0.02 -0.02  2023-08-03 10:32:47\n",
      "2  20230803         1  0.06  0.12  0.08  2023-08-03 10:30:12\n",
      "3  20230803         1  0.02  0.02 -0.01  2023-08-03 10:33:41\n",
      "4  20230803         1  0.17  0.05  0.01  2023-08-03 10:33:03\n"
     ]
    }
   ],
   "source": [
    "# 파일 경로\n",
    "bio_data_path = './원본 데이터/생체 데이터.csv'\n",
    "gyro_data_path = './원본 데이터/자이로 데이터.csv'\n",
    "\n",
    "# 데이터 로드\n",
    "bio_data = pd.read_csv(bio_data_path)\n",
    "gyro_data = pd.read_csv(gyro_data_path)\n",
    "\n",
    "# 데이터의 기본 정보\n",
    "print(\"생체 데이터 정보:\")\n",
    "bio_data.info()\n",
    "print(\"\")\n",
    "print(\"자이로 데이터 정보:\")\n",
    "gyro_data.info()\n",
    "\n",
    "# 데이터 확인 결과 출력\n",
    "print(f\"\\n생체 데이터 일부행:\\n{bio_data.head()}\\n\\n자이로 데이터 일부 행:\\n{gyro_data.head()}\")"
   ]
  },
  {
   "cell_type": "code",
   "execution_count": 5,
   "metadata": {
    "colab": {
     "base_uri": "https://localhost:8080/"
    },
    "id": "NBbEg-hoVieI",
    "outputId": "00e41824-67db-40ad-bb10-7d8d4272101c"
   },
   "outputs": [
    {
     "name": "stdout",
     "output_type": "stream",
     "text": [
      "생체 데이터 전체 행 수: 425992\n",
      "자이로 데이터 전체 행 수: 5920987\n"
     ]
    }
   ],
   "source": [
    "# 파일의 전체 행 수를 확인하는 방법\n",
    "row_count = sum(1 for row in open(bio_data_path)) - 1  # 첫 번째 행은 헤더이므로 제외\n",
    "print(f\"생체 데이터 전체 행 수: {row_count}\")\n",
    "\n",
    "row_count = sum(1 for row in open(gyro_data_path)) - 1  # 첫 번째 행은 헤더이므로 제외\n",
    "print(f\"자이로 데이터 전체 행 수: {row_count}\")"
   ]
  },
  {
   "cell_type": "markdown",
   "metadata": {},
   "source": [
    "# **2. 데이터 전처리**"
   ]
  },
  {
   "cell_type": "markdown",
   "metadata": {
    "id": "i8u-o3hb1d8w"
   },
   "source": [
    "## **(1) 데이터 정리 (Data Cleaning)**"
   ]
  },
  {
   "cell_type": "markdown",
   "metadata": {
    "id": "q6qOgXiCZ3gl"
   },
   "source": [
    "### **결측치 확인**\n",
    "***\n",
    "> 데이터에 결측치가 있는지 확인하고, 필요에 따라 결측치를 제거하거나 대체(imputation)"
   ]
  },
  {
   "cell_type": "code",
   "execution_count": 6,
   "metadata": {
    "colab": {
     "base_uri": "https://localhost:8080/"
    },
    "id": "qDmswOEoMHGx",
    "outputId": "2616f0a8-a9d5-4f00-9368-2034a74040e4"
   },
   "outputs": [
    {
     "name": "stdout",
     "output_type": "stream",
     "text": [
      "생체 데이터 결측치:\n",
      " WorkDate       0\n",
      "UserCode       0\n",
      "Heartbeat      0\n",
      "Temperature    0\n",
      "Spo2           0\n",
      "Latitude       0\n",
      "Longitude      0\n",
      "VitalDate      0\n",
      "dtype: int64 \n",
      "\n",
      "자이로 데이터 결측치:\n",
      " WorkDate        0\n",
      "UserCode        0\n",
      "X               0\n",
      "Y               0\n",
      "Z               0\n",
      "RegisterDate    0\n",
      "dtype: int64\n"
     ]
    }
   ],
   "source": [
    "# 결측치 분석\n",
    "bio_data_missing = bio_data.isnull().sum()\n",
    "gyro_data_missing = gyro_data.isnull().sum()\n",
    "\n",
    "print(\"생체 데이터 결측치:\\n\", bio_data_missing, \"\\n\")\n",
    "print(\"자이로 데이터 결측치:\\n\", gyro_data_missing)"
   ]
  },
  {
   "cell_type": "markdown",
   "metadata": {
    "id": "ZS4fOpI32F1H"
   },
   "source": [
    "### **결측치가 존재하는 경우**"
   ]
  },
  {
   "cell_type": "code",
   "execution_count": 7,
   "metadata": {
    "colab": {
     "base_uri": "https://localhost:8080/"
    },
    "id": "8eU9wZoSPzOo",
    "outputId": "eb967bf9-f12b-42b0-e93e-1e37dba454c8"
   },
   "outputs": [
    {
     "name": "stdout",
     "output_type": "stream",
     "text": [
      "Empty DataFrame\n",
      "Columns: [WorkDate, UserCode, Heartbeat, Temperature, Spo2, Latitude, Longitude, VitalDate]\n",
      "Index: []\n",
      " Empty DataFrame\n",
      "Columns: [WorkDate, UserCode, X, Y, Z, RegisterDate]\n",
      "Index: []\n",
      "\n",
      "WorkDate        0.0\n",
      "UserCode        0.0\n",
      "X               0.0\n",
      "Y               0.0\n",
      "Z               0.0\n",
      "RegisterDate    0.0\n",
      "dtype: float64\n",
      " WorkDate        0.0\n",
      "UserCode        0.0\n",
      "X               0.0\n",
      "Y               0.0\n",
      "Z               0.0\n",
      "RegisterDate    0.0\n",
      "dtype: float64\n",
      "\n"
     ]
    }
   ],
   "source": [
    "# 결측치가 포함된 모든 행을 출력\n",
    "missing_rows1 = bio_data[bio_data.isnull().any(axis=1)]\n",
    "missing_rows2 = gyro_data[gyro_data.isnull().any(axis=1)]\n",
    "print(f\"{missing_rows1}\\n {missing_rows2}\\n\")\n",
    "\n",
    "# 각 열에 대한 결측치 비율을 확인\n",
    "missing_percentage1 = gyro_data.isnull().mean() * 100\n",
    "missing_percentage2 = gyro_data.isnull().mean() * 100\n",
    "print(f\"{missing_percentage1}\\n {missing_percentage2}\\n\")"
   ]
  },
  {
   "cell_type": "markdown",
   "metadata": {
    "id": "gvWejALbj0Nk"
   },
   "source": [
    "### **데이터 타입 변환**"
   ]
  },
  {
   "cell_type": "code",
   "execution_count": 8,
   "metadata": {
    "colab": {
     "base_uri": "https://localhost:8080/"
    },
    "id": "JUJ58biNjtAb",
    "outputId": "d56537e3-a70d-4519-f79d-f2f685a69f02"
   },
   "outputs": [
    {
     "name": "stdout",
     "output_type": "stream",
     "text": [
      "0   2023-08-03 10:29:07.398\n",
      "1   2023-08-03 10:29:08.442\n",
      "2   2023-08-03 10:29:14.393\n",
      "3   2023-08-03 10:29:16.379\n",
      "4   2023-08-03 10:29:17.377\n",
      "Name: VitalDate, dtype: datetime64[ns] \n",
      "\n",
      "0   2023-08-03 10:34:41\n",
      "1   2023-08-03 10:32:47\n",
      "2   2023-08-03 10:30:12\n",
      "3   2023-08-03 10:33:41\n",
      "4   2023-08-03 10:33:03\n",
      "Name: RegisterDate, dtype: datetime64[ns]\n"
     ]
    }
   ],
   "source": [
    "# RegisterDate 열을 날짜 형식으로 변환합니다.\n",
    "bio_data['VitalDate'] = pd.to_datetime(bio_data['VitalDate'])\n",
    "\n",
    "# VitalDate 열을 날짜 형식으로 변환합니다.\n",
    "gyro_data['RegisterDate'] = pd.to_datetime(gyro_data['RegisterDate'])\n",
    "\n",
    "# 변환 결과를 확인합니다.\n",
    "print(bio_data['VitalDate'].head(), \"\\n\")\n",
    "print(gyro_data['RegisterDate'].head())"
   ]
  },
  {
   "cell_type": "markdown",
   "metadata": {
    "id": "97EnAlA5kzPy"
   },
   "source": [
    "> `VitalDate` 열의 데이터, `RegisterDate` 열의 데이터가 `문자열 형식`에서 `날짜 형식`으로 변환\n",
    "> `pd.to_datetime()`: `VitalDate` 열, `RegisterDate` 열의 데이터를 `날짜 형식(datetime64[ns])`으로 변환"
   ]
  },
  {
   "cell_type": "code",
   "execution_count": 9,
   "metadata": {
    "colab": {
     "base_uri": "https://localhost:8080/"
    },
    "id": "YKEc0Q3Xy5z_",
    "outputId": "f6000ef3-2b30-41c3-d363-365f24ddee97"
   },
   "outputs": [
    {
     "name": "stdout",
     "output_type": "stream",
     "text": [
      "생체 데이터 정보:\n",
      "<class 'pandas.core.frame.DataFrame'>\n",
      "RangeIndex: 425992 entries, 0 to 425991\n",
      "Data columns (total 8 columns):\n",
      " #   Column       Non-Null Count   Dtype         \n",
      "---  ------       --------------   -----         \n",
      " 0   WorkDate     425992 non-null  int64         \n",
      " 1   UserCode     425992 non-null  int64         \n",
      " 2   Heartbeat    425992 non-null  int64         \n",
      " 3   Temperature  425992 non-null  int64         \n",
      " 4   Spo2         425992 non-null  int64         \n",
      " 5   Latitude     425992 non-null  float64       \n",
      " 6   Longitude    425992 non-null  float64       \n",
      " 7   VitalDate    425992 non-null  datetime64[ns]\n",
      "dtypes: datetime64[ns](1), float64(2), int64(5)\n",
      "memory usage: 26.0 MB\n",
      "\n",
      "자이로 데이터 정보:\n",
      "<class 'pandas.core.frame.DataFrame'>\n",
      "RangeIndex: 5920987 entries, 0 to 5920986\n",
      "Data columns (total 6 columns):\n",
      " #   Column        Dtype         \n",
      "---  ------        -----         \n",
      " 0   WorkDate      int64         \n",
      " 1   UserCode      int64         \n",
      " 2   X             float64       \n",
      " 3   Y             float64       \n",
      " 4   Z             float64       \n",
      " 5   RegisterDate  datetime64[ns]\n",
      "dtypes: datetime64[ns](1), float64(3), int64(2)\n",
      "memory usage: 271.0 MB\n"
     ]
    }
   ],
   "source": [
    "print(\"생체 데이터 정보:\")\n",
    "bio_data.info()\n",
    "\n",
    "print(\"\\n자이로 데이터 정보:\")\n",
    "gyro_data.info()"
   ]
  },
  {
   "cell_type": "markdown",
   "metadata": {
    "id": "7czCi6IyLjai"
   },
   "source": [
    "## **변화점 탐지(Change Pointer Detection)**"
   ]
  },
  {
   "cell_type": "code",
   "execution_count": 10,
   "metadata": {},
   "outputs": [
    {
     "name": "stderr",
     "output_type": "stream",
     "text": [
      "IOPub data rate exceeded.\n",
      "The Jupyter server will temporarily stop sending output\n",
      "to the client in order to avoid crashing it.\n",
      "To change this limit, set the config variable\n",
      "`--ServerApp.iopub_data_rate_limit`.\n",
      "\n",
      "Current values:\n",
      "ServerApp.iopub_data_rate_limit=1000000.0 (bytes/sec)\n",
      "ServerApp.rate_limit_window=3.0 (secs)\n",
      "\n"
     ]
    }
   ],
   "source": [
    "# 분석할 컬럼 선택\n",
    "bio_columns = ['Heartbeat', 'Temperature', 'Spo2']\n",
    "gyro_columns = ['X', 'Y', 'Z']\n",
    "\n",
    "# 변화점 탐지 함수 정의\n",
    "def detect_change_points(data, model=\"l2\", pen=3):\n",
    "    algo = rpt.Pelt(model=model).fit(data)\n",
    "    return algo.predict(pen=pen)\n",
    "\n",
    "# 배치 크기 설정\n",
    "batch_size = 10000  # 예시: 한 번에 10,000개의 샘플을 처리\n",
    "\n",
    "# 결과 저장 리스트\n",
    "bio_change_points_all = {col: [] for col in bio_columns}\n",
    "gyro_change_points_all = {col: [] for col in gyro_columns}\n",
    "\n",
    "# 데이터 배치 처리 함수\n",
    "def batch_change_point_detection(data, columns, batch_size, model=\"l2\", pen=3):\n",
    "    num_batches = len(data) // batch_size + (1 if len(data) % batch_size != 0 else 0)\n",
    "    change_points_all = {col: [] for col in columns}\n",
    "    \n",
    "    for i in range(num_batches):\n",
    "        start = i * batch_size\n",
    "        end = start + batch_size\n",
    "        batch_data = data[start:end]\n",
    "        \n",
    "        for col in columns:\n",
    "            change_points = detect_change_points(batch_data[col].values, model=model, pen=pen)\n",
    "            # 배치의 인덱스 보정\n",
    "            change_points = [cp + start for cp in change_points if cp + start < len(data)]\n",
    "            change_points_all[col].extend(change_points)\n",
    "\n",
    "    return change_points_all\n",
    "\n",
    "# 생체 데이터 배치 처리\n",
    "bio_change_points_all = batch_change_point_detection(bio_data, bio_columns, batch_size)\n",
    "\n",
    "# 자이로 데이터 배치 처리\n",
    "gyro_change_points_all = batch_change_point_detection(gyro_data, gyro_columns, batch_size)\n",
    "\n",
    "# 결과 출력\n",
    "print(\"Bio_Data Change Points:\")\n",
    "for col, points in bio_change_points_all.items():\n",
    "    print(f\"{col}: {points}\")\n",
    "\n",
    "print(\"\\nGyro_Data Change Points:\")\n",
    "for col, points in gyro_change_points_all.items():\n",
    "    print(f\"{col}: {points}\")"
   ]
  },
  {
   "cell_type": "markdown",
   "metadata": {},
   "source": [
    "### **변화점 탐지 결과 해석 및 기준 설정**\n",
    "***\n",
    "> 변화점 리스트: 각 변수에 대해 변화점이 감지된 시점의 인덱스가 리스트로 출력\n",
    ">                예를 들어, `Heartbeat`에서 `[100, 250, 400]`과 같은 결과가 나온다면, 해당 인덱스에서\n",
    ">                데이터의 패턴이 변화했다는 것을 의미\n",
    "\n",
    "> 모델 및 패널티 설정: `penalty` 값을 조정하여 더 많은 또는 적은 변화점을 탐지 가능\n",
    ">                      기본값으로 `3`을 사용했지만, 데이터를 기반으로 적절한 값을 실험적으로 조정해야 함\n",
    ">                      모델은 `l2`, `rbf`, `linear`, `normal`, `ar` 등을 사용할 수 있습니다."
   ]
  },
  {
   "cell_type": "markdown",
   "metadata": {},
   "source": [
    "### **결과 시각화**"
   ]
  },
  {
   "cell_type": "code",
   "execution_count": 11,
   "metadata": {},
   "outputs": [
    {
     "ename": "NameError",
     "evalue": "name 'bio_change_points' is not defined",
     "output_type": "error",
     "traceback": [
      "\u001b[1;31m---------------------------------------------------------------------------\u001b[0m",
      "\u001b[1;31mNameError\u001b[0m                                 Traceback (most recent call last)",
      "Cell \u001b[1;32mIn[11], line 13\u001b[0m\n\u001b[0;32m     11\u001b[0m \u001b[38;5;66;03m# Bio 데이터 시각화\u001b[39;00m\n\u001b[0;32m     12\u001b[0m \u001b[38;5;28;01mfor\u001b[39;00m col \u001b[38;5;129;01min\u001b[39;00m bio_columns:\n\u001b[1;32m---> 13\u001b[0m     plot_change_points(bio_data[col]\u001b[38;5;241m.\u001b[39mvalues, \u001b[43mbio_change_points\u001b[49m[col], \u001b[38;5;124mf\u001b[39m\u001b[38;5;124m\"\u001b[39m\u001b[38;5;124mChange Points in \u001b[39m\u001b[38;5;132;01m{\u001b[39;00mcol\u001b[38;5;132;01m}\u001b[39;00m\u001b[38;5;124m\"\u001b[39m)\n\u001b[0;32m     15\u001b[0m \u001b[38;5;66;03m# Gyro 데이터 시각화\u001b[39;00m\n\u001b[0;32m     16\u001b[0m \u001b[38;5;28;01mfor\u001b[39;00m col \u001b[38;5;129;01min\u001b[39;00m gyro_columns:\n",
      "\u001b[1;31mNameError\u001b[0m: name 'bio_change_points' is not defined"
     ]
    }
   ],
   "source": [
    "# 각 컬럼에 대해 변화점 시각화\n",
    "def plot_change_points(data, change_points, title):\n",
    "    plt.figure(figsize=(10, 6))\n",
    "    plt.plot(data, label=\"Data\")\n",
    "    for cp in change_points:\n",
    "        plt.axvline(x=cp, color='r', linestyle='--')\n",
    "    plt.title(title)\n",
    "    plt.legend()\n",
    "    plt.show()\n",
    "\n",
    "# Bio 데이터 시각화\n",
    "for col in bio_columns:\n",
    "    plot_change_points(bio_data[col].values, bio_change_points[col], f\"Change Points in {col}\")\n",
    "\n",
    "# Gyro 데이터 시각화\n",
    "for col in gyro_columns:\n",
    "    plot_change_points(gyro_data[col].values, gyro_change_points[col], f\"Change Points in {col}\")"
   ]
  },
  {
   "cell_type": "markdown",
   "metadata": {},
   "source": [
    "### **기준 설정**\n",
    "***\n",
    "> 변화점 탐지 결과를 분석하여 적절한 기준을 설정\n",
    "> 예를 들어, 특정 시간 동안 발생한 변화점의 빈도나 특정 변화가 발생하는 시점 등을 기준으로 정의"
   ]
  },
  {
   "cell_type": "markdown",
   "metadata": {},
   "source": [
    "### 추가 조정\n",
    "***\n",
    "> 필요에 따라 패널티 값, 모델 유형 등을 조정하면서 적절한 변화를 포착할 수 있는 기준을 설정하고 이를 바탕으로 후속 분석을 진행\n",
    "> \n",
    "> 이 과정으로 전체 데이터를 사용해 변화점 탐지를 수행하고, 적절한 기준을 설정 가능"
   ]
  },
  {
   "cell_type": "code",
   "execution_count": null,
   "metadata": {},
   "outputs": [],
   "source": []
  }
 ],
 "metadata": {
  "colab": {
   "provenance": []
  },
  "kernelspec": {
   "display_name": "Python 3 (ipykernel)",
   "language": "python",
   "name": "python3"
  },
  "language_info": {
   "codemirror_mode": {
    "name": "ipython",
    "version": 3
   },
   "file_extension": ".py",
   "mimetype": "text/x-python",
   "name": "python",
   "nbconvert_exporter": "python",
   "pygments_lexer": "ipython3",
   "version": "3.10.14"
  }
 },
 "nbformat": 4,
 "nbformat_minor": 4
}
