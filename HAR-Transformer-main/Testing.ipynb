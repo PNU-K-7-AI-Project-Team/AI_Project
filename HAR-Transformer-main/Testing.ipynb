{
 "cells": [
  {
   "cell_type": "markdown",
   "metadata": {
    "id": "VhQSb7PdZznG"
   },
   "source": [
    "# Sequence-to-sequence activity recognition"
   ]
  },
  {
   "cell_type": "code",
   "execution_count": 1,
   "metadata": {
    "id": "VSncNSHtZznI"
   },
   "outputs": [],
   "source": [
    "from tensorflow.keras.layers import (\n",
    "    Add,\n",
    "    Dense,\n",
    "    Dropout,\n",
    "    MultiHeadAttention,\n",
    "    LayerNormalization,\n",
    "    Layer,\n",
    "    Normalization,\n",
    ")\n",
    "from tensorflow.keras import Model\n",
    "from tensorflow.keras.initializers import TruncatedNormal\n",
    "from sklearn.metrics import (\n",
    "    classification_report,\n",
    "    confusion_matrix,\n",
    "    ConfusionMatrixDisplay,\n",
    ")\n",
    "from sklearn.model_selection import train_test_split\n",
    "\n",
    "import numpy as np\n",
    "import pandas as pd\n",
    "import tensorflow as tf\n",
    "import seaborn as sns\n",
    "import matplotlib.pyplot as plt\n"
   ]
  },
  {
   "cell_type": "markdown",
   "metadata": {
    "id": "-mGp0L3_ZznL"
   },
   "source": [
    "## Layer"
   ]
  },
  {
   "cell_type": "code",
   "execution_count": 2,
   "metadata": {
    "id": "0lFGhNtyZznL"
   },
   "outputs": [],
   "source": [
    "class PositionalEmbedding(Layer):\n",
    "    def __init__(self, units, dropout_rate, **kwargs):\n",
    "        super(PositionalEmbedding, self).__init__(**kwargs)\n",
    "\n",
    "        self.units = units\n",
    "\n",
    "        self.projection = Dense(units, kernel_initializer=TruncatedNormal(stddev=0.02))\n",
    "\n",
    "        self.dropout = Dropout(rate=dropout_rate)\n",
    "\n",
    "    def build(self, input_shape):\n",
    "        super(PositionalEmbedding, self).build(input_shape)\n",
    "\n",
    "        self.position = self.add_weight(\n",
    "            name=\"position\",\n",
    "            shape=(1, input_shape[1], self.units),\n",
    "            initializer=TruncatedNormal(stddev=0.02),\n",
    "            trainable=True,\n",
    "        )\n",
    "\n",
    "    def call(self, inputs, training):\n",
    "        x = self.projection(inputs)\n",
    "        x = x + self.position\n",
    "\n",
    "        return self.dropout(x, training=training)\n"
   ]
  },
  {
   "cell_type": "code",
   "execution_count": 3,
   "metadata": {
    "id": "PIwd6GlIZznM"
   },
   "outputs": [],
   "source": [
    "class Encoder(Layer):\n",
    "    def __init__(\n",
    "        self,\n",
    "        embed_dim,\n",
    "        mlp_dim,\n",
    "        num_heads,\n",
    "        dropout_rate,\n",
    "        attention_dropout_rate,\n",
    "        **kwargs\n",
    "    ):\n",
    "        super(Encoder, self).__init__(**kwargs)\n",
    "\n",
    "        self.mha = MultiHeadAttention(\n",
    "            num_heads=num_heads,\n",
    "            key_dim=embed_dim,\n",
    "            dropout=attention_dropout_rate,\n",
    "            kernel_initializer=TruncatedNormal(stddev=0.02),\n",
    "        )\n",
    "\n",
    "        self.dense_0 = Dense(\n",
    "            units=mlp_dim,\n",
    "            activation=\"gelu\",\n",
    "            kernel_initializer=TruncatedNormal(stddev=0.02),\n",
    "        )\n",
    "        self.dense_1 = Dense(\n",
    "            units=embed_dim, kernel_initializer=TruncatedNormal(stddev=0.02)\n",
    "        )\n",
    "\n",
    "        self.dropout_0 = Dropout(rate=dropout_rate)\n",
    "        self.dropout_1 = Dropout(rate=dropout_rate)\n",
    "\n",
    "        self.norm_0 = LayerNormalization(epsilon=1e-5)\n",
    "        self.norm_1 = LayerNormalization(epsilon=1e-5)\n",
    "\n",
    "        self.add_0 = Add()\n",
    "        self.add_1 = Add()\n",
    "\n",
    "    def call(self, inputs, training):\n",
    "        # Attention block\n",
    "        x = self.norm_0(inputs)\n",
    "        x, attn = self.mha(\n",
    "            query=x,\n",
    "            value=x,\n",
    "            key=x,\n",
    "            return_attention_scores=True,\n",
    "            training=training,\n",
    "        )\n",
    "        x = self.dropout_0(x, training=training)\n",
    "        x = self.add_0([x, inputs])\n",
    "\n",
    "        # MLP block\n",
    "        y = self.norm_1(x)\n",
    "        y = self.dense_0(y)\n",
    "        y = self.dense_1(y)\n",
    "        y = self.dropout_1(y, training=training)\n",
    "\n",
    "        return self.add_1([x, y]), attn\n"
   ]
  },
  {
   "cell_type": "markdown",
   "metadata": {
    "id": "YRQTRP60ZznN"
   },
   "source": [
    "## Model"
   ]
  },
  {
   "cell_type": "code",
   "execution_count": 4,
   "metadata": {
    "id": "UYEKK7pYZznN"
   },
   "outputs": [],
   "source": [
    "class Transformer(Model):\n",
    "    def __init__(\n",
    "        self,\n",
    "        num_layers,\n",
    "        embed_dim,\n",
    "        mlp_dim,\n",
    "        num_heads,\n",
    "        num_classes,\n",
    "        dropout_rate,\n",
    "        attention_dropout_rate,\n",
    "        **kwargs\n",
    "    ):\n",
    "        super(Transformer, self).__init__(**kwargs)\n",
    "\n",
    "        # Input (normalization of RAW measurements)\n",
    "        self.input_norm = Normalization()\n",
    "\n",
    "        # Input\n",
    "        self.pos_embs = PositionalEmbedding(embed_dim, dropout_rate)\n",
    "\n",
    "        # Encoder\n",
    "        self.e_layers = [\n",
    "            Encoder(embed_dim, mlp_dim, num_heads, dropout_rate, attention_dropout_rate)\n",
    "            for _ in range(num_layers)\n",
    "        ]\n",
    "\n",
    "        # Output\n",
    "        self.norm = LayerNormalization(epsilon=1e-5)\n",
    "        self.final_layer = Dense(num_classes, kernel_initializer=\"zeros\")\n",
    "\n",
    "    def call(self, inputs, training):\n",
    "        x = self.input_norm(inputs)\n",
    "        x = self.pos_embs(x, training=training)\n",
    "\n",
    "        for layer in self.e_layers:\n",
    "            x, attn = layer(x, training=training)\n",
    "\n",
    "        x = self.norm(x)\n",
    "        x = self.final_layer(x)\n",
    "\n",
    "        return x, attn\n"
   ]
  },
  {
   "cell_type": "markdown",
   "metadata": {
    "id": "7dIynjZAZznP"
   },
   "source": [
    "## Dataset"
   ]
  },
  {
   "cell_type": "code",
   "execution_count": 5,
   "metadata": {
    "colab": {
     "base_uri": "https://localhost:8080/"
    },
    "id": "4GkimkgOZznP",
    "outputId": "be2dc228-dbd6-4460-cfcd-2e1a8cb08a22"
   },
   "outputs": [
    {
     "name": "stdout",
     "output_type": "stream",
     "text": [
      "(60060, 300, 6) (60060, 300)\n",
      "(12470, 300, 6) (12470, 300)\n",
      "(10599, 300, 6) (10599, 300)\n"
     ]
    }
   ],
   "source": [
    "CLASS_LABELS = np.array(\n",
    "    [\n",
    "        \"Stand\",\n",
    "        \"Sit\",\n",
    "        \"Talk-sit\",\n",
    "        \"Talk-stand\",\n",
    "        \"Stand-sit\",\n",
    "        \"Lay\",\n",
    "        \"Lay-stand\",\n",
    "        \"Pick\",\n",
    "        \"Jump\",\n",
    "        \"Push-up\",\n",
    "        \"Sit-up\",\n",
    "        \"Walk\",\n",
    "        \"Walk-backward\",\n",
    "        \"Walk-circle\",\n",
    "        \"Run\",\n",
    "        \"Stair-up\",\n",
    "        \"Stair-down\",\n",
    "        \"Table-tennis\",\n",
    "    ]\n",
    ")\n",
    "\n",
    "# load dataset\n",
    "f = np.load(\"./dataset/new_dataset.npz\")\n",
    "signals = f[\"signals\"]\n",
    "labels = f[\"labels\"]\n",
    "\n",
    "# split to train-test\n",
    "X_train, X_test, y_train, y_test = train_test_split(\n",
    "    signals, labels, test_size=0.15, random_state=9, stratify=labels\n",
    ")\n",
    "X_train, X_val, y_train, y_val = train_test_split(\n",
    "    X_train, y_train, test_size=0.15, random_state=9, stratify=y_train\n",
    ")\n",
    "print(X_train.shape, y_train.shape)\n",
    "print(X_test.shape, y_test.shape)\n",
    "print(X_val.shape, y_val.shape)\n"
   ]
  },
  {
   "cell_type": "code",
   "execution_count": 6,
   "metadata": {
    "colab": {
     "base_uri": "https://localhost:8080/",
     "height": 1000
    },
    "id": "RSXjG7qHZznQ",
    "outputId": "e6cc81f8-fc51-4a60-ae1d-62a6130ab67f"
   },
   "outputs": [
    {
     "data": {
      "image/png": "[encoded data removed]",
      "text/plain": [
       "<Figure size 800x800 with 1 Axes>"
      ]
     },
     "metadata": {},
     "output_type": "display_data"
    }
   ],
   "source": [
    "plt.figure(figsize=(10, 10), dpi=80)\n",
    "\n",
    "total_counts = labels.shape[0] * labels.shape[1]\n",
    "unique, all_counts = np.unique(labels, return_counts=True)\n",
    "chart = plt.bar(CLASS_LABELS[unique], all_counts)\n",
    "plt.xticks(rotation=70)\n",
    "\n",
    "unique, counts = np.unique(y_train, return_counts=True)\n",
    "plt.bar(CLASS_LABELS[unique], counts)\n",
    "plt.xticks(rotation=70)\n",
    "\n",
    "unique, counts = np.unique(y_test, return_counts=True)\n",
    "plt.bar(CLASS_LABELS[unique], counts)\n",
    "plt.xticks(rotation=70)\n",
    "\n",
    "unique, counts = np.unique(y_val, return_counts=True)\n",
    "plt.bar(CLASS_LABELS[unique], counts)\n",
    "plt.xticks(rotation=70)\n",
    "\n",
    "for i, p in enumerate(chart):\n",
    "    width = p.get_width()\n",
    "    height = p.get_height()\n",
    "    x, y = p.get_xy()\n",
    "    plt.text(\n",
    "        x + width / 2,\n",
    "        y + height * 1.01,\n",
    "        str(round((all_counts[i] * 100) / total_counts, 1)) + \"%\",\n",
    "        ha=\"center\",\n",
    "        weight=\"bold\",\n",
    "    )\n",
    "\n",
    "plt.legend([\"All\", \"Train\", \"Test\", \"Validation\"])\n",
    "plt.show()\n"
   ]
  },
  {
   "cell_type": "markdown",
   "metadata": {},
   "source": [
    "## Create model"
   ]
  },
  {
   "cell_type": "code",
   "execution_count": 7,
   "metadata": {},
   "outputs": [],
   "source": [
    "# Generate new model\n",
    "model = Transformer(\n",
    "    num_layers=3,\n",
    "    embed_dim=128,\n",
    "    mlp_dim=256,\n",
    "    num_heads=6,\n",
    "    num_classes=18,\n",
    "    dropout_rate=0.0,\n",
    "    attention_dropout_rate=0.0,\n",
    ")\n"
   ]
  },
  {
   "cell_type": "code",
   "execution_count": 8,
   "metadata": {
    "colab": {
     "base_uri": "https://localhost:8080/",
     "height": 1000
    },
    "id": "1f_2qw0iZznR",
    "outputId": "465a3b4e-1478-4022-a508-002c68c2eb2d"
   },
   "outputs": [
    {
     "ename": "TypeError",
     "evalue": "missing a required argument: 'training'",
     "output_type": "error",
     "traceback": [
      "\u001b[1;31m---------------------------------------------------------------------------\u001b[0m",
      "\u001b[1;31mTypeError\u001b[0m                                 Traceback (most recent call last)",
      "Cell \u001b[1;32mIn[8], line 3\u001b[0m\n\u001b[0;32m      1\u001b[0m batch_id \u001b[38;5;241m=\u001b[39m \u001b[38;5;241m20\u001b[39m\n\u001b[1;32m----> 3\u001b[0m out, attn \u001b[38;5;241m=\u001b[39m \u001b[43mmodel\u001b[49m\u001b[43m(\u001b[49m\u001b[43mtf\u001b[49m\u001b[38;5;241;43m.\u001b[39;49m\u001b[43mexpand_dims\u001b[49m\u001b[43m(\u001b[49m\u001b[43mX_test\u001b[49m\u001b[43m[\u001b[49m\u001b[43mbatch_id\u001b[49m\u001b[43m]\u001b[49m\u001b[43m,\u001b[49m\u001b[43m \u001b[49m\u001b[43maxis\u001b[49m\u001b[38;5;241;43m=\u001b[39;49m\u001b[38;5;241;43m0\u001b[39;49m\u001b[43m)\u001b[49m\u001b[43m)\u001b[49m\n\u001b[0;32m      4\u001b[0m \u001b[38;5;28mprint\u001b[39m(out\u001b[38;5;241m.\u001b[39mshape, attn\u001b[38;5;241m.\u001b[39mshape)\n\u001b[0;32m      6\u001b[0m \u001b[38;5;28;01mfor\u001b[39;00m i \u001b[38;5;129;01min\u001b[39;00m \u001b[38;5;28mrange\u001b[39m(attn\u001b[38;5;241m.\u001b[39mshape[\u001b[38;5;241m1\u001b[39m]):\n",
      "File \u001b[1;32m~\\anaconda3\\envs\\ai-project\\lib\\site-packages\\keras\\src\\utils\\traceback_utils.py:122\u001b[0m, in \u001b[0;36mfilter_traceback.<locals>.error_handler\u001b[1;34m(*args, **kwargs)\u001b[0m\n\u001b[0;32m    119\u001b[0m     filtered_tb \u001b[38;5;241m=\u001b[39m _process_traceback_frames(e\u001b[38;5;241m.\u001b[39m__traceback__)\n\u001b[0;32m    120\u001b[0m     \u001b[38;5;66;03m# To get the full stack trace, call:\u001b[39;00m\n\u001b[0;32m    121\u001b[0m     \u001b[38;5;66;03m# `keras.config.disable_traceback_filtering()`\u001b[39;00m\n\u001b[1;32m--> 122\u001b[0m     \u001b[38;5;28;01mraise\u001b[39;00m e\u001b[38;5;241m.\u001b[39mwith_traceback(filtered_tb) \u001b[38;5;28;01mfrom\u001b[39;00m \u001b[38;5;28;01mNone\u001b[39;00m\n\u001b[0;32m    123\u001b[0m \u001b[38;5;28;01mfinally\u001b[39;00m:\n\u001b[0;32m    124\u001b[0m     \u001b[38;5;28;01mdel\u001b[39;00m filtered_tb\n",
      "File \u001b[1;32m~\\anaconda3\\envs\\ai-project\\lib\\inspect.py:3186\u001b[0m, in \u001b[0;36mSignature.bind\u001b[1;34m(self, *args, **kwargs)\u001b[0m\n\u001b[0;32m   3181\u001b[0m \u001b[38;5;28;01mdef\u001b[39;00m \u001b[38;5;21mbind\u001b[39m(\u001b[38;5;28mself\u001b[39m, \u001b[38;5;241m/\u001b[39m, \u001b[38;5;241m*\u001b[39margs, \u001b[38;5;241m*\u001b[39m\u001b[38;5;241m*\u001b[39mkwargs):\n\u001b[0;32m   3182\u001b[0m \u001b[38;5;250m    \u001b[39m\u001b[38;5;124;03m\"\"\"Get a BoundArguments object, that maps the passed `args`\u001b[39;00m\n\u001b[0;32m   3183\u001b[0m \u001b[38;5;124;03m    and `kwargs` to the function's signature.  Raises `TypeError`\u001b[39;00m\n\u001b[0;32m   3184\u001b[0m \u001b[38;5;124;03m    if the passed arguments can not be bound.\u001b[39;00m\n\u001b[0;32m   3185\u001b[0m \u001b[38;5;124;03m    \"\"\"\u001b[39;00m\n\u001b[1;32m-> 3186\u001b[0m     \u001b[38;5;28;01mreturn\u001b[39;00m \u001b[38;5;28;43mself\u001b[39;49m\u001b[38;5;241;43m.\u001b[39;49m\u001b[43m_bind\u001b[49m\u001b[43m(\u001b[49m\u001b[43margs\u001b[49m\u001b[43m,\u001b[49m\u001b[43m \u001b[49m\u001b[43mkwargs\u001b[49m\u001b[43m)\u001b[49m\n",
      "File \u001b[1;32m~\\anaconda3\\envs\\ai-project\\lib\\inspect.py:3101\u001b[0m, in \u001b[0;36mSignature._bind\u001b[1;34m(self, args, kwargs, partial)\u001b[0m\n\u001b[0;32m   3099\u001b[0m                 msg \u001b[38;5;241m=\u001b[39m \u001b[38;5;124m'\u001b[39m\u001b[38;5;124mmissing a required argument: \u001b[39m\u001b[38;5;132;01m{arg!r}\u001b[39;00m\u001b[38;5;124m'\u001b[39m\n\u001b[0;32m   3100\u001b[0m                 msg \u001b[38;5;241m=\u001b[39m msg\u001b[38;5;241m.\u001b[39mformat(arg\u001b[38;5;241m=\u001b[39mparam\u001b[38;5;241m.\u001b[39mname)\n\u001b[1;32m-> 3101\u001b[0m                 \u001b[38;5;28;01mraise\u001b[39;00m \u001b[38;5;167;01mTypeError\u001b[39;00m(msg) \u001b[38;5;28;01mfrom\u001b[39;00m \u001b[38;5;28;01mNone\u001b[39;00m\n\u001b[0;32m   3102\u001b[0m \u001b[38;5;28;01melse\u001b[39;00m:\n\u001b[0;32m   3103\u001b[0m     \u001b[38;5;66;03m# We have a positional argument to process\u001b[39;00m\n\u001b[0;32m   3104\u001b[0m     \u001b[38;5;28;01mtry\u001b[39;00m:\n",
      "\u001b[1;31mTypeError\u001b[0m: missing a required argument: 'training'"
     ]
    }
   ],
   "source": [
    "batch_id = 20\n",
    "\n",
    "out, attn = model(tf.expand_dims(X_test[batch_id], axis=0))\n",
    "print(out.shape, attn.shape)\n",
    "\n",
    "for i in range(attn.shape[1]):\n",
    "    plt.figure()\n",
    "    ax = sns.heatmap(attn[0, i])\n",
    "    ax.set_title(\n",
    "        f\"Attention heatmap for {i}-th head - {CLASS_LABELS[np.unique(y_test[batch_id])]}\"\n",
    "    )\n",
    "    ax.set_xlabel(\"Timestep\")\n",
    "    ax.set_ylabel(\"Timestep\")\n",
    "\n"
   ]
  },
  {
   "cell_type": "markdown",
   "metadata": {},
   "source": [
    "## Visualize position"
   ]
  },
  {
   "cell_type": "code",
   "execution_count": null,
   "metadata": {},
   "outputs": [],
   "source": [
    "similarity_scores = np.dot(\n",
    "    model.pos_embs.position[0], np.transpose(model.pos_embs.position[0])\n",
    ") / (\n",
    "    np.linalg.norm(model.pos_embs.position[0], axis=-1)\n",
    "    * np.linalg.norm(model.pos_embs.position[0], axis=-1)\n",
    ")\n",
    "\n",
    "\n",
    "plt.figure()\n",
    "ax = sns.heatmap(similarity_scores, center=0)\n",
    "ax.set_title(\"Positional Embedding\")\n",
    "ax.set_xlabel(\"Timestep\")\n",
    "ax.set_ylabel(\"Timestep\")\n"
   ]
  },
  {
   "cell_type": "code",
   "execution_count": null,
   "metadata": {
    "colab": {
     "base_uri": "https://localhost:8080/"
    },
    "id": "SS8b_jANZznS",
    "outputId": "02e76ffe-c868-4a62-e4c3-09f93baf714c"
   },
   "outputs": [],
   "source": [
    "model.summary()\n"
   ]
  },
  {
   "cell_type": "markdown",
   "metadata": {},
   "source": [
    "## Load trained model"
   ]
  },
  {
   "cell_type": "code",
   "execution_count": null,
   "metadata": {},
   "outputs": [],
   "source": [
    "model.load_weights(\"./save/model-best.h5\")\n"
   ]
  },
  {
   "cell_type": "code",
   "execution_count": null,
   "metadata": {},
   "outputs": [],
   "source": [
    "batch_id = 75\n",
    "\n",
    "out, attn = model(tf.expand_dims(X_test[batch_id], axis=0))\n",
    "print(out.shape, attn.shape)\n",
    "\n",
    "for i in range(attn.shape[1]):\n",
    "    plt.figure()\n",
    "    ax = sns.heatmap(attn[0, i])\n",
    "    ax.set_title(\n",
    "        f\"Attention heatmap for {i}-th head - {CLASS_LABELS[np.unique(y_test[batch_id])]}\"\n",
    "    )\n",
    "    ax.set_xlabel(\"Timestep\")\n",
    "    ax.set_ylabel(\"Timestep\")\n"
   ]
  },
  {
   "cell_type": "markdown",
   "metadata": {},
   "source": [
    "## Visualize position"
   ]
  },
  {
   "cell_type": "code",
   "execution_count": null,
   "metadata": {},
   "outputs": [],
   "source": [
    "similarity_scores = np.dot(\n",
    "    model.pos_embs.position[0], np.transpose(model.pos_embs.position[0])\n",
    ") / (\n",
    "    np.linalg.norm(model.pos_embs.position[0], axis=-1)\n",
    "    * np.linalg.norm(model.pos_embs.position[0], axis=-1)\n",
    ")\n",
    "\n",
    "\n",
    "plt.figure()\n",
    "ax = sns.heatmap(similarity_scores, center=0)\n",
    "ax.set_title(\"Position embedding similarity\")\n",
    "ax.set_xlabel(\"Timestep\")\n",
    "ax.set_ylabel(\"Timestep\")\n"
   ]
  },
  {
   "cell_type": "code",
   "execution_count": null,
   "metadata": {},
   "outputs": [],
   "source": [
    "def get_predictions(start, end):\n",
    "    out, attn = model(X_test[start:end])\n",
    "    predictions = np.argmax(out, axis=-1)\n",
    "\n",
    "    return predictions, attn\n",
    "\n",
    "\n",
    "batch_size = 256  # set it by your GPU size\n",
    "\n",
    "full_predictions = []\n",
    "for i in range(X_test.shape[0] // batch_size):\n",
    "    y, _ = get_predictions(i * batch_size, (i + 1) * batch_size)\n",
    "    full_predictions.append(y)\n",
    "\n",
    "y, attn = get_predictions((i + 1) * batch_size, X_test.shape[0])\n",
    "full_predictions.append(y)\n",
    "\n",
    "full_predictions = np.concatenate(full_predictions, axis=0)\n",
    "print(full_predictions.shape)\n",
    "\n",
    "full_predictions = full_predictions.reshape(-1, full_predictions.shape[-1])\n",
    "print(full_predictions.shape)\n"
   ]
  },
  {
   "cell_type": "markdown",
   "metadata": {},
   "source": [
    "## Confusion Matrix"
   ]
  },
  {
   "cell_type": "code",
   "execution_count": null,
   "metadata": {},
   "outputs": [],
   "source": [
    "fig, ax = plt.subplots(figsize=(15, 15))\n",
    "cm = confusion_matrix(\n",
    "    CLASS_LABELS[y_test.reshape(-1)],\n",
    "    CLASS_LABELS[full_predictions.reshape(-1)],\n",
    "    labels=CLASS_LABELS,\n",
    ")\n",
    "cm_display = ConfusionMatrixDisplay(\n",
    "    confusion_matrix=cm, display_labels=CLASS_LABELS\n",
    ").plot(cmap=\"Blues\", xticks_rotation=70, ax=ax)\n",
    "\n",
    "print(\n",
    "    classification_report(\n",
    "        CLASS_LABELS[y_test.reshape(-1)],\n",
    "        CLASS_LABELS[full_predictions.reshape(-1)],\n",
    "        labels=CLASS_LABELS,\n",
    "        digits=3,\n",
    "    )\n",
    ")\n"
   ]
  },
  {
   "cell_type": "markdown",
   "metadata": {},
   "source": [
    "## Profiler"
   ]
  },
  {
   "cell_type": "code",
   "execution_count": null,
   "metadata": {},
   "outputs": [],
   "source": [
    "@tf.function\n",
    "def xy():\n",
    "    out, attn = model(X_test[0])\n",
    "\n",
    "# You can also do that in Python API.\n",
    "tf.compat.v1.profiler.profile(\n",
    "    xy.get_concrete_function().graph,\n",
    "    options=tf.compat.v1.profiler.ProfileOptionBuilder.float_operation())\n"
   ]
  }
 ],
 "metadata": {
  "accelerator": "GPU",
  "colab": {
   "collapsed_sections": [
    "BDm49HWfZznT"
   ],
   "name": "Training.ipynb",
   "provenance": []
  },
  "interpreter": {
   "hash": "9185113d2128201d66faecd4f34fb34e89a635073a034991399523e584519355"
  },
  "kernelspec": {
   "display_name": "Python 3 (ipykernel)",
   "language": "python",
   "name": "python3"
  },
  "language_info": {
   "codemirror_mode": {
    "name": "ipython",
    "version": 3
   },
   "file_extension": ".py",
   "mimetype": "text/x-python",
   "name": "python",
   "nbconvert_exporter": "python",
   "pygments_lexer": "ipython3",
   "version": "3.10.13"
  },
  "widgets": {
   "application/vnd.jupyter.widget-state+json": {
    "11827ee3d1594b9d8b28519d40b720ec": {
     "model_module": "@jupyter-widgets/base",
     "model_module_version": "1.2.0",
     "model_name": "LayoutModel",
     "state": {
      "_model_module": "@jupyter-widgets/base",
      "_model_module_version": "1.2.0",
      "_model_name": "LayoutModel",
      "_view_count": null,
      "_view_module": "@jupyter-widgets/base",
      "_view_module_version": "1.2.0",
      "_view_name": "LayoutView",
      "align_content": null,
      "align_items": null,
      "align_self": null,
      "border": null,
      "bottom": null,
      "display": null,
      "flex": null,
      "flex_flow": null,
      "grid_area": null,
      "grid_auto_columns": null,
      "grid_auto_flow": null,
      "grid_auto_rows": null,
      "grid_column": null,
      "grid_gap": null,
      "grid_row": null,
      "grid_template_areas": null,
      "grid_template_columns": null,
      "grid_template_rows": null,
      "height": null,
      "justify_content": null,
      "justify_items": null,
      "left": null,
      "margin": null,
      "max_height": null,
      "max_width": null,
      "min_height": null,
      "min_width": null,
      "object_fit": null,
      "object_position": null,
      "order": null,
      "overflow": null,
      "overflow_x": null,
      "overflow_y": null,
      "padding": null,
      "right": null,
      "top": null,
      "visibility": null,
      "width": null
     }
    },
    "2785f78e15d04ab8b980a715227aa955": {
     "model_module": "@jupyter-widgets/controls",
     "model_module_version": "1.5.0",
     "model_name": "DescriptionStyleModel",
     "state": {
      "_model_module": "@jupyter-widgets/controls",
      "_model_module_version": "1.5.0",
      "_model_name": "DescriptionStyleModel",
      "_view_count": null,
      "_view_module": "@jupyter-widgets/base",
      "_view_module_version": "1.2.0",
      "_view_name": "StyleView",
      "description_width": ""
     }
    },
    "5d47218e4b9f413cb4e1259089305cd3": {
     "model_module": "@jupyter-widgets/controls",
     "model_module_version": "1.5.0",
     "model_name": "ProgressStyleModel",
     "state": {
      "_model_module": "@jupyter-widgets/controls",
      "_model_module_version": "1.5.0",
      "_model_name": "ProgressStyleModel",
      "_view_count": null,
      "_view_module": "@jupyter-widgets/base",
      "_view_module_version": "1.2.0",
      "_view_name": "StyleView",
      "bar_color": null,
      "description_width": ""
     }
    },
    "6cc141a992244e8eb966ad4f0b271610": {
     "model_module": "@jupyter-widgets/controls",
     "model_module_version": "1.5.0",
     "model_name": "LabelModel",
     "state": {
      "_dom_classes": [],
      "_model_module": "@jupyter-widgets/controls",
      "_model_module_version": "1.5.0",
      "_model_name": "LabelModel",
      "_view_count": null,
      "_view_module": "@jupyter-widgets/controls",
      "_view_module_version": "1.5.0",
      "_view_name": "LabelView",
      "description": "",
      "description_tooltip": null,
      "layout": "IPY_MODEL_7bb86caafdc0430894bcc3e5afea8767",
      "placeholder": "​",
      "style": "IPY_MODEL_2785f78e15d04ab8b980a715227aa955",
      "value": " 0.02MB of 0.02MB uploaded (0.00MB deduped)\r"
     }
    },
    "73ea637e1bce4b1ca9025326c76e36b5": {
     "model_module": "@jupyter-widgets/controls",
     "model_module_version": "1.5.0",
     "model_name": "FloatProgressModel",
     "state": {
      "_dom_classes": [],
      "_model_module": "@jupyter-widgets/controls",
      "_model_module_version": "1.5.0",
      "_model_name": "FloatProgressModel",
      "_view_count": null,
      "_view_module": "@jupyter-widgets/controls",
      "_view_module_version": "1.5.0",
      "_view_name": "ProgressView",
      "bar_style": "",
      "description": "",
      "description_tooltip": null,
      "layout": "IPY_MODEL_11827ee3d1594b9d8b28519d40b720ec",
      "max": 1,
      "min": 0,
      "orientation": "horizontal",
      "style": "IPY_MODEL_5d47218e4b9f413cb4e1259089305cd3",
      "value": 1
     }
    },
    "76433530232b48308e9c1c455fc53f3d": {
     "model_module": "@jupyter-widgets/base",
     "model_module_version": "1.2.0",
     "model_name": "LayoutModel",
     "state": {
      "_model_module": "@jupyter-widgets/base",
      "_model_module_version": "1.2.0",
      "_model_name": "LayoutModel",
      "_view_count": null,
      "_view_module": "@jupyter-widgets/base",
      "_view_module_version": "1.2.0",
      "_view_name": "LayoutView",
      "align_content": null,
      "align_items": null,
      "align_self": null,
      "border": null,
      "bottom": null,
      "display": null,
      "flex": null,
      "flex_flow": null,
      "grid_area": null,
      "grid_auto_columns": null,
      "grid_auto_flow": null,
      "grid_auto_rows": null,
      "grid_column": null,
      "grid_gap": null,
      "grid_row": null,
      "grid_template_areas": null,
      "grid_template_columns": null,
      "grid_template_rows": null,
      "height": null,
      "justify_content": null,
      "justify_items": null,
      "left": null,
      "margin": null,
      "max_height": null,
      "max_width": null,
      "min_height": null,
      "min_width": null,
      "object_fit": null,
      "object_position": null,
      "order": null,
      "overflow": null,
      "overflow_x": null,
      "overflow_y": null,
      "padding": null,
      "right": null,
      "top": null,
      "visibility": null,
      "width": null
     }
    },
    "7bb86caafdc0430894bcc3e5afea8767": {
     "model_module": "@jupyter-widgets/base",
     "model_module_version": "1.2.0",
     "model_name": "LayoutModel",
     "state": {
      "_model_module": "@jupyter-widgets/base",
      "_model_module_version": "1.2.0",
      "_model_name": "LayoutModel",
      "_view_count": null,
      "_view_module": "@jupyter-widgets/base",
      "_view_module_version": "1.2.0",
      "_view_name": "LayoutView",
      "align_content": null,
      "align_items": null,
      "align_self": null,
      "border": null,
      "bottom": null,
      "display": null,
      "flex": null,
      "flex_flow": null,
      "grid_area": null,
      "grid_auto_columns": null,
      "grid_auto_flow": null,
      "grid_auto_rows": null,
      "grid_column": null,
      "grid_gap": null,
      "grid_row": null,
      "grid_template_areas": null,
      "grid_template_columns": null,
      "grid_template_rows": null,
      "height": null,
      "justify_content": null,
      "justify_items": null,
      "left": null,
      "margin": null,
      "max_height": null,
      "max_width": null,
      "min_height": null,
      "min_width": null,
      "object_fit": null,
      "object_position": null,
      "order": null,
      "overflow": null,
      "overflow_x": null,
      "overflow_y": null,
      "padding": null,
      "right": null,
      "top": null,
      "visibility": null,
      "width": null
     }
    },
    "8d6be437de8a4e92a03ad8f92e5f8fad": {
     "model_module": "@jupyter-widgets/controls",
     "model_module_version": "1.5.0",
     "model_name": "VBoxModel",
     "state": {
      "_dom_classes": [],
      "_model_module": "@jupyter-widgets/controls",
      "_model_module_version": "1.5.0",
      "_model_name": "VBoxModel",
      "_view_count": null,
      "_view_module": "@jupyter-widgets/controls",
      "_view_module_version": "1.5.0",
      "_view_name": "VBoxView",
      "box_style": "",
      "children": [
       "IPY_MODEL_6cc141a992244e8eb966ad4f0b271610",
       "IPY_MODEL_73ea637e1bce4b1ca9025326c76e36b5"
      ],
      "layout": "IPY_MODEL_76433530232b48308e9c1c455fc53f3d"
     }
    }
   }
  }
 },
 "nbformat": 4,
 "nbformat_minor": 4
}
