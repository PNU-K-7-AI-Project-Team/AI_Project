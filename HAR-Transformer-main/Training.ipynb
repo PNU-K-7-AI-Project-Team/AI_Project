{
 "cells": [
  {
   "cell_type": "markdown",
   "metadata": {
    "id": "VhQSb7PdZznG"
   },
   "source": [
    "# Sequence-to-sequence activity recognition"
   ]
  },
  {
   "cell_type": "code",
   "execution_count": 1,
   "metadata": {
    "colab": {
     "base_uri": "https://localhost:8080/"
    },
    "id": "n2y0GYTdc-nY",
    "outputId": "8a4c97ee-752b-4ef3-a83d-e6da46c5f019"
   },
   "outputs": [
    {
     "name": "stdout",
     "output_type": "stream",
     "text": [
      "Requirement already satisfied: wandb in c:\\users\\user\\anaconda3\\envs\\ai-project\\lib\\site-packages (0.17.8)\n",
      "Requirement already satisfied: click!=8.0.0,>=7.1 in c:\\users\\user\\anaconda3\\envs\\ai-project\\lib\\site-packages (from wandb) (8.1.7)\n",
      "Requirement already satisfied: docker-pycreds>=0.4.0 in c:\\users\\user\\anaconda3\\envs\\ai-project\\lib\\site-packages (from wandb) (0.4.0)\n",
      "Requirement already satisfied: gitpython!=3.1.29,>=1.0.0 in c:\\users\\user\\anaconda3\\envs\\ai-project\\lib\\site-packages (from wandb) (3.1.43)\n",
      "Requirement already satisfied: platformdirs in c:\\users\\user\\anaconda3\\envs\\ai-project\\lib\\site-packages (from wandb) (4.2.2)\n",
      "Requirement already satisfied: protobuf!=4.21.0,<6,>=3.19.0 in c:\\users\\user\\anaconda3\\envs\\ai-project\\lib\\site-packages (from wandb) (4.25.4)\n",
      "Requirement already satisfied: psutil>=5.0.0 in c:\\users\\user\\anaconda3\\envs\\ai-project\\lib\\site-packages (from wandb) (6.0.0)\n",
      "Requirement already satisfied: pyyaml in c:\\users\\user\\anaconda3\\envs\\ai-project\\lib\\site-packages (from wandb) (6.0.2)\n",
      "Requirement already satisfied: requests<3,>=2.0.0 in c:\\users\\user\\anaconda3\\envs\\ai-project\\lib\\site-packages (from wandb) (2.32.3)\n",
      "Requirement already satisfied: sentry-sdk>=1.0.0 in c:\\users\\user\\anaconda3\\envs\\ai-project\\lib\\site-packages (from wandb) (2.13.0)\n",
      "Requirement already satisfied: setproctitle in c:\\users\\user\\anaconda3\\envs\\ai-project\\lib\\site-packages (from wandb) (1.3.3)\n",
      "Requirement already satisfied: setuptools in c:\\users\\user\\anaconda3\\envs\\ai-project\\lib\\site-packages (from wandb) (74.1.1)\n",
      "Requirement already satisfied: colorama in c:\\users\\user\\anaconda3\\envs\\ai-project\\lib\\site-packages (from click!=8.0.0,>=7.1->wandb) (0.4.6)\n",
      "Requirement already satisfied: six>=1.4.0 in c:\\users\\user\\anaconda3\\envs\\ai-project\\lib\\site-packages (from docker-pycreds>=0.4.0->wandb) (1.16.0)\n",
      "Requirement already satisfied: gitdb<5,>=4.0.1 in c:\\users\\user\\anaconda3\\envs\\ai-project\\lib\\site-packages (from gitpython!=3.1.29,>=1.0.0->wandb) (4.0.11)\n",
      "Requirement already satisfied: charset-normalizer<4,>=2 in c:\\users\\user\\anaconda3\\envs\\ai-project\\lib\\site-packages (from requests<3,>=2.0.0->wandb) (3.3.2)\n",
      "Requirement already satisfied: idna<4,>=2.5 in c:\\users\\user\\anaconda3\\envs\\ai-project\\lib\\site-packages (from requests<3,>=2.0.0->wandb) (3.8)\n",
      "Requirement already satisfied: urllib3<3,>=1.21.1 in c:\\users\\user\\anaconda3\\envs\\ai-project\\lib\\site-packages (from requests<3,>=2.0.0->wandb) (2.2.2)\n",
      "Requirement already satisfied: certifi>=2017.4.17 in c:\\users\\user\\anaconda3\\envs\\ai-project\\lib\\site-packages (from requests<3,>=2.0.0->wandb) (2024.8.30)\n",
      "Requirement already satisfied: smmap<6,>=3.0.1 in c:\\users\\user\\anaconda3\\envs\\ai-project\\lib\\site-packages (from gitdb<5,>=4.0.1->gitpython!=3.1.29,>=1.0.0->wandb) (5.0.1)\n"
     ]
    }
   ],
   "source": [
    "!pip3 install wandb"
   ]
  },
  {
   "cell_type": "code",
   "execution_count": 2,
   "metadata": {
    "colab": {
     "base_uri": "https://localhost:8080/"
    },
    "id": "gSxOaWIFSBM-",
    "outputId": "475bc447-6414-46af-c5ec-49526e2808f8"
   },
   "outputs": [
    {
     "name": "stdout",
     "output_type": "stream",
     "text": [
      "Collecting git+https://github.com/tensorflow/addons.git\n",
      "  Cloning https://github.com/tensorflow/addons.git to c:\\users\\user\\appdata\\local\\temp\\pip-req-build-knmh2dgg\n",
      "  Resolved https://github.com/tensorflow/addons.git to commit d208d752e98c310280938efa939117bf635a60a8\n",
      "  Installing build dependencies: started\n",
      "  Installing build dependencies: finished with status 'done'\n",
      "  Getting requirements to build wheel: started\n",
      "  Getting requirements to build wheel: finished with status 'done'\n",
      "  Preparing metadata (pyproject.toml): started\n",
      "  Preparing metadata (pyproject.toml): finished with status 'done'\n",
      "Requirement already satisfied: typeguard<3.0.0,>=2.7 in c:\\users\\user\\anaconda3\\envs\\ai-project\\lib\\site-packages (from tensorflow-addons==0.23.0.dev0) (2.13.3)\n",
      "Requirement already satisfied: packaging in c:\\users\\user\\anaconda3\\envs\\ai-project\\lib\\site-packages (from tensorflow-addons==0.23.0.dev0) (24.1)\n",
      "Building wheels for collected packages: tensorflow-addons\n",
      "  Building wheel for tensorflow-addons (pyproject.toml): started\n",
      "  Building wheel for tensorflow-addons (pyproject.toml): finished with status 'error'\n",
      "Failed to build tensorflow-addons\n"
     ]
    },
    {
     "name": "stderr",
     "output_type": "stream",
     "text": [
      "  Running command git clone --filter=blob:none --quiet https://github.com/tensorflow/addons.git 'C:\\Users\\user\\AppData\\Local\\Temp\\pip-req-build-knmh2dgg'\n",
      "  error: subprocess-exited-with-error\n",
      "  \n",
      "  × Building wheel for tensorflow-addons (pyproject.toml) did not run successfully.\n",
      "  │ exit code: 1\n",
      "  ╰─> [7 lines of output]\n",
      "      C:\\Users\\user\\AppData\\Local\\Temp\\pip-build-env-e_a41bqw\\overlay\\Lib\\site-packages\\setuptools\\dist.py:294: InformationOnly: Normalizing '0.23.0-dev' to '0.23.0.dev0'\n",
      "        self.metadata.version = self._normalize_version(self.metadata.version)\n",
      "      running bdist_wheel\n",
      "      running build\n",
      "      running build_py\n",
      "      creating build\n",
      "      error: could not create 'build': 파일이 이미 있으므로 만들 수 없습니다\n",
      "      [end of output]\n",
      "  \n",
      "  note: This error originates from a subprocess, and is likely not a problem with pip.\n",
      "  ERROR: Failed building wheel for tensorflow-addons\n",
      "ERROR: ERROR: Failed to build installable wheels for some pyproject.toml based projects (tensorflow-addons)\n"
     ]
    }
   ],
   "source": [
    "!pip3 install git+https://github.com/tensorflow/addons.git"
   ]
  },
  {
   "cell_type": "code",
   "execution_count": 3,
   "metadata": {
    "id": "VSncNSHtZznI"
   },
   "outputs": [],
   "source": [
    "from tensorflow.keras.layers import Add, Dense, Dropout, MultiHeadAttention, LayerNormalization, Layer, Normalization\n",
    "from tensorflow.keras.optimizers import Adam\n",
    "from tensorflow.keras import Model\n",
    "from tensorflow.keras.initializers import TruncatedNormal\n",
    "from tensorflow.keras.callbacks import EarlyStopping, LearningRateScheduler, Callback\n",
    "from tensorflow.keras.optimizers import AdamW\n",
    "from wandb.integration.keras import WandbCallback\n",
    "from sklearn.model_selection import train_test_split \n",
    "\n",
    "import math\n",
    "import wandb\n",
    "import numpy as np\n",
    "import pandas as pd\n",
    "import tensorflow as tf\n",
    "import seaborn as sns\n",
    "import matplotlib.pyplot as plt"
   ]
  },
  {
   "cell_type": "markdown",
   "metadata": {
    "id": "_kdFgpMxZznJ"
   },
   "source": [
    "## Init logger"
   ]
  },
  {
   "cell_type": "code",
   "execution_count": 4,
   "metadata": {
    "colab": {
     "base_uri": "https://localhost:8080/"
    },
    "id": "Z6DnpqLPZznK",
    "outputId": "078f5861-e753-4525-fe92-0516ac23f007"
   },
   "outputs": [
    {
     "name": "stderr",
     "output_type": "stream",
     "text": [
      "wandb: Logging into wandb.ai. (Learn how to deploy a W&B server locally: https://wandb.me/wandb-server)\n",
      "wandb: You can find your API key in your browser here: https://wandb.ai/authorize\n",
      "wandb: Paste an API key from your profile and hit enter, or press ctrl+c to quit:"
     ]
    },
    {
     "name": "stdin",
     "output_type": "stream",
     "text": [
      "  ········\n"
     ]
    },
    {
     "name": "stderr",
     "output_type": "stream",
     "text": [
      "wandb: Appending key for api.wandb.ai to your netrc file: C:\\Users\\user\\_netrc\n"
     ]
    },
    {
     "name": "stdout",
     "output_type": "stream",
     "text": [
      "Create sweep with ID: lwgpvxca\n",
      "Sweep URL: https://wandb.ai/dongheon35-pusan-national-university/HAR-Transformer/sweeps/lwgpvxca\n"
     ]
    }
   ],
   "source": [
    "wandb.login()\n",
    "\n",
    "sweep_config = {\n",
    "  'method': 'grid',\n",
    "  'metric': {\n",
    "    'goal': 'maximize',\n",
    "    'name': 'val_accuracy'\n",
    "  },\n",
    "  'parameters': {\n",
    "      'epochs': {\n",
    "        'value': 50\n",
    "      },\n",
    "      'num_layers': {\n",
    "        'value': 3\n",
    "      },\n",
    "      'embed_layer_size': {\n",
    "        'value': 128\n",
    "      },\n",
    "      'fc_layer_size': {\n",
    "        'value': 256\n",
    "      },\n",
    "      'num_heads': {\n",
    "        'value': 6\n",
    "      },\n",
    "      'dropout': {\n",
    "        'value': 0.1\n",
    "      },\n",
    "      'attention_dropout': {\n",
    "        'value': 0.1\n",
    "      },\n",
    "      'optimizer': {\n",
    "        'value': 'adam'\n",
    "      },\n",
    "      'amsgrad': {\n",
    "        'value': False\n",
    "      },\n",
    "      'label_smoothing': {\n",
    "        'value': 0.1\n",
    "      },\n",
    "      'learning_rate': {\n",
    "        'value': 1e-3\n",
    "      },\n",
    "      #'weight_decay': {\n",
    "      #    'values': [2.5e-4, 1e-4, 5e-5, 1e-5]\n",
    "      #},\n",
    "      'warmup_steps': {\n",
    "        'value': 10\n",
    "      },\n",
    "      'batch_size': {\n",
    "        'value': 64\n",
    "      },\n",
    "      'global_clipnorm': {\n",
    "        'value': 3.0\n",
    "      },\n",
    "    }\n",
    "}\n",
    "\n",
    "sweep_id = wandb.sweep(sweep_config, project=\"HAR-Transformer\")\n"
   ]
  },
  {
   "cell_type": "markdown",
   "metadata": {
    "id": "-mGp0L3_ZznL"
   },
   "source": [
    "## Layer"
   ]
  },
  {
   "cell_type": "code",
   "execution_count": 5,
   "metadata": {
    "id": "0lFGhNtyZznL"
   },
   "outputs": [],
   "source": [
    "class PositionalEmbedding(Layer):\n",
    "    def __init__(self, units, dropout_rate, **kwargs):\n",
    "        super(PositionalEmbedding, self).__init__(**kwargs)\n",
    "\n",
    "        self.units = units\n",
    "\n",
    "        self.projection = Dense(units, kernel_initializer=TruncatedNormal(stddev=0.02))\n",
    "\n",
    "        self.dropout = Dropout(rate=dropout_rate)\n",
    "\n",
    "    def build(self, input_shape):\n",
    "        super(PositionalEmbedding, self).build(input_shape)\n",
    "\n",
    "        self.position = self.add_weight(\n",
    "            name=\"position\",\n",
    "            shape=(1, input_shape[1], self.units),\n",
    "            initializer=TruncatedNormal(stddev=0.02),\n",
    "            trainable=True,\n",
    "        )\n",
    "\n",
    "    def call(self, inputs, training):\n",
    "        x = self.projection(inputs)\n",
    "        x = x + self.position\n",
    "\n",
    "        return self.dropout(x, training=training)\n"
   ]
  },
  {
   "cell_type": "code",
   "execution_count": 6,
   "metadata": {
    "id": "PIwd6GlIZznM"
   },
   "outputs": [],
   "source": [
    "class Encoder(Layer):\n",
    "    def __init__(\n",
    "        self, embed_dim, mlp_dim, num_heads, dropout_rate, attention_dropout_rate, **kwargs\n",
    "    ):\n",
    "        super(Encoder, self).__init__(**kwargs)\n",
    "\n",
    "        self.mha = MultiHeadAttention(\n",
    "            num_heads=num_heads,\n",
    "            key_dim=embed_dim,\n",
    "            dropout=attention_dropout_rate,\n",
    "            kernel_initializer=TruncatedNormal(stddev=0.02),\n",
    "        )\n",
    "\n",
    "        self.dense_0 = Dense(\n",
    "            units=mlp_dim,\n",
    "            activation=\"gelu\",\n",
    "            kernel_initializer=TruncatedNormal(stddev=0.02),\n",
    "        )\n",
    "        self.dense_1 = Dense(\n",
    "            units=embed_dim, kernel_initializer=TruncatedNormal(stddev=0.02)\n",
    "        )\n",
    "\n",
    "        self.dropout_0 = Dropout(rate=dropout_rate)\n",
    "        self.dropout_1 = Dropout(rate=dropout_rate)\n",
    "\n",
    "        self.norm_0 = LayerNormalization(epsilon=1e-5)\n",
    "        self.norm_1 = LayerNormalization(epsilon=1e-5)\n",
    "\n",
    "        self.add_0 = Add()\n",
    "        self.add_1 = Add()\n",
    "\n",
    "    def call(self, inputs, training):\n",
    "        # Attention block\n",
    "        x = self.norm_0(inputs)\n",
    "        x = self.mha(\n",
    "            query=x,\n",
    "            value=x,\n",
    "            key=x,\n",
    "            training=training,\n",
    "        )\n",
    "        x = self.dropout_0(x, training=training)\n",
    "        x = self.add_0([x, inputs])\n",
    "\n",
    "        # MLP block\n",
    "        y = self.norm_1(x)\n",
    "        y = self.dense_0(y)\n",
    "        y = self.dense_1(y)\n",
    "        y = self.dropout_1(y, training=training)\n",
    "\n",
    "        return self.add_1([x, y])\n"
   ]
  },
  {
   "cell_type": "markdown",
   "metadata": {
    "id": "YRQTRP60ZznN"
   },
   "source": [
    "## Model"
   ]
  },
  {
   "cell_type": "code",
   "execution_count": 7,
   "metadata": {
    "id": "UYEKK7pYZznN"
   },
   "outputs": [],
   "source": [
    "class Transformer(Model):\n",
    "    def __init__(\n",
    "        self,\n",
    "        num_layers,\n",
    "        embed_dim,\n",
    "        mlp_dim,\n",
    "        num_heads,\n",
    "        num_classes,\n",
    "        dropout_rate,\n",
    "        attention_dropout_rate,\n",
    "        **kwargs\n",
    "    ):\n",
    "        super(Transformer, self).__init__(**kwargs)\n",
    "\n",
    "        # Input (normalization of RAW measurements)\n",
    "        self.input_norm = Normalization()\n",
    "\n",
    "        # Input\n",
    "        self.pos_embs = PositionalEmbedding(embed_dim, dropout_rate)\n",
    "\n",
    "        # Encoder\n",
    "        self.e_layers = [\n",
    "            Encoder(embed_dim, mlp_dim, num_heads, dropout_rate, attention_dropout_rate)\n",
    "            for _ in range(num_layers)\n",
    "        ]\n",
    "\n",
    "        # Output\n",
    "        self.norm = LayerNormalization(epsilon=1e-5)\n",
    "        self.final_layer = Dense(num_classes, kernel_initializer=\"zeros\")\n",
    "\n",
    "    def call(self, inputs, training):\n",
    "        x = self.input_norm(inputs)\n",
    "        x = self.pos_embs(x, training=training)\n",
    "\n",
    "        for layer in self.e_layers:\n",
    "            x = layer(x, training=training)\n",
    "\n",
    "        x = self.norm(x)\n",
    "        x = self.final_layer(x)\n",
    "\n",
    "        return x\n"
   ]
  },
  {
   "cell_type": "markdown",
   "metadata": {
    "id": "j42cze_qiAIb"
   },
   "source": [
    "## Loss"
   ]
  },
  {
   "cell_type": "code",
   "execution_count": 8,
   "metadata": {
    "id": "NK6QapYViAIb"
   },
   "outputs": [],
   "source": [
    "def smoothed_sparse_categorical_crossentropy(label_smoothing: float = 0.0):\n",
    "    def loss_fn(y_true, y_pred):\n",
    "        num_classes = tf.shape(y_pred)[-1]\n",
    "        y_true = tf.one_hot(y_true, num_classes)\n",
    "\n",
    "        loss = tf.keras.losses.categorical_crossentropy(y_true, y_pred, from_logits=True, label_smoothing=label_smoothing)\n",
    "        return tf.reduce_mean(loss)\n",
    "\n",
    "    return loss_fn"
   ]
  },
  {
   "cell_type": "markdown",
   "metadata": {
    "id": "PxmZ1ZWBAgLX"
   },
   "source": [
    "## LR scheduler"
   ]
  },
  {
   "cell_type": "code",
   "execution_count": 9,
   "metadata": {
    "id": "GEtbF3TdAjDU"
   },
   "outputs": [],
   "source": [
    "def cosine_schedule(base_lr, total_steps, warmup_steps):\n",
    "    def step_fn(epoch):\n",
    "        lr = base_lr\n",
    "        epoch += 1\n",
    "\n",
    "        progress = (epoch - warmup_steps) / float(total_steps - warmup_steps)\n",
    "        progress = tf.clip_by_value(progress, 0.0, 1.0)\n",
    "        \n",
    "        lr = lr * 0.5 * (1.0 + tf.cos(math.pi * progress))\n",
    "\n",
    "        if warmup_steps:\n",
    "            lr = lr * tf.minimum(1.0, epoch / warmup_steps)\n",
    "\n",
    "        return lr\n",
    "\n",
    "    return step_fn\n",
    "\n"
   ]
  },
  {
   "cell_type": "code",
   "execution_count": 10,
   "metadata": {
    "id": "MBlu9AxBHG09"
   },
   "outputs": [],
   "source": [
    "class PrintLR(Callback):\n",
    "    def on_epoch_end(self, epoch, logs=None):\n",
    "        wandb.log({\"lr\": self.model.optimizer.lr.numpy()}, commit=False)"
   ]
  },
  {
   "cell_type": "markdown",
   "metadata": {
    "id": "7dIynjZAZznP"
   },
   "source": [
    "## Dataset"
   ]
  },
  {
   "cell_type": "code",
   "execution_count": 11,
   "metadata": {
    "colab": {
     "base_uri": "https://localhost:8080/"
    },
    "id": "4GkimkgOZznP",
    "outputId": "c43e079b-f8b2-4d51-f9b0-a5339a3c9b77"
   },
   "outputs": [
    {
     "name": "stdout",
     "output_type": "stream",
     "text": [
      "(60060, 300, 6) (60060, 300)\n",
      "(12470, 300, 6) (12470, 300)\n",
      "(10599, 300, 6) (10599, 300)\n"
     ]
    }
   ],
   "source": [
    "CLASS_LABELS = np.array(\n",
    "    [\n",
    "        \"Stand\",\n",
    "        \"Sit\",\n",
    "        \"Talk-sit\",\n",
    "        \"Talk-stand\",\n",
    "        \"Stand-sit\",\n",
    "        \"Lay\",\n",
    "        \"Lay-stand\",\n",
    "        \"Pick\",\n",
    "        \"Jump\",\n",
    "        \"Push-up\",\n",
    "        \"Sit-up\",\n",
    "        \"Walk\",\n",
    "        \"Walk-backward\",\n",
    "        \"Walk-circle\",\n",
    "        \"Run\",\n",
    "        \"Stair-up\",\n",
    "        \"Stair-down\",\n",
    "        \"Table-tennis\"\n",
    "    ]\n",
    ")\n",
    "\n",
    "# load dataset\n",
    "f = np.load('./new_dataset.npz')\n",
    "signals = f['signals']\n",
    "labels = f['labels']\n",
    "\n",
    "# split to train-test\n",
    "X_train, X_test, y_train, y_test = train_test_split(\n",
    "    signals, labels, test_size=0.15, random_state=9, stratify=labels\n",
    ")\n",
    "X_train, X_val, y_train, y_val = train_test_split(\n",
    "    X_train, y_train, test_size=0.15, random_state=9, stratify=y_train\n",
    ")\n",
    "print(X_train.shape, y_train.shape)\n",
    "print(X_test.shape, y_test.shape)\n",
    "print(X_val.shape, y_val.shape)\n"
   ]
  },
  {
   "cell_type": "code",
   "execution_count": 12,
   "metadata": {
    "colab": {
     "base_uri": "https://localhost:8080/",
     "height": 739
    },
    "id": "RSXjG7qHZznQ",
    "outputId": "c83fae89-3e09-4f05-eb7f-6c4b6ab76db4"
   },
   "outputs": [
    {
     "data": {
      "image/png": "[encoded data removed]",
      "text/plain": [
       "<Figure size 800x800 with 1 Axes>"
      ]
     },
     "metadata": {},
     "output_type": "display_data"
    }
   ],
   "source": [
    "plt.figure(figsize=(10, 10), dpi=80)\n",
    "\n",
    "unique, counts = np.unique(labels, return_counts=True)\n",
    "plt.bar(CLASS_LABELS[unique], counts)\n",
    "plt.xticks(rotation=70)\n",
    "\n",
    "unique, counts = np.unique(y_train, return_counts=True)\n",
    "plt.bar(CLASS_LABELS[unique], counts)\n",
    "plt.xticks(rotation=70)\n",
    "\n",
    "unique, counts = np.unique(y_test, return_counts=True)\n",
    "plt.bar(CLASS_LABELS[unique], counts)\n",
    "plt.xticks(rotation=70)\n",
    "\n",
    "unique, counts = np.unique(y_val, return_counts=True)\n",
    "plt.bar(CLASS_LABELS[unique], counts)\n",
    "plt.xticks(rotation=70)\n",
    "\n",
    "plt.legend([\"All\", \"Train\", \"Test\", \"Validation\"])\n",
    "\n",
    "plt.show()"
   ]
  },
  {
   "cell_type": "code",
   "execution_count": 13,
   "metadata": {
    "id": "QaZxGMgKZznS"
   },
   "outputs": [],
   "source": [
    "def train(config=None):\n",
    "  with wandb.init(config=config):\n",
    "    config = wandb.config\n",
    "    \n",
    "    # Generate new model\n",
    "    model = Transformer(\n",
    "      num_layers=config.num_layers,\n",
    "      embed_dim=config.embed_layer_size,\n",
    "      mlp_dim=config.fc_layer_size,\n",
    "      num_heads=config.num_heads,\n",
    "      num_classes=18,\n",
    "      dropout_rate=config.dropout,\n",
    "      attention_dropout_rate=config.attention_dropout,\n",
    "    )\n",
    "\n",
    "    # adapt on training dataset - must be before model.compile !!!\n",
    "    model.input_norm.adapt(X_train, batch_size=config.batch_size)\n",
    "    print(model.input_norm.variables)\n",
    "\n",
    "    # Select optimizer\n",
    "    if config.optimizer == \"adam\":\n",
    "      optim = Adam(\n",
    "          global_clipnorm=config.global_clipnorm,\n",
    "          amsgrad=config.amsgrad,\n",
    "      )\n",
    "    elif config.optimizer == \"adamw\":\n",
    "      optim = AdamW(\n",
    "          weight_decay=config.weight_decay,\n",
    "          amsgrad=config.amsgrad,\n",
    "          global_clipnorm=config.global_clipnorm,\n",
    "          exclude_from_weight_decay=[\"position\"]\n",
    "      )\n",
    "    else:\n",
    "      raise ValueError(\"The used optimizer is not in list of available\")\n",
    "\n",
    "    model.compile(\n",
    "      loss=smoothed_sparse_categorical_crossentropy(label_smoothing=config.label_smoothing),\n",
    "      optimizer=optim,\n",
    "      metrics=[\"accuracy\"],\n",
    "    )\n",
    "\n",
    "    # Train model\n",
    "    model.fit(\n",
    "      X_train,\n",
    "      y_train,\n",
    "      batch_size=config.batch_size,\n",
    "      epochs=config.epochs,\n",
    "      validation_data=(X_val, y_val),\n",
    "      callbacks=[\n",
    "        LearningRateScheduler(cosine_schedule(base_lr=config.learning_rate, total_steps=config.epochs, warmup_steps=config.warmup_steps)),\n",
    "        PrintLR(),\n",
    "        WandbCallback(monitor=\"val_accuracy\", mode='max', save_weights_only=True),\n",
    "        EarlyStopping(monitor=\"val_accuracy\", mode='max', min_delta=0.001, patience=5),\n",
    "      ],\n",
    "      verbose=1\n",
    "    )\n",
    "\n",
    "    model.summary()"
   ]
  },
  {
   "cell_type": "code",
   "execution_count": 14,
   "metadata": {
    "colab": {
     "base_uri": "https://localhost:8080/",
     "height": 1000,
     "referenced_widgets": [
      "c2f96abecad54565be62d18c1b5c1e68",
      "fa0aba1429524429af176534638122db",
      "0054c6582b4c45faa323add90dd34770",
      "634c65b48e0b40359f6158364fb54ad7",
      "ebdfa2b37e5540e39bd6624f22eeb19a",
      "7198820fcadc4aaf875ee617dd605fbc",
      "18adf181e391491a9426d17e69a8c574",
      "dc1f7e46eaf643999d482c3b17e3bee6"
     ]
    },
    "id": "J743-OTSSsZy",
    "outputId": "1ea18bc2-7308-4e10-cabf-7c94643fab4a"
   },
   "outputs": [
    {
     "name": "stderr",
     "output_type": "stream",
     "text": [
      "wandb: Agent Starting Run: f31inc5i with config:\n",
      "wandb: \tamsgrad: False\n",
      "wandb: \tattention_dropout: 0.1\n",
      "wandb: \tbatch_size: 64\n",
      "wandb: \tdropout: 0.1\n",
      "wandb: \tembed_layer_size: 128\n",
      "wandb: \tepochs: 50\n",
      "wandb: \tfc_layer_size: 256\n",
      "wandb: \tglobal_clipnorm: 3\n",
      "wandb: \tlabel_smoothing: 0.1\n",
      "wandb: \tlearning_rate: 0.001\n",
      "wandb: \tnum_heads: 6\n",
      "wandb: \tnum_layers: 3\n",
      "wandb: \toptimizer: adam\n",
      "wandb: \twarmup_steps: 10\n",
      "wandb: Currently logged in as: dongheon35 (dongheon35-pusan-national-university). Use `wandb login --relogin` to force relogin\n"
     ]
    },
    {
     "data": {
      "text/html": [
       "Tracking run with wandb version 0.17.8"
      ],
      "text/plain": [
       "<IPython.core.display.HTML object>"
      ]
     },
     "metadata": {},
     "output_type": "display_data"
    },
    {
     "data": {
      "text/html": [
       "Run data is saved locally in <code>C:\\AI_Project_Dongheon\\HAR-Transformer-main\\wandb\\run-20240904_113646-f31inc5i</code>"
      ],
      "text/plain": [
       "<IPython.core.display.HTML object>"
      ]
     },
     "metadata": {},
     "output_type": "display_data"
    },
    {
     "data": {
      "text/html": [
       "Syncing run <strong><a href='https://wandb.ai/dongheon35-pusan-national-university/HAR-Transformer/runs/f31inc5i' target=\"_blank\">solar-sweep-1</a></strong> to <a href='https://wandb.ai/dongheon35-pusan-national-university/HAR-Transformer' target=\"_blank\">Weights & Biases</a> (<a href='https://wandb.me/run' target=\"_blank\">docs</a>)<br/>Sweep page: <a href='https://wandb.ai/dongheon35-pusan-national-university/HAR-Transformer/sweeps/lwgpvxca' target=\"_blank\">https://wandb.ai/dongheon35-pusan-national-university/HAR-Transformer/sweeps/lwgpvxca</a>"
      ],
      "text/plain": [
       "<IPython.core.display.HTML object>"
      ]
     },
     "metadata": {},
     "output_type": "display_data"
    },
    {
     "data": {
      "text/html": [
       " View project at <a href='https://wandb.ai/dongheon35-pusan-national-university/HAR-Transformer' target=\"_blank\">https://wandb.ai/dongheon35-pusan-national-university/HAR-Transformer</a>"
      ],
      "text/plain": [
       "<IPython.core.display.HTML object>"
      ]
     },
     "metadata": {},
     "output_type": "display_data"
    },
    {
     "data": {
      "text/html": [
       " View sweep at <a href='https://wandb.ai/dongheon35-pusan-national-university/HAR-Transformer/sweeps/lwgpvxca' target=\"_blank\">https://wandb.ai/dongheon35-pusan-national-university/HAR-Transformer/sweeps/lwgpvxca</a>"
      ],
      "text/plain": [
       "<IPython.core.display.HTML object>"
      ]
     },
     "metadata": {},
     "output_type": "display_data"
    },
    {
     "data": {
      "text/html": [
       " View run at <a href='https://wandb.ai/dongheon35-pusan-national-university/HAR-Transformer/runs/f31inc5i' target=\"_blank\">https://wandb.ai/dongheon35-pusan-national-university/HAR-Transformer/runs/f31inc5i</a>"
      ],
      "text/plain": [
       "<IPython.core.display.HTML object>"
      ]
     },
     "metadata": {},
     "output_type": "display_data"
    },
    {
     "name": "stderr",
     "output_type": "stream",
     "text": [
      "Traceback (most recent call last):\n",
      "  File \"C:\\Users\\user\\AppData\\Local\\Temp\\ipykernel_13596\\1119414674.py\", line 17, in train\n",
      "    model.input_norm.adapt(X_train, batch_size=config.batch_size)\n",
      "TypeError: Normalization.adapt() got an unexpected keyword argument 'batch_size'\n"
     ]
    },
    {
     "data": {
      "text/html": [
       " View run <strong style=\"color:#cdcd00\">solar-sweep-1</strong> at: <a href='https://wandb.ai/dongheon35-pusan-national-university/HAR-Transformer/runs/f31inc5i' target=\"_blank\">https://wandb.ai/dongheon35-pusan-national-university/HAR-Transformer/runs/f31inc5i</a><br/> View project at: <a href='https://wandb.ai/dongheon35-pusan-national-university/HAR-Transformer' target=\"_blank\">https://wandb.ai/dongheon35-pusan-national-university/HAR-Transformer</a><br/>Synced 5 W&B file(s), 0 media file(s), 0 artifact file(s) and 0 other file(s)"
      ],
      "text/plain": [
       "<IPython.core.display.HTML object>"
      ]
     },
     "metadata": {},
     "output_type": "display_data"
    },
    {
     "data": {
      "text/html": [
       "Find logs at: <code>.\\wandb\\run-20240904_113646-f31inc5i\\logs</code>"
      ],
      "text/plain": [
       "<IPython.core.display.HTML object>"
      ]
     },
     "metadata": {},
     "output_type": "display_data"
    },
    {
     "data": {
      "text/html": [
       "The new W&B backend becomes opt-out in version 0.18.0; try it out with `wandb.require(\"core\")`! See https://wandb.me/wandb-core for more information."
      ],
      "text/plain": [
       "<IPython.core.display.HTML object>"
      ]
     },
     "metadata": {},
     "output_type": "display_data"
    },
    {
     "name": "stderr",
     "output_type": "stream",
     "text": [
      "Run f31inc5i errored:\n",
      "Traceback (most recent call last):\n",
      "  File \"C:\\Users\\user\\anaconda3\\envs\\ai-project\\lib\\site-packages\\wandb\\agents\\pyagent.py\", line 306, in _run_job\n",
      "    self._function()\n",
      "  File \"C:\\Users\\user\\AppData\\Local\\Temp\\ipykernel_13596\\1119414674.py\", line 17, in train\n",
      "    model.input_norm.adapt(X_train, batch_size=config.batch_size)\n",
      "TypeError: Normalization.adapt() got an unexpected keyword argument 'batch_size'\n",
      "\n",
      "wandb: ERROR Run f31inc5i errored:\n",
      "wandb: ERROR Traceback (most recent call last):\n",
      "wandb: ERROR   File \"C:\\Users\\user\\anaconda3\\envs\\ai-project\\lib\\site-packages\\wandb\\agents\\pyagent.py\", line 306, in _run_job\n",
      "wandb: ERROR     self._function()\n",
      "wandb: ERROR   File \"C:\\Users\\user\\AppData\\Local\\Temp\\ipykernel_13596\\1119414674.py\", line 17, in train\n",
      "wandb: ERROR     model.input_norm.adapt(X_train, batch_size=config.batch_size)\n",
      "wandb: ERROR TypeError: Normalization.adapt() got an unexpected keyword argument 'batch_size'\n",
      "wandb: ERROR \n",
      "wandb: Sweep Agent: Waiting for job.\n",
      "wandb: Sweep Agent: Exiting.\n"
     ]
    }
   ],
   "source": [
    "wandb.agent(sweep_id, train, count=32)"
   ]
  }
 ],
 "metadata": {
  "accelerator": "GPU",
  "colab": {
   "collapsed_sections": [],
   "name": "Training_posledna_verzia_3-3.ipynb",
   "provenance": []
  },
  "interpreter": {
   "hash": "9185113d2128201d66faecd4f34fb34e89a635073a034991399523e584519355"
  },
  "kernelspec": {
   "display_name": "Python 3 (ipykernel)",
   "language": "python",
   "name": "python3"
  },
  "language_info": {
   "codemirror_mode": {
    "name": "ipython",
    "version": 3
   },
   "file_extension": ".py",
   "mimetype": "text/x-python",
   "name": "python",
   "nbconvert_exporter": "python",
   "pygments_lexer": "ipython3",
   "version": "3.10.13"
  },
  "widgets": {
   "application/vnd.jupyter.widget-state+json": {
    "0054c6582b4c45faa323add90dd34770": {
     "model_module": "@jupyter-widgets/controls",
     "model_module_version": "1.5.0",
     "model_name": "LabelModel",
     "state": {
      "_dom_classes": [],
      "_model_module": "@jupyter-widgets/controls",
      "_model_module_version": "1.5.0",
      "_model_name": "LabelModel",
      "_view_count": null,
      "_view_module": "@jupyter-widgets/controls",
      "_view_module_version": "1.5.0",
      "_view_name": "LabelView",
      "description": "",
      "description_tooltip": null,
      "layout": "IPY_MODEL_7198820fcadc4aaf875ee617dd605fbc",
      "placeholder": "​",
      "style": "IPY_MODEL_ebdfa2b37e5540e39bd6624f22eeb19a",
      "value": " 5.55MB of 5.55MB uploaded (0.00MB deduped)\r"
     }
    },
    "18adf181e391491a9426d17e69a8c574": {
     "model_module": "@jupyter-widgets/controls",
     "model_module_version": "1.5.0",
     "model_name": "ProgressStyleModel",
     "state": {
      "_model_module": "@jupyter-widgets/controls",
      "_model_module_version": "1.5.0",
      "_model_name": "ProgressStyleModel",
      "_view_count": null,
      "_view_module": "@jupyter-widgets/base",
      "_view_module_version": "1.2.0",
      "_view_name": "StyleView",
      "bar_color": null,
      "description_width": ""
     }
    },
    "634c65b48e0b40359f6158364fb54ad7": {
     "model_module": "@jupyter-widgets/controls",
     "model_module_version": "1.5.0",
     "model_name": "FloatProgressModel",
     "state": {
      "_dom_classes": [],
      "_model_module": "@jupyter-widgets/controls",
      "_model_module_version": "1.5.0",
      "_model_name": "FloatProgressModel",
      "_view_count": null,
      "_view_module": "@jupyter-widgets/controls",
      "_view_module_version": "1.5.0",
      "_view_name": "ProgressView",
      "bar_style": "",
      "description": "",
      "description_tooltip": null,
      "layout": "IPY_MODEL_dc1f7e46eaf643999d482c3b17e3bee6",
      "max": 1,
      "min": 0,
      "orientation": "horizontal",
      "style": "IPY_MODEL_18adf181e391491a9426d17e69a8c574",
      "value": 1
     }
    },
    "7198820fcadc4aaf875ee617dd605fbc": {
     "model_module": "@jupyter-widgets/base",
     "model_module_version": "1.2.0",
     "model_name": "LayoutModel",
     "state": {
      "_model_module": "@jupyter-widgets/base",
      "_model_module_version": "1.2.0",
      "_model_name": "LayoutModel",
      "_view_count": null,
      "_view_module": "@jupyter-widgets/base",
      "_view_module_version": "1.2.0",
      "_view_name": "LayoutView",
      "align_content": null,
      "align_items": null,
      "align_self": null,
      "border": null,
      "bottom": null,
      "display": null,
      "flex": null,
      "flex_flow": null,
      "grid_area": null,
      "grid_auto_columns": null,
      "grid_auto_flow": null,
      "grid_auto_rows": null,
      "grid_column": null,
      "grid_gap": null,
      "grid_row": null,
      "grid_template_areas": null,
      "grid_template_columns": null,
      "grid_template_rows": null,
      "height": null,
      "justify_content": null,
      "justify_items": null,
      "left": null,
      "margin": null,
      "max_height": null,
      "max_width": null,
      "min_height": null,
      "min_width": null,
      "object_fit": null,
      "object_position": null,
      "order": null,
      "overflow": null,
      "overflow_x": null,
      "overflow_y": null,
      "padding": null,
      "right": null,
      "top": null,
      "visibility": null,
      "width": null
     }
    },
    "c2f96abecad54565be62d18c1b5c1e68": {
     "model_module": "@jupyter-widgets/controls",
     "model_module_version": "1.5.0",
     "model_name": "VBoxModel",
     "state": {
      "_dom_classes": [],
      "_model_module": "@jupyter-widgets/controls",
      "_model_module_version": "1.5.0",
      "_model_name": "VBoxModel",
      "_view_count": null,
      "_view_module": "@jupyter-widgets/controls",
      "_view_module_version": "1.5.0",
      "_view_name": "VBoxView",
      "box_style": "",
      "children": [
       "IPY_MODEL_0054c6582b4c45faa323add90dd34770",
       "IPY_MODEL_634c65b48e0b40359f6158364fb54ad7"
      ],
      "layout": "IPY_MODEL_fa0aba1429524429af176534638122db"
     }
    },
    "dc1f7e46eaf643999d482c3b17e3bee6": {
     "model_module": "@jupyter-widgets/base",
     "model_module_version": "1.2.0",
     "model_name": "LayoutModel",
     "state": {
      "_model_module": "@jupyter-widgets/base",
      "_model_module_version": "1.2.0",
      "_model_name": "LayoutModel",
      "_view_count": null,
      "_view_module": "@jupyter-widgets/base",
      "_view_module_version": "1.2.0",
      "_view_name": "LayoutView",
      "align_content": null,
      "align_items": null,
      "align_self": null,
      "border": null,
      "bottom": null,
      "display": null,
      "flex": null,
      "flex_flow": null,
      "grid_area": null,
      "grid_auto_columns": null,
      "grid_auto_flow": null,
      "grid_auto_rows": null,
      "grid_column": null,
      "grid_gap": null,
      "grid_row": null,
      "grid_template_areas": null,
      "grid_template_columns": null,
      "grid_template_rows": null,
      "height": null,
      "justify_content": null,
      "justify_items": null,
      "left": null,
      "margin": null,
      "max_height": null,
      "max_width": null,
      "min_height": null,
      "min_width": null,
      "object_fit": null,
      "object_position": null,
      "order": null,
      "overflow": null,
      "overflow_x": null,
      "overflow_y": null,
      "padding": null,
      "right": null,
      "top": null,
      "visibility": null,
      "width": null
     }
    },
    "ebdfa2b37e5540e39bd6624f22eeb19a": {
     "model_module": "@jupyter-widgets/controls",
     "model_module_version": "1.5.0",
     "model_name": "DescriptionStyleModel",
     "state": {
      "_model_module": "@jupyter-widgets/controls",
      "_model_module_version": "1.5.0",
      "_model_name": "DescriptionStyleModel",
      "_view_count": null,
      "_view_module": "@jupyter-widgets/base",
      "_view_module_version": "1.2.0",
      "_view_name": "StyleView",
      "description_width": ""
     }
    },
    "fa0aba1429524429af176534638122db": {
     "model_module": "@jupyter-widgets/base",
     "model_module_version": "1.2.0",
     "model_name": "LayoutModel",
     "state": {
      "_model_module": "@jupyter-widgets/base",
      "_model_module_version": "1.2.0",
      "_model_name": "LayoutModel",
      "_view_count": null,
      "_view_module": "@jupyter-widgets/base",
      "_view_module_version": "1.2.0",
      "_view_name": "LayoutView",
      "align_content": null,
      "align_items": null,
      "align_self": null,
      "border": null,
      "bottom": null,
      "display": null,
      "flex": null,
      "flex_flow": null,
      "grid_area": null,
      "grid_auto_columns": null,
      "grid_auto_flow": null,
      "grid_auto_rows": null,
      "grid_column": null,
      "grid_gap": null,
      "grid_row": null,
      "grid_template_areas": null,
      "grid_template_columns": null,
      "grid_template_rows": null,
      "height": null,
      "justify_content": null,
      "justify_items": null,
      "left": null,
      "margin": null,
      "max_height": null,
      "max_width": null,
      "min_height": null,
      "min_width": null,
      "object_fit": null,
      "object_position": null,
      "order": null,
      "overflow": null,
      "overflow_x": null,
      "overflow_y": null,
      "padding": null,
      "right": null,
      "top": null,
      "visibility": null,
      "width": null
     }
    }
   }
  }
 },
 "nbformat": 4,
 "nbformat_minor": 4
}
