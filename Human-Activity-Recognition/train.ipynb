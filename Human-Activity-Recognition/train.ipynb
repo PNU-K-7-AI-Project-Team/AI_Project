{
 "cells": [
  {
   "cell_type": "code",
   "execution_count": 1,
   "id": "3681a02a-74ae-4ed2-91db-373b50a638eb",
   "metadata": {},
   "outputs": [
    {
     "ename": "ModuleNotFoundError",
     "evalue": "No module named 'tqdm'",
     "output_type": "error",
     "traceback": [
      "\u001b[1;31m---------------------------------------------------------------------------\u001b[0m",
      "\u001b[1;31mModuleNotFoundError\u001b[0m                       Traceback (most recent call last)",
      "Cell \u001b[1;32mIn[1], line 7\u001b[0m\n\u001b[0;32m      4\u001b[0m \u001b[38;5;28;01mimport\u001b[39;00m \u001b[38;5;21;01margparse\u001b[39;00m\n\u001b[0;32m      5\u001b[0m \u001b[38;5;28;01mimport\u001b[39;00m \u001b[38;5;21;01mos\u001b[39;00m\n\u001b[1;32m----> 7\u001b[0m \u001b[38;5;28;01mfrom\u001b[39;00m \u001b[38;5;21;01mengine\u001b[39;00m\u001b[38;5;21;01m.\u001b[39;00m\u001b[38;5;21;01mtrainer\u001b[39;00m \u001b[38;5;28;01mimport\u001b[39;00m train\n\u001b[0;32m      8\u001b[0m \u001b[38;5;28;01mfrom\u001b[39;00m \u001b[38;5;21;01mconfig\u001b[39;00m\u001b[38;5;21;01m.\u001b[39;00m\u001b[38;5;21;01mset_params\u001b[39;00m \u001b[38;5;28;01mimport\u001b[39;00m params \u001b[38;5;28;01mas\u001b[39;00m sp\n\u001b[0;32m      9\u001b[0m \u001b[38;5;28;01mfrom\u001b[39;00m \u001b[38;5;21;01mmodeling\u001b[39;00m\u001b[38;5;21;01m.\u001b[39;00m\u001b[38;5;21;01mmodel\u001b[39;00m \u001b[38;5;28;01mimport\u001b[39;00m HARmodel\n",
      "File \u001b[1;32mC:\\AI_Project_Dongheon\\Human-Activity-Recognition\\engine\\trainer.py:5\u001b[0m\n\u001b[0;32m      3\u001b[0m \u001b[38;5;28;01mimport\u001b[39;00m \u001b[38;5;21;01mos\u001b[39;00m\n\u001b[0;32m      4\u001b[0m \u001b[38;5;28;01mfrom\u001b[39;00m \u001b[38;5;21;01mconfig\u001b[39;00m\u001b[38;5;21;01m.\u001b[39;00m\u001b[38;5;21;01mset_params\u001b[39;00m \u001b[38;5;28;01mimport\u001b[39;00m params\n\u001b[1;32m----> 5\u001b[0m \u001b[38;5;28;01mfrom\u001b[39;00m \u001b[38;5;21;01m.\u001b[39;00m\u001b[38;5;21;01minference\u001b[39;00m \u001b[38;5;28;01mimport\u001b[39;00m \u001b[38;5;28meval\u001b[39m\n\u001b[0;32m      7\u001b[0m \u001b[38;5;28;01mdef\u001b[39;00m \u001b[38;5;21mtrain\u001b[39m(train_loader,\n\u001b[0;32m      8\u001b[0m           val_loader,\n\u001b[0;32m      9\u001b[0m           model,\n\u001b[1;32m   (...)\u001b[0m\n\u001b[0;32m     13\u001b[0m           logger,\n\u001b[0;32m     14\u001b[0m     ):\n\u001b[0;32m     15\u001b[0m \u001b[38;5;250m    \u001b[39m\u001b[38;5;124;03m\"\"\"Main method to run training\"\"\"\u001b[39;00m\n",
      "File \u001b[1;32mC:\\AI_Project_Dongheon\\Human-Activity-Recognition\\engine\\inference.py:2\u001b[0m\n\u001b[0;32m      1\u001b[0m \u001b[38;5;28;01mimport\u001b[39;00m \u001b[38;5;21;01mnumpy\u001b[39;00m \u001b[38;5;28;01mas\u001b[39;00m \u001b[38;5;21;01mnp\u001b[39;00m\n\u001b[1;32m----> 2\u001b[0m \u001b[38;5;28;01mfrom\u001b[39;00m \u001b[38;5;21;01mtqdm\u001b[39;00m \u001b[38;5;28;01mimport\u001b[39;00m tqdm\n\u001b[0;32m      4\u001b[0m \u001b[38;5;28;01mdef\u001b[39;00m \u001b[38;5;21meval\u001b[39m(val_loader, model, criterion, params, epoch, logger):\n\u001b[0;32m      5\u001b[0m \u001b[38;5;250m    \u001b[39m\u001b[38;5;124;03m\"\"\"Main method to evaluate model.\"\"\"\u001b[39;00m\n",
      "\u001b[1;31mModuleNotFoundError\u001b[0m: No module named 'tqdm'"
     ]
    }
   ],
   "source": [
    "import torch\n",
    "import visdom\n",
    "import numpy as np\n",
    "import argparse\n",
    "import os\n",
    "\n",
    "from engine.trainer import train\n",
    "from config.set_params import params as sp\n",
    "from modeling.model import HARmodel\n",
    "from utils.build_dataset import build_dataloader\n",
    "\n",
    "def main():\n",
    "    \"\"\"Driver file for training HAR model.\"\"\"\n",
    "\n",
    "    parser = argparse.ArgumentParser(description=\"Training\")\n",
    "    parser.add_argument(\n",
    "        \"--checkpoint\",\n",
    "        default=None,\n",
    "        type=str,\n",
    "    )\n",
    "    args = parser.parse_args()\n",
    "\n",
    "    params = sp().params\n",
    "\n",
    "    model = HARmodel(params[\"input_dim\"], params[\"num_classes\"])\n",
    "\n",
    "    if params[\"use_cuda\"]:\n",
    "        model = model.cuda()\n",
    "\n",
    "    criterion = torch.nn.CrossEntropyLoss()\n",
    "    optimizer = torch.optim.SGD(model.parameters(),\n",
    "                                lr=params[\"lr\"],\n",
    "                                momentum=params[\"momentum\"],\n",
    "                                weight_decay=params[\"weight_decay\"])\n",
    "    \n",
    "    params[\"start_epoch\"] = 1\n",
    "\n",
    "    # If checkpoint path is given, load checkpoint data\n",
    "    if args.checkpoint:\n",
    "        if os.path.isfile(args.checkpoint):\n",
    "            print(\"=> loading checkpoint '{}'\".format(args.checkpoint))\n",
    "\n",
    "            checkpoint = torch.load(args.checkpoint)\n",
    "            params[\"start_epoch\"] = checkpoint[\"epoch\"]\n",
    "            model.load_state_dict(checkpoint[\"state_dict\"])\n",
    "            optimizer.load_state_dict(checkpoint[\"optimizer\"])\n",
    "\n",
    "            print(\"=> loaded checkpoint '{}' (epoch {})\".format(\n",
    "                args.checkpoint, checkpoint['epoch']))\n",
    "\n",
    "        else:\n",
    "            print(\"=> no checkpoint found at '{}'\".format(params[\"resume\"]))\n",
    "\n",
    "    train_loader, val_loader = build_dataloader(params[\"root\"], params)\n",
    "\n",
    "    logger = visdom.Visdom()\n",
    "\n",
    "    train(train_loader=train_loader,\n",
    "          val_loader=val_loader,\n",
    "          model=model,\n",
    "          criterion=criterion,\n",
    "          optimizer=optimizer,\n",
    "          params=params,\n",
    "          logger=logger,\n",
    "          )\n",
    "\n",
    "if __name__ == \"__main__\":\n",
    "    main()"
   ]
  }
 ],
 "metadata": {
  "kernelspec": {
   "display_name": "Python 3 (ipykernel)",
   "language": "python",
   "name": "python3"
  },
  "language_info": {
   "codemirror_mode": {
    "name": "ipython",
    "version": 3
   },
   "file_extension": ".py",
   "mimetype": "text/x-python",
   "name": "python",
   "nbconvert_exporter": "python",
   "pygments_lexer": "ipython3",
   "version": "3.10.14"
  }
 },
 "nbformat": 4,
 "nbformat_minor": 5
}
