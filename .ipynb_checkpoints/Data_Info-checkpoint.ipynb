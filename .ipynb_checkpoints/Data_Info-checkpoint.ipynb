{
 "cells": [
  {
   "cell_type": "markdown",
   "id": "2ce328c1-f678-4e27-84e6-8b8a02fe252a",
   "metadata": {},
   "source": [
    "# 1. 데이터 읽기"
   ]
  },
  {
   "cell_type": "code",
   "execution_count": 1,
   "id": "7aa3267e-08ec-4287-b49d-6c7e922cedbf",
   "metadata": {},
   "outputs": [],
   "source": [
    "import pandas as pd\n",
    "\n",
    "# CSV 파일 읽기\n",
    "df = pd.read_csv('./원본 데이터/생체 데이터.csv')"
   ]
  },
  {
   "cell_type": "markdown",
   "id": "438e7ded-1995-42cc-9350-a5aed1bc4795",
   "metadata": {},
   "source": [
    "# 2. 데이터의 기본 정보 확인"
   ]
  },
  {
   "cell_type": "code",
   "execution_count": 3,
   "id": "8f447820-42c8-40e5-835c-1c2d95edd1e0",
   "metadata": {},
   "outputs": [
    {
     "name": "stdout",
     "output_type": "stream",
     "text": [
      "   WorkDate  UserCode  Heartbeat  Temperature  Spo2  Latitude  Longitude  \\\n",
      "0  20230803         1         71            0     0       0.0        0.0   \n",
      "1  20230803         1         71            0     0       0.0        0.0   \n",
      "2  20230803         1         59            0     0       0.0        0.0   \n",
      "3  20230803         1         57            0     0       0.0        0.0   \n",
      "4  20230803         1         56            0     0       0.0        0.0   \n",
      "\n",
      "                 VitalDate  \n",
      "0  2023-08-03 10:29:07.398  \n",
      "1  2023-08-03 10:29:08.442  \n",
      "2  2023-08-03 10:29:14.393  \n",
      "3  2023-08-03 10:29:16.379  \n",
      "4  2023-08-03 10:29:17.377  \n"
     ]
    }
   ],
   "source": [
    "# 데이터의 첫 6 줄 확인\n",
    "print(df.head())"
   ]
  },
  {
   "cell_type": "code",
   "execution_count": 4,
   "id": "37491e81-a172-45a3-a49c-0dd291716c07",
   "metadata": {},
   "outputs": [
    {
     "name": "stdout",
     "output_type": "stream",
     "text": [
      "(425992, 8)\n"
     ]
    }
   ],
   "source": [
    "# 데이터의 크기 확인\n",
    "print(df.shape)"
   ]
  },
  {
   "cell_type": "code",
   "execution_count": 5,
   "id": "4e5eb9d5-76c0-41cc-b405-1b7335e7840a",
   "metadata": {},
   "outputs": [
    {
     "name": "stdout",
     "output_type": "stream",
     "text": [
      "           WorkDate       UserCode      Heartbeat    Temperature  \\\n",
      "count  4.259920e+05  425992.000000  425992.000000  425992.000000   \n",
      "mean   2.023073e+07      37.037832      80.884331     333.488366   \n",
      "std    2.955615e+01      55.473705      16.312256     101.847085   \n",
      "min    2.023071e+07       0.000000       0.000000       0.000000   \n",
      "25%    2.023071e+07      11.000000      72.000000     361.000000   \n",
      "50%    2.023072e+07      12.000000      80.000000     364.000000   \n",
      "75%    2.023073e+07      43.000000      93.000000     367.000000   \n",
      "max    2.023080e+07     267.000000     192.000000    3540.000000   \n",
      "\n",
      "                Spo2       Latitude      Longitude  \n",
      "count  425992.000000  425992.000000  425992.000000  \n",
      "mean       88.743275      32.638513     119.700528  \n",
      "std        27.561544       9.139570      33.518105  \n",
      "min        -1.000000       0.000000       0.000000  \n",
      "25%        96.000000      35.178095     129.077627  \n",
      "50%        97.000000      35.179761     129.078393  \n",
      "75%        98.000000      35.211775     129.092666  \n",
      "max       100.000000      35.864031     129.243652  \n"
     ]
    }
   ],
   "source": [
    "# 기본적인 통계 정보 확인\n",
    "print(df.describe())"
   ]
  },
  {
   "cell_type": "code",
   "execution_count": null,
   "id": "766a90f5-9137-4ef4-afaa-fef871c694ab",
   "metadata": {},
   "outputs": [],
   "source": []
  }
 ],
 "metadata": {
  "kernelspec": {
   "display_name": "Python 3 (ipykernel)",
   "language": "python",
   "name": "python3"
  },
  "language_info": {
   "codemirror_mode": {
    "name": "ipython",
    "version": 3
   },
   "file_extension": ".py",
   "mimetype": "text/x-python",
   "name": "python",
   "nbconvert_exporter": "python",
   "pygments_lexer": "ipython3",
   "version": "3.10.14"
  }
 },
 "nbformat": 4,
 "nbformat_minor": 5
}
