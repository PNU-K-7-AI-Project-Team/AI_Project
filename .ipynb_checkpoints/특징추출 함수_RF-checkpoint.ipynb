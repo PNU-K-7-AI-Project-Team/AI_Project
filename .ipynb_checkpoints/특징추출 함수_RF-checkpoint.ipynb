{
 "cells": [
  {
   "cell_type": "code",
   "execution_count": 1,
   "id": "465def69-960b-40d6-a5cd-de3c0646bc98",
   "metadata": {},
   "outputs": [],
   "source": [
    "import pandas as pd\n",
    "import numpy as np\n",
    "from scipy.signal import find_peaks\n",
    "from scipy.fft import fft\n",
    "from sklearn.preprocessing import StandardScaler\n",
    "from sklearn.model_selection import train_test_split\n",
    "from sklearn.ensemble import RandomForestClassifier"
   ]
  },
  {
   "cell_type": "code",
   "execution_count": 2,
   "id": "3e6caac0-3aae-47af-97d4-2a8f95c5688a",
   "metadata": {},
   "outputs": [
    {
     "name": "stdout",
     "output_type": "stream",
     "text": [
      "   Unnamed: 0 user_name  raw_timestamp_part_1  raw_timestamp_part_2  \\\n",
      "0           1  carlitos            1323084231                788290   \n",
      "1           2  carlitos            1323084231                808298   \n",
      "2           3  carlitos            1323084231                820366   \n",
      "3           4  carlitos            1323084232                120339   \n",
      "4           5  carlitos            1323084232                196328   \n",
      "\n",
      "     cvtd_timestamp new_window  num_window  roll_belt  pitch_belt  yaw_belt  \\\n",
      "0  05/12/2011 11:23         no          11       1.41        8.07     -94.4   \n",
      "1  05/12/2011 11:23         no          11       1.41        8.07     -94.4   \n",
      "2  05/12/2011 11:23         no          11       1.42        8.07     -94.4   \n",
      "3  05/12/2011 11:23         no          12       1.48        8.05     -94.4   \n",
      "4  05/12/2011 11:23         no          12       1.48        8.07     -94.4   \n",
      "\n",
      "   ...  gyros_forearm_x gyros_forearm_y gyros_forearm_z accel_forearm_x  \\\n",
      "0  ...             0.03            0.00           -0.02             192   \n",
      "1  ...             0.02            0.00           -0.02             192   \n",
      "2  ...             0.03           -0.02            0.00             196   \n",
      "3  ...             0.02           -0.02            0.00             189   \n",
      "4  ...             0.02            0.00           -0.02             189   \n",
      "\n",
      "  accel_forearm_y accel_forearm_z magnet_forearm_x  magnet_forearm_y  \\\n",
      "0             203            -215              -17             654.0   \n",
      "1             203            -216              -18             661.0   \n",
      "2             204            -213              -18             658.0   \n",
      "3             206            -214              -16             658.0   \n",
      "4             206            -214              -17             655.0   \n",
      "\n",
      "   magnet_forearm_z classe  \n",
      "0             476.0      A  \n",
      "1             473.0      A  \n",
      "2             469.0      A  \n",
      "3             469.0      A  \n",
      "4             473.0      A  \n",
      "\n",
      "[5 rows x 160 columns]\n",
      "Index(['Unnamed: 0', 'user_name', 'raw_timestamp_part_1',\n",
      "       'raw_timestamp_part_2', 'cvtd_timestamp', 'new_window', 'num_window',\n",
      "       'roll_belt', 'pitch_belt', 'yaw_belt',\n",
      "       ...\n",
      "       'gyros_forearm_x', 'gyros_forearm_y', 'gyros_forearm_z',\n",
      "       'accel_forearm_x', 'accel_forearm_y', 'accel_forearm_z',\n",
      "       'magnet_forearm_x', 'magnet_forearm_y', 'magnet_forearm_z', 'classe'],\n",
      "      dtype='object', length=160)\n"
     ]
    },
    {
     "name": "stderr",
     "output_type": "stream",
     "text": [
      "C:\\Users\\user\\AppData\\Local\\Temp\\ipykernel_18680\\2338853480.py:2: DtypeWarning: Columns (11,14,19,22,25,70,73,86,87,89,90,94,97,100) have mixed types. Specify dtype option on import or set low_memory=False.\n",
      "  training_data = pd.read_csv('./원본 데이터/pml-training.csv')\n"
     ]
    }
   ],
   "source": [
    "# 데이터 불러오기\n",
    "training_data = pd.read_csv('./원본 데이터/pml-training.csv')\n",
    "testing_data = pd.read_csv('./원본 데이터/pml-testing.csv')\n",
    "\n",
    "# 데이터 샘플링 (샘플 데이터의 크기와 컬럼 확인)\n",
    "print(training_data.head())\n",
    "print(training_data.columns)"
   ]
  },
  {
   "cell_type": "code",
   "execution_count": 3,
   "id": "03791aa1-b685-4090-ab4e-4eaec5b9c54d",
   "metadata": {},
   "outputs": [
    {
     "name": "stdout",
     "output_type": "stream",
     "text": [
      "         Unnamed: 0  raw_timestamp_part_1  raw_timestamp_part_2    num_window  \\\n",
      "count  19622.000000          1.962200e+04          19622.000000  19622.000000   \n",
      "mean    9811.500000          1.322827e+09         500656.144277    430.640047   \n",
      "std     5664.527827          2.049277e+05         288222.879958    247.909554   \n",
      "min        1.000000          1.322490e+09            294.000000      1.000000   \n",
      "25%     4906.250000          1.322673e+09         252912.250000    222.000000   \n",
      "50%     9811.500000          1.322833e+09         496380.000000    424.000000   \n",
      "75%    14716.750000          1.323084e+09         751890.750000    644.000000   \n",
      "max    19622.000000          1.323095e+09         998801.000000    864.000000   \n",
      "\n",
      "          roll_belt    pitch_belt      yaw_belt  total_accel_belt  \\\n",
      "count  19622.000000  19622.000000  19622.000000      19622.000000   \n",
      "mean      64.407197      0.305283    -11.205061         11.312608   \n",
      "std       62.750255     22.351242     95.193926          7.742309   \n",
      "min      -28.900000    -55.800000   -180.000000          0.000000   \n",
      "25%        1.100000      1.760000    -88.300000          3.000000   \n",
      "50%      113.000000      5.280000    -13.000000         17.000000   \n",
      "75%      123.000000     14.900000     12.900000         18.000000   \n",
      "max      162.000000     60.300000    179.000000         29.000000   \n",
      "\n",
      "       max_roll_belt  max_picth_belt  ...  var_yaw_forearm  gyros_forearm_x  \\\n",
      "count     406.000000      406.000000  ...       406.000000     19622.000000   \n",
      "mean       -6.667241       12.923645  ...      4639.849068         0.157951   \n",
      "std        94.594252        8.005960  ...      7284.972361         0.648618   \n",
      "min       -94.300000        3.000000  ...         0.000000       -22.000000   \n",
      "25%       -88.000000        5.000000  ...         0.274550        -0.220000   \n",
      "50%        -5.100000       18.000000  ...       612.214225         0.050000   \n",
      "75%        18.500000       19.000000  ...      7368.414252         0.560000   \n",
      "max       180.000000       30.000000  ...     39009.333330         3.970000   \n",
      "\n",
      "       gyros_forearm_y  gyros_forearm_z  accel_forearm_x  accel_forearm_y  \\\n",
      "count     19622.000000     19622.000000     19622.000000     19622.000000   \n",
      "mean          0.075175         0.151245       -61.651819       163.655896   \n",
      "std           3.100725         1.754483       180.593687       200.130082   \n",
      "min          -7.020000        -8.090000      -498.000000      -632.000000   \n",
      "25%          -1.460000        -0.180000      -178.000000        57.000000   \n",
      "50%           0.030000         0.080000       -57.000000       201.000000   \n",
      "75%           1.620000         0.490000        76.000000       312.000000   \n",
      "max         311.000000       231.000000       477.000000       923.000000   \n",
      "\n",
      "       accel_forearm_z  magnet_forearm_x  magnet_forearm_y  magnet_forearm_z  \n",
      "count     19622.000000      19622.000000      19622.000000      19622.000000  \n",
      "mean        -55.291917       -312.575884        380.116445        393.613745  \n",
      "std         138.396947        346.958482        509.373742        369.268747  \n",
      "min        -446.000000      -1280.000000       -896.000000       -973.000000  \n",
      "25%        -182.000000       -616.000000          2.000000        191.000000  \n",
      "50%         -39.000000       -378.000000        591.000000        511.000000  \n",
      "75%          26.000000        -73.000000        737.000000        653.000000  \n",
      "max         291.000000        672.000000       1480.000000       1090.000000  \n",
      "\n",
      "[8 rows x 123 columns]\n"
     ]
    }
   ],
   "source": [
    "print(training_data.describe())"
   ]
  },
  {
   "cell_type": "code",
   "execution_count": 4,
   "id": "dbc129a3-b22e-45c2-bd22-a2ba09c491d1",
   "metadata": {},
   "outputs": [
    {
     "name": "stdout",
     "output_type": "stream",
     "text": [
      "Training data length: 19622\n",
      "Testing data length: 20\n"
     ]
    }
   ],
   "source": [
    "print(f\"Training data length: {len(training_data)}\")\n",
    "print(f\"Testing data length: {len(testing_data)}\")"
   ]
  },
  {
   "cell_type": "markdown",
   "id": "dd6621e1-70a7-44d6-8f90-cb070ece278f",
   "metadata": {},
   "source": [
    "## **특징 추출 함수 정의**"
   ]
  },
  {
   "cell_type": "code",
   "execution_count": 5,
   "id": "5bb5e00c-c010-4b3d-8e2a-e3eb51edbbaf",
   "metadata": {},
   "outputs": [],
   "source": [
    "def extract_features(df, window_size=3, overlap=0.8, is_training=False):\n",
    "    features = []\n",
    "    labels = []\n",
    "    step = int(window_size * (1 - overlap))\n",
    "\n",
    "    for start in range(0, len(df) - window_size, step):\n",
    "        end = start + window_size\n",
    "        window = df.iloc[start:end]\n",
    "\n",
    "        feature_vector = []\n",
    "\n",
    "        for axis in ['gyros_forearm_x', 'gyros_forearm_y', 'gyros_forearm_z']:\n",
    "            gyro_data = window[axis].values\n",
    "\n",
    "            # 각속도 (1차 미분)\n",
    "            gyro_diff = np.diff(gyro_data, axis=0)\n",
    "\n",
    "            # 가속도 (2차 미분)\n",
    "            gyro_acc = np.diff(gyro_diff, axis=0)\n",
    "\n",
    "            # 피크 탐지\n",
    "            peaks, _ = find_peaks(gyro_data)\n",
    "            num_peaks = len(peaks)\n",
    "\n",
    "            # 이동 평균\n",
    "            moving_avg = window[axis].rolling(window=5).mean().mean()\n",
    "\n",
    "            # 이동 표준 편차\n",
    "            moving_std = window[axis].rolling(window=5).std().mean()\n",
    "\n",
    "            # 변화율\n",
    "            rate_of_change = (gyro_data[-1] - gyro_data[0]) / window_size\n",
    "\n",
    "            # Fourier 변환 (주파수 영역 특징)\n",
    "            fft_vals = fft(gyro_data)\n",
    "            fft_mean = np.mean(np.abs(fft_vals))\n",
    "\n",
    "            # Wavelet 변환, 에너지 등 추가 기능\n",
    "\n",
    "            # 특징 벡터\n",
    "            feature_vector.extend([\n",
    "                gyro_diff.mean(), # 평균 속도\n",
    "                gyro_acc.mean(),  # 평균 가속도\n",
    "                num_peaks,        # 피크 개수\n",
    "                moving_avg,       # 이동 평균\n",
    "                moving_std,       # 이동 표준 편차\n",
    "                rate_of_change,   # 변화율\n",
    "                fft_mean          # Fourier 평균\n",
    "            ])\n",
    "\n",
    "        features.append(feature_vector)\n",
    "\n",
    "        # 훈련 데이터일 경우 레이블을 추가\n",
    "        if is_training:\n",
    "            labels.append(window['classe'].iloc[-1])\n",
    "\n",
    "    if is_training:\n",
    "        return np.array(features), np.array(labels)\n",
    "    else:\n",
    "        return np.array(features)\n",
    "\n",
    "# 훈련 데이터에서 특징 추출\n",
    "X_train, y_train = extract_features(training_data, window_size=10, overlap=0.5, is_training=True)\n",
    "\n",
    "# 테스트 데이터에서 특징 추출 (레이블 없이)\n",
    "X_test = extract_features(testing_data, window_size=10, overlap=0.5, is_training=False)\n",
    "\n",
    "# 표준화\n",
    "scaler = StandardScaler()\n",
    "X_train = scaler.fit_transform(X_train)\n",
    "X_test = scaler.transform(X_test)"
   ]
  },
  {
   "cell_type": "code",
   "execution_count": 6,
   "id": "38cb42b8-79be-4c6c-9ece-4d6d34474919",
   "metadata": {},
   "outputs": [
    {
     "name": "stdout",
     "output_type": "stream",
     "text": [
      "testing data로부터 추출된 특징들 수: (2, 21)\n"
     ]
    }
   ],
   "source": [
    "print(f\"testing data로부터 추출된 특징들 수: {X_test.shape}\")"
   ]
  }
 ],
 "metadata": {
  "kernelspec": {
   "display_name": "Python 3 (ipykernel)",
   "language": "python",
   "name": "python3"
  },
  "language_info": {
   "codemirror_mode": {
    "name": "ipython",
    "version": 3
   },
   "file_extension": ".py",
   "mimetype": "text/x-python",
   "name": "python",
   "nbconvert_exporter": "python",
   "pygments_lexer": "ipython3",
   "version": "3.10.14"
  }
 },
 "nbformat": 4,
 "nbformat_minor": 5
}
