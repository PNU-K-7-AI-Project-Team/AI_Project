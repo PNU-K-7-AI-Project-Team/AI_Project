{
 "cells": [
  {
   "cell_type": "markdown",
   "id": "6fee4bcf",
   "metadata": {},
   "source": [
    "# 1. 필요한 라이브러리 임포트"
   ]
  },
  {
   "cell_type": "code",
   "execution_count": 1,
   "id": "99cc688f",
   "metadata": {},
   "outputs": [],
   "source": [
    "import pandas as pd\n",
    "import numpy as np\n",
    "import matplotlib.pyplot as plt\n",
    "import seaborn as sns\n",
    "from scipy import stats"
   ]
  },
  {
   "cell_type": "markdown",
   "id": "3229f38e",
   "metadata": {},
   "source": [
    "# 2. 데이터 로드"
   ]
  },
  {
   "cell_type": "code",
   "execution_count": 2,
   "id": "401873ad",
   "metadata": {},
   "outputs": [],
   "source": [
    "# UCI-HAR 데이터 로드\n",
    "def load_uci_har_data():\n",
    "    uci_har_path = './원본 데이터/UCI HAR Dataset/'\n",
    "\n",
    "    gyro_x_train = pd.read_csv(uci_har_path + 'train/Inertial Signals/body_gyro_x_train.txt', sep='\\s+', header=None).values\n",
    "    gyro_y_train = pd.read_csv(uci_har_path + 'train/Inertial Signals/body_gyro_y_train.txt', sep='\\s+', header=None).values\n",
    "    gyro_z_train = pd.read_csv(uci_har_path + 'train/Inertial Signals/body_gyro_z_train.txt', sep='\\s+', header=None).values\n",
    "    labels_train = pd.read_csv(uci_har_path + 'train/y_train.txt', sep='\\s+', header=None).values - 1\n",
    "    X_train = np.stack([gyro_x_train, gyro_y_train, gyro_z_train], axis=-1)\n",
    "    return X_train, labels_train\n",
    "\n",
    "X_train, y_train = load_uci_har_data()\n",
    "\n",
    "# UCI-HAR 데이터 DataFrame으로 변환\n",
    "uci_har_df = pd.DataFrame(X_train.reshape(-1, 3), columns=['X', 'Y', 'Z'])"
   ]
  },
  {
   "cell_type": "code",
   "execution_count": 3,
   "id": "85e5edba-963a-47ac-90af-f837a72fcab4",
   "metadata": {},
   "outputs": [
    {
     "name": "stdout",
     "output_type": "stream",
     "text": [
      "UCI-HAR 데이터 샘플:\n",
      "          X         Y         Z\n",
      "0  0.030191  0.066014  0.022859\n",
      "1  0.043711  0.042699  0.010316\n",
      "2  0.035688  0.074850  0.013250\n",
      "3  0.040402  0.057320  0.017751\n",
      "4  0.047097  0.052343  0.002553\n",
      "\n",
      "자이로 데이터 샘플:\n",
      "   WorkDate  UserCode     X     Y     Z         RegisterDate\n",
      "0  20230803         1 -0.01  0.00  0.00  2023-08-03 10:34:41\n",
      "1  20230803         1  0.05 -0.02 -0.02  2023-08-03 10:32:47\n",
      "2  20230803         1  0.06  0.12  0.08  2023-08-03 10:30:12\n",
      "3  20230803         1  0.02  0.02 -0.01  2023-08-03 10:33:41\n",
      "4  20230803         1  0.17  0.05  0.01  2023-08-03 10:33:03\n"
     ]
    }
   ],
   "source": [
    "# 자이로 데이터 로드\n",
    "gyro_data = pd.read_csv('./원본 데이터/자이로 데이터.csv')\n",
    "\n",
    "print(\"UCI-HAR 데이터 샘플:\")\n",
    "print(uci_har_df.head())\n",
    "print(\"\\n자이로 데이터 샘플:\")\n",
    "print(gyro_data.head())"
   ]
  },
  {
   "cell_type": "markdown",
   "id": "3a2fd6f9",
   "metadata": {},
   "source": [
    "# 3. 기본 통계 비교"
   ]
  },
  {
   "cell_type": "code",
   "execution_count": 4,
   "id": "60dd1ae2",
   "metadata": {},
   "outputs": [
    {
     "name": "stdout",
     "output_type": "stream",
     "text": [
      "기본 통계 비교:\n",
      "       UCI-HAR                              Gyro                            \n",
      "             X         Y         Z             X             Y             Z\n",
      "mean  0.000506 -0.000824  0.000113  -3702.910910   2829.783692    966.719159\n",
      "std   0.406815  0.381855  0.255743   2996.991394   4704.889694   3819.702620\n",
      "min  -4.733656 -5.974330 -2.763014 -32768.000000 -30016.000000 -32768.000000\n",
      "25%  -0.044328 -0.055065 -0.025253  -6080.000000   -256.000000  -1280.000000\n",
      "50%   0.000138 -0.000578  0.000490  -3712.000000   3392.000000    576.000000\n",
      "75%   0.054847  0.036958  0.049530  -1792.000000   7104.000000   3584.000000\n",
      "max   4.155473  5.746062  2.365982  32512.000000  32384.000000  32640.000000\n",
      "\n",
      "\n"
     ]
    }
   ],
   "source": [
    "def compare_basic_stats(uci_data, gyro_data):\n",
    "    stats = ['mean', 'std', 'min', '25%', '50%', '75%', 'max']\n",
    "    uci_stats = uci_data.describe().loc[stats]\n",
    "    gyro_stats = gyro_data[['X', 'Y', 'Z']].describe().loc[stats]\n",
    "\n",
    "    comparison = pd.concat([uci_stats, gyro_stats], axis=1, keys=['UCI-HAR', 'Gyro'])\n",
    "    print(\"기본 통계 비교:\")\n",
    "    print(comparison)\n",
    "    print(\"\\n\")\n",
    "\n",
    "compare_basic_stats(uci_har_df, gyro_data)"
   ]
  },
  {
   "cell_type": "markdown",
   "id": "70c58413",
   "metadata": {},
   "source": [
    "# 4. 분포 시각화"
   ]
  },
  {
   "cell_type": "code",
   "execution_count": 5,
   "id": "91ef84d5",
   "metadata": {},
   "outputs": [
    {
     "name": "stdout",
     "output_type": "stream",
     "text": [
      "분포 비교 그래프가 'UCI-HAR, 자이로 데이터 분포 시각화.png'로 저장되었습니다.\n"
     ]
    }
   ],
   "source": [
    "def plot_distributions(uci_data, gyro_data):\n",
    "    fig, axes = plt.subplots(3, 1, figsize=(12, 15))\n",
    "    for i, axis in enumerate(['X', 'Y', 'Z']):\n",
    "        sns.kdeplot(uci_data[axis], ax=axes[i], label='UCI-HAR')\n",
    "        sns.kdeplot(gyro_data[axis], ax=axes[i], label='Gyro')\n",
    "        axes[i].set_title(f'{axis}-axis Distribution')\n",
    "        axes[i].legend()\n",
    "    plt.tight_layout()\n",
    "    plt.savefig('./원본 데이터/UCI-HAR, 자이로 데이터 분포 시각화.png')\n",
    "    plt.close()\n",
    "\n",
    "plot_distributions(uci_har_df, gyro_data)\n",
    "print(\"분포 비교 그래프가 'UCI-HAR, 자이로 데이터 분포 시각화.png'로 저장되었습니다.\")"
   ]
  },
  {
   "cell_type": "markdown",
   "id": "9548d0a6",
   "metadata": {},
   "source": [
    "# 5. 주파수 도메인 분석:"
   ]
  },
  {
   "cell_type": "code",
   "execution_count": 7,
   "id": "da7b8b29",
   "metadata": {},
   "outputs": [
    {
     "name": "stdout",
     "output_type": "stream",
     "text": [
      "주파수 도메인 비교 그래프가 'frequency_domain_comparison.png'로 저장되었습니다.\n"
     ]
    }
   ],
   "source": [
    "def compare_frequency_domain(uci_data, gyro_data):\n",
    "    def fft_analysis(data):\n",
    "        # 데이터를 numpy 배열로 변환\n",
    "        data_array = np.array(data)\n",
    "        # 데이터 길이를 동일하게 맞춤 (더 짧은 데이터에 맞춤)\n",
    "        min_length = min(len(uci_data), len(gyro_data))\n",
    "        data_array = data_array[:min_length]\n",
    "        \n",
    "        fft_result = np.fft.fft(data_array)\n",
    "        freq = np.fft.fftfreq(len(data_array))\n",
    "        return freq, np.abs(fft_result)\n",
    "    \n",
    "    fig, axes = plt.subplots(3, 2, figsize=(15, 15))\n",
    "    for i, axis in enumerate(['X', 'Y', 'Z']):\n",
    "        uci_freq, uci_amp = fft_analysis(uci_data[axis])\n",
    "        gyro_freq, gyro_amp = fft_analysis(gyro_data[axis])\n",
    "        \n",
    "        axes[i, 0].plot(uci_freq, uci_amp, label='UCI-HAR')\n",
    "        axes[i, 0].set_title(f'UCI-HAR {axis}-axis Frequency')\n",
    "        axes[i, 1].plot(gyro_freq, gyro_amp, label='Gyro')\n",
    "        axes[i, 1].set_title(f'Gyro {axis}-axis Frequency')\n",
    "        \n",
    "        axes[i, 0].legend()\n",
    "        axes[i, 1].legend()\n",
    "    \n",
    "    plt.tight_layout()\n",
    "    plt.savefig('frequency_domain_comparison.png')\n",
    "    plt.close()\n",
    "\n",
    "compare_frequency_domain(uci_har_df, gyro_data)\n",
    "print(\"주파수 도메인 비교 그래프가 'frequency_domain_comparison.png'로 저장되었습니다.\")"
   ]
  },
  {
   "cell_type": "markdown",
   "id": "3c3c4075",
   "metadata": {},
   "source": [
    "# 6. 상관관계 분석:"
   ]
  },
  {
   "cell_type": "code",
   "execution_count": 8,
   "id": "bbc9fc64",
   "metadata": {},
   "outputs": [
    {
     "name": "stdout",
     "output_type": "stream",
     "text": [
      "상관관계 분석 그래프가 'UCI-HAR, 자이로 데이터 상관관계 분석.png'로 저장되었습니다.\n"
     ]
    }
   ],
   "source": [
    "def compare_correlation(uci_data, gyro_data):\n",
    "    uci_corr = uci_data.corr()\n",
    "    gyro_corr = gyro_data[['X', 'Y', 'Z']].corr()\n",
    "\n",
    "    fig, (ax1, ax2) = plt.subplots(1, 2, figsize=(15, 6))\n",
    "    sns.heatmap(uci_corr, annot=True, cmap='coolwarm', ax=ax1)\n",
    "    ax1.set_title('UCI-HAR Correlation Matrix')\n",
    "    sns.heatmap(gyro_corr, annot=True, cmap='coolwarm', ax=ax2)\n",
    "    ax2.set_title('Gyro Correlation Matrix')\n",
    "    plt.savefig('./원본 데이터/UCI-HAR, 자이로 데이터 상관관계 분석.png')\n",
    "    plt.close()\n",
    "\n",
    "compare_correlation(uci_har_df, gyro_data)\n",
    "print(\"상관관계 분석 그래프가 'UCI-HAR, 자이로 데이터 상관관계 분석.png'로 저장되었습니다.\")"
   ]
  },
  {
   "cell_type": "markdown",
   "id": "c1744b16",
   "metadata": {},
   "source": [
    "# 7. 시계열 패턴 비교"
   ]
  },
  {
   "cell_type": "code",
   "execution_count": 9,
   "id": "8eee3169",
   "metadata": {},
   "outputs": [
    {
     "name": "stdout",
     "output_type": "stream",
     "text": [
      "시계열 패턴 비교 그래프가 'UCI-HAR, 자이로 데이터 시계열 패턴 비교.png'로 저장되었습니다.\n"
     ]
    }
   ],
   "source": [
    "def compare_time_series(uci_data, gyro_data, samples=1000):\n",
    "    fig, axes = plt.subplots(3, 2, figsize=(15, 15))\n",
    "    for i, axis in enumerate(['X', 'Y', 'Z']):\n",
    "        axes[i, 0].plot(uci_data[axis][:samples])\n",
    "        axes[i, 0].set_title(f'UCI-HAR {axis}-axis Time Series')\n",
    "        axes[i, 1].plot(gyro_data[axis][:samples])\n",
    "        axes[i, 1].set_title(f'Gyro {axis}-axis Time Series')\n",
    "\n",
    "    plt.tight_layout()\n",
    "    plt.savefig('./원본 데이터/UCI-HAR, 자이로 데이터 시계열 패턴 비교.png')\n",
    "    plt.close()\n",
    "\n",
    "compare_time_series(uci_har_df, gyro_data)\n",
    "print(\"시계열 패턴 비교 그래프가 'UCI-HAR, 자이로 데이터 시계열 패턴 비교.png'로 저장되었습니다.\")"
   ]
  },
  {
   "cell_type": "markdown",
   "id": "21708792",
   "metadata": {},
   "source": [
    "# 8. 결과 해석 및 요약"
   ]
  },
  {
   "cell_type": "code",
   "execution_count": 12,
   "id": "17603a80",
   "metadata": {},
   "outputs": [
    {
     "name": "stdout",
     "output_type": "stream",
     "text": [
      "데이터셋 간 주요 차이점:\n",
      "X-axis 평균 차이: 3702.9114\n",
      "Y-axis 평균 차이: -2829.7845\n",
      "Z-axis 평균 차이: -966.7190\n",
      "X-axis 표준편차 차이: -2996.5846\n",
      "Y-axis 표준편차 차이: -4704.5078\n",
      "Z-axis 표준편차 차이: -3819.4469\n",
      "\n",
      "상관관계 차이:\n",
      "          X         Y         Z\n",
      "X  0.000000 -0.236934 -0.285683\n",
      "Y -0.236934  0.000000  0.266782\n",
      "Z -0.285683  0.266782  0.000000\n"
     ]
    }
   ],
   "source": [
    "def summarize_findings(uci_data, gyro_data):\n",
    "    print(\"데이터셋 간 주요 차이점:\")\n",
    "    \n",
    "    # 평균 비교\n",
    "    for axis in ['X', 'Y', 'Z']:\n",
    "        uci_mean = uci_data[axis].mean()\n",
    "        gyro_mean = gyro_data[axis].mean()\n",
    "        print(f\"{axis}-axis 평균 차이: {uci_mean - gyro_mean:.4f}\")\n",
    "    \n",
    "    # 표준편차 비교\n",
    "    for axis in ['X', 'Y', 'Z']:\n",
    "        uci_std = uci_data[axis].std()\n",
    "        gyro_std = gyro_data[axis].std()\n",
    "        print(f\"{axis}-axis 표준편차 차이: {uci_std - gyro_std:.4f}\")\n",
    "    \n",
    "    # 상관관계 차이\n",
    "    uci_corr = uci_data[['X', 'Y', 'Z']].corr()\n",
    "    gyro_corr = gyro_data[['X', 'Y', 'Z']].corr()\n",
    "    print(\"\\n상관관계 차이:\")\n",
    "    corr_diff = uci_corr - gyro_corr\n",
    "    print(corr_diff)\n",
    "\n",
    "summarize_findings(uci_har_df, gyro_data)"
   ]
  },
  {
   "cell_type": "markdown",
   "id": "ad12895a-4ac1-4852-a6af-e2e7d0e1a982",
   "metadata": {},
   "source": [
    "## 차이점\n",
    "1. 데이터 구조:\n",
    "> UCI-HAR 데이터는 X, Y, Z 축의 자이로스코프 데이터만 포함   \n",
    "> 자이로 데이터는 추가적인 정보(WorkDate, UserCode, RegisterDate)를 포함   \n",
    "2. 스케일 차이:\n",
    "> UCI-HAR 데이터는 -6에서 6 사이의 값을 가짐   \n",
    "> 자이로 데이터는 -32768에서 32640 사이의 값을 가짐   \n",
    "> 이는 자이로 데이터가 raw 센서 데이터일 가능성이 높으며, 정규화되지 않았음을 시사   \n",
    "3. 평균 차이:\n",
    "> X, Y, Z 축 모두에서 큰 평균 차이가 있음\n",
    "> 이는 두 데이터셋의 중심점이 매우 다르다는 것을 의미\n",
    "4. 표준편차 차이:\n",
    "> 자이로 데이터의 표준편차가 UCI-HAR 데이터보다 훨씬 큼\n",
    "> 이는 자이로 데이터의 변동성이 더 크다는 것을 의미\n",
    "5. 상관관계 차이:\n",
    "> 축 간 상관관계에 차이가 있음\n",
    "> 특히 X-Z축과 Y-Z축 간의 상관관계 차이가 크게 나타남"
   ]
  },
  {
   "cell_type": "markdown",
   "id": "13526f9e-8a25-4095-bba2-c87e35dc7f3e",
   "metadata": {},
   "source": [
    "### 이러한 차이점을 고려하여 다음과 같은 조치를 취함"
   ]
  },
  {
   "cell_type": "markdown",
   "id": "46716022-9d21-4947-b74d-7aec9c53ead9",
   "metadata": {},
   "source": [
    "1. 데이터 정규화:\n",
    "> 자이로 데이터를 UCI-HAR 데이터와 유사한 스케일로 정규화   \n",
    "> 예를 들어, Min-Max 스케일링이나 표준화(Z-score)를 적용할 수 있습니다.\n",
    "2. 중심 조정:\n",
    "> 자이로 데이터의 평균을 0에 가깝게 조정   \n",
    "> 이는 데이터의 중심을 맞추는 데 도움\n",
    "3. 특성 공학:\n",
    "> 자이로 데이터의 추가 정보(WorkDate, UserCode 등)를 활용하여 새로운 특성을 만들어낼 수 있음\n",
    "4. 데이터 필터링:\n",
    "> 자이로 데이터의 이상치를 제거하거나 필터링하여 UCI-HAR 데이터와 유사한 분포를 가지도록 조정 가능\n",
    "5. 모델 조정:\n",
    "> 두 데이터셋 간의 차이를 고려하여 모델의 아키텍처나 하이퍼파라미터를 조정할 필요가 있음   \n",
    "> 이러한 조치를 통해 UCI-HAR 데이터로 학습한 모델을 자이로 데이터에 적용할 때 발생할 수 있는 문제를 최소화하고, 더 나은 성능을 얻을 수 있음"
   ]
  },
  {
   "cell_type": "code",
   "execution_count": null,
   "id": "33b6703a-f1e8-4015-88da-a3704d37a97d",
   "metadata": {},
   "outputs": [],
   "source": []
  }
 ],
 "metadata": {
  "kernelspec": {
   "display_name": "Python 3 (ipykernel)",
   "language": "python",
   "name": "python3"
  },
  "language_info": {
   "codemirror_mode": {
    "name": "ipython",
    "version": 3
   },
   "file_extension": ".py",
   "mimetype": "text/x-python",
   "name": "python",
   "nbconvert_exporter": "python",
   "pygments_lexer": "ipython3",
   "version": "3.9.19"
  }
 },
 "nbformat": 4,
 "nbformat_minor": 5
}
