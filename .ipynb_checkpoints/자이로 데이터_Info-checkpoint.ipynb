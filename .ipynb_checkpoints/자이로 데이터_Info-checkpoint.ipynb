{
 "cells": [
  {
   "cell_type": "code",
   "execution_count": 1,
   "id": "cda65183-ec6b-4b49-9da8-7c57253bf8de",
   "metadata": {},
   "outputs": [],
   "source": [
    "import pandas as pd\n",
    "import seaborn as sns\n",
    "import matplotlib.pyplot as plt"
   ]
  },
  {
   "cell_type": "markdown",
   "id": "8e3b114d-f1cb-471e-ba87-943c66c1b9dd",
   "metadata": {},
   "source": [
    "# 1. 데이터 읽기"
   ]
  },
  {
   "cell_type": "code",
   "execution_count": 2,
   "id": "1141a932-0649-4a46-bd77-994ee71989e7",
   "metadata": {},
   "outputs": [],
   "source": [
    "# CSV 파일 읽기\n",
    "df = pd.read_csv('./원본 데이터/자이로 데이터.csv')"
   ]
  },
  {
   "cell_type": "markdown",
   "id": "35ad55a7-00c1-4dc7-99c2-1fdab87a9209",
   "metadata": {},
   "source": [
    "# 2. 데이터의 기본 정보 확인"
   ]
  },
  {
   "cell_type": "code",
   "execution_count": 3,
   "id": "45b58a41-8625-47a3-b755-c3f8a21e31b3",
   "metadata": {},
   "outputs": [
    {
     "name": "stdout",
     "output_type": "stream",
     "text": [
      "   WorkDate  UserCode     X     Y     Z         RegisterDate\n",
      "0  20230803         1 -0.01  0.00  0.00  2023-08-03 10:34:41\n",
      "1  20230803         1  0.05 -0.02 -0.02  2023-08-03 10:32:47\n",
      "2  20230803         1  0.06  0.12  0.08  2023-08-03 10:30:12\n",
      "3  20230803         1  0.02  0.02 -0.01  2023-08-03 10:33:41\n",
      "4  20230803         1  0.17  0.05  0.01  2023-08-03 10:33:03\n"
     ]
    }
   ],
   "source": [
    "# 데이터의 첫 6 줄 확인\n",
    "print(df.head())"
   ]
  },
  {
   "cell_type": "code",
   "execution_count": 4,
   "id": "7ebedec8-343d-47b9-8d35-0fcad93bd83b",
   "metadata": {},
   "outputs": [
    {
     "name": "stdout",
     "output_type": "stream",
     "text": [
      "(5920987, 6)\n"
     ]
    }
   ],
   "source": [
    "# 데이터의 크기 확인\n",
    "print(df.shape)"
   ]
  },
  {
   "cell_type": "code",
   "execution_count": 5,
   "id": "7f22c1d2-0d01-449f-94ad-a7f56542b66b",
   "metadata": {},
   "outputs": [
    {
     "name": "stdout",
     "output_type": "stream",
     "text": [
      "<class 'pandas.core.frame.DataFrame'>\n",
      "RangeIndex: 5920987 entries, 0 to 5920986\n",
      "Data columns (total 6 columns):\n",
      " #   Column        Dtype  \n",
      "---  ------        -----  \n",
      " 0   WorkDate      int64  \n",
      " 1   UserCode      int64  \n",
      " 2   X             float64\n",
      " 3   Y             float64\n",
      " 4   Z             float64\n",
      " 5   RegisterDate  object \n",
      "dtypes: float64(3), int64(2), object(1)\n",
      "memory usage: 271.0+ MB\n",
      "None\n"
     ]
    }
   ],
   "source": [
    "print(df.info())"
   ]
  },
  {
   "cell_type": "code",
   "execution_count": 6,
   "id": "9b415983-b221-4c8c-a8ce-cac725347a67",
   "metadata": {},
   "outputs": [
    {
     "name": "stdout",
     "output_type": "stream",
     "text": [
      "           WorkDate      UserCode             X             Y             Z\n",
      "count  5.920987e+06  5.920987e+06  5.920987e+06  5.920987e+06  5.920987e+06\n",
      "mean   2.023073e+07  4.460936e+01 -3.702911e+03  2.829784e+03  9.667192e+02\n",
      "std    3.105317e+01  5.238877e+01  2.996991e+03  4.704890e+03  3.819703e+03\n",
      "min    2.023071e+07  0.000000e+00 -3.276800e+04 -3.001600e+04 -3.276800e+04\n",
      "25%    2.023072e+07  1.100000e+01 -6.080000e+03 -2.560000e+02 -1.280000e+03\n",
      "50%    2.023072e+07  3.000000e+01 -3.712000e+03  3.392000e+03  5.760000e+02\n",
      "75%    2.023073e+07  4.800000e+01 -1.792000e+03  7.104000e+03  3.584000e+03\n",
      "max    2.023080e+07  2.670000e+02  3.251200e+04  3.238400e+04  3.264000e+04\n"
     ]
    }
   ],
   "source": [
    "# 기본적인 통계 정보 확인\n",
    "print(df.describe())"
   ]
  },
  {
   "cell_type": "code",
   "execution_count": 7,
   "id": "bf154f65-1f7d-49fa-abda-5fbb6e434326",
   "metadata": {},
   "outputs": [
    {
     "name": "stdout",
     "output_type": "stream",
     "text": [
      "WorkDate          int64\n",
      "UserCode          int64\n",
      "X               float64\n",
      "Y               float64\n",
      "Z               float64\n",
      "RegisterDate     object\n",
      "dtype: object\n"
     ]
    }
   ],
   "source": [
    "print(df.dtypes)"
   ]
  },
  {
   "cell_type": "code",
   "execution_count": 8,
   "id": "0706e41a-97ae-4f77-9ca7-9344e125a9aa",
   "metadata": {},
   "outputs": [
    {
     "name": "stdout",
     "output_type": "stream",
     "text": [
      "WorkDate 최소값: 20230710\n",
      "WorkDate 최대값: 20230803\n"
     ]
    }
   ],
   "source": [
    "# WorkDate 열의 최소값과 최대값 확인\n",
    "workdate_min = df['WorkDate'].min()\n",
    "workdate_max = df['WorkDate'].max()\n",
    "\n",
    "print(f\"WorkDate 최소값: {workdate_min}\")\n",
    "print(f\"WorkDate 최대값: {workdate_max}\")"
   ]
  },
  {
   "cell_type": "code",
   "execution_count": 13,
   "id": "15de18f9-9b76-49e1-a277-11e14ff109b0",
   "metadata": {},
   "outputs": [
    {
     "name": "stdout",
     "output_type": "stream",
     "text": [
      "UserCode의 고유 사용자 수: 893204\n"
     ]
    }
   ],
   "source": [
    "# 고유한 사용자 수 계산\n",
    "unique_user_count = df['RegisterDate'].nunique()\n",
    "\n",
    "print(f\"UserCode의 고유 사용자 수: {unique_user_count}\")"
   ]
  },
  {
   "cell_type": "code",
   "execution_count": null,
   "id": "6a014c2c-ec40-4ef5-96c7-5da352a1bdc4",
   "metadata": {},
   "outputs": [],
   "source": []
  }
 ],
 "metadata": {
  "kernelspec": {
   "display_name": "Python 3 (ipykernel)",
   "language": "python",
   "name": "python3"
  },
  "language_info": {
   "codemirror_mode": {
    "name": "ipython",
    "version": 3
   },
   "file_extension": ".py",
   "mimetype": "text/x-python",
   "name": "python",
   "nbconvert_exporter": "python",
   "pygments_lexer": "ipython3",
   "version": "3.10.14"
  }
 },
 "nbformat": 4,
 "nbformat_minor": 5
}
