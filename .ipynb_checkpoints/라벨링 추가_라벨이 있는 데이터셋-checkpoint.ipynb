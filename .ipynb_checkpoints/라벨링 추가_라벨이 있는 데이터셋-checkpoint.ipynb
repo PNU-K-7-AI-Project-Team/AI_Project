{
 "cells": [
  {
   "cell_type": "code",
   "execution_count": null,
   "id": "5495ff11-8d0d-42b7-8169-ca2b47aedd5f",
   "metadata": {},
   "outputs": [],
   "source": []
  },
  {
   "cell_type": "code",
   "execution_count": 1,
   "id": "a8cb81e9-ab25-4075-9ebb-b48505d043e4",
   "metadata": {},
   "outputs": [
    {
     "name": "stdout",
     "output_type": "stream",
     "text": [
      "# packages in environment at C:\\Users\\LEE\\anaconda3\\envs\\dh:\n",
      "#\n",
      "# Name                    Version                   Build  Channel\n",
      "cudatoolkit               11.4.3              h208a305_13    conda-forge\n"
     ]
    }
   ],
   "source": [
    "!conda list cudatoolkit"
   ]
  },
  {
   "cell_type": "code",
   "execution_count": 2,
   "id": "b6e2ebe0-1bee-41d6-b343-8fbcc9e97f64",
   "metadata": {},
   "outputs": [
    {
     "ename": "ModuleNotFoundError",
     "evalue": "No module named 'tensorflow'",
     "output_type": "error",
     "traceback": [
      "\u001b[1;31m---------------------------------------------------------------------------\u001b[0m",
      "\u001b[1;31mModuleNotFoundError\u001b[0m                       Traceback (most recent call last)",
      "Cell \u001b[1;32mIn[2], line 1\u001b[0m\n\u001b[1;32m----> 1\u001b[0m \u001b[38;5;28;01mimport\u001b[39;00m \u001b[38;5;21;01mtensorflow\u001b[39;00m \u001b[38;5;28;01mas\u001b[39;00m \u001b[38;5;21;01mtf\u001b[39;00m\n\u001b[0;32m      2\u001b[0m \u001b[38;5;28mprint\u001b[39m(\u001b[38;5;124m\"\u001b[39m\u001b[38;5;124mTensorFlow version:\u001b[39m\u001b[38;5;124m\"\u001b[39m, tf\u001b[38;5;241m.\u001b[39m__version__)\n\u001b[0;32m      3\u001b[0m gpu_devices \u001b[38;5;241m=\u001b[39m tf\u001b[38;5;241m.\u001b[39mconfig\u001b[38;5;241m.\u001b[39mlist_physical_devices(\u001b[38;5;124m'\u001b[39m\u001b[38;5;124mGPU\u001b[39m\u001b[38;5;124m'\u001b[39m)\n",
      "\u001b[1;31mModuleNotFoundError\u001b[0m: No module named 'tensorflow'"
     ]
    }
   ],
   "source": [
    "import tensorflow as tf\n",
    "print(\"TensorFlow version:\", tf.__version__)\n",
    "gpu_devices = tf.config.list_physical_devices('GPU')\n",
    "print(\"GPU devices:\", gpu_devices)"
   ]
  },
  {
   "cell_type": "code",
   "execution_count": null,
   "id": "01a21a55-9db0-4955-9dfc-efd4243e1ce9",
   "metadata": {},
   "outputs": [],
   "source": [
    "import tensorflow as tf\n",
    "print(\"Is built with CUDA:\", tf.test.is_built_with_cuda())   # CUDA 지원 여부 확인\n",
    "print(\"Is GPU available:\", tf.config.list_physical_devices('GPU'))  # GPU 지원 여부 확인"
   ]
  },
  {
   "cell_type": "code",
   "execution_count": null,
   "id": "ed6c40b8-76ef-4b67-8638-431d3cddb646",
   "metadata": {},
   "outputs": [],
   "source": [
    "# 필요한 라이브러리 임포트\n",
    "import pandas as pd\n",
    "import numpy as np\n",
    "from sklearn.preprocessing import StandardScaler\n",
    "from sklearn.model_selection import train_test_split\n",
    "from sklearn.metrics import confusion_matrix, classification_report\n",
    "from keras.models import Sequential\n",
    "from keras.layers import LSTM, Dense\n",
    "from keras.callbacks import EarlyStopping\n",
    "from keras.utils import to_categorical\n",
    "import matplotlib.pyplot as plt\n",
    "\n",
    "# 1. LSTM 모델 정의 (6개의 클래스로 분류)\n",
    "def build_lstm_model(input_shape):\n",
    "    model = Sequential()\n",
    "    model.add(LSTM(64, input_shape=input_shape, return_sequences=True))\n",
    "    model.add(LSTM(64))\n",
    "    model.add(Dense(32, activation='relu'))\n",
    "    model.add(Dense(6, activation='softmax'))  # 6개의 클래스로 분류\n",
    "    model.compile(optimizer='adam', loss='categorical_crossentropy', metrics=['accuracy'])\n",
    "    return model\n",
    "\n",
    "# 2. 자이로 데이터 불러오기\n",
    "data = pd.read_csv('./원본 데이터/transformed_train.csv')\n",
    "\n",
    "# 3. 문자열 열(예: 사용자 이름 등)을 제거하고 수치형 데이터만 선택\n",
    "# 예시로 문자열 열이 'user' 열에 있다고 가정, 'activity'는 라벨로 따로 처리\n",
    "data_numeric = data.select_dtypes(include=[np.number])  # 수치형 데이터만 선택\n",
    "\n",
    "# 4. 데이터 전처리 (StandardScaler로 수치형 데이터 스케일링)\n",
    "scaler = StandardScaler()\n",
    "data_scaled = scaler.fit_transform(data_numeric)\n",
    "\n",
    "# 5. LSTM 모델에 맞는 입력 형태로 변환 (샘플 수, 타임스텝, 피처 수)\n",
    "time_steps = 64  # 각 샘플이 64개의 타임스텝을 가짐\n",
    "n_features = data_scaled.shape[1]\n",
    "X = np.array([data_scaled[i:i + time_steps] for i in range(len(data_scaled) - time_steps)])\n",
    "\n",
    "# 6. 라벨 처리 (activity 값을 실제 LABELS 리스트와 매핑)\n",
    "# 'activity' 열에서 라벨을 추출하여 행동 패턴으로 변환\n",
    "LABELS = [\"Walking\", \"Walking Upstairs\", \"Walking Downstairs\", \"Sitting\", \"Standing\", \"Lying\"]\n",
    "\n",
    "# 예시: 'A', 'B', 'C', 'D', 'E'를 각각 실제 행동 패턴에 매핑\n",
    "label_mapping = {\n",
    "    'A': 'Walking',\n",
    "    'B': 'Walking Upstairs',\n",
    "    'C': 'Walking Downstairs',\n",
    "    'D': 'Sitting',\n",
    "    'E': 'Standing'\n",
    "}\n",
    "\n",
    "# 타임스텝에 맞춰 라벨도 자른 후 변환\n",
    "label_column = data['activity'].iloc[time_steps:].reset_index(drop=True)\n",
    "\n",
    "# 라벨을 실제 행동으로 변환한 후 매핑\n",
    "y = label_column.map(label_mapping).map(lambda label: LABELS.index(label)).values\n",
    "\n",
    "# 라벨의 크기를 입력 데이터 X에 맞게 조정\n",
    "y = y[:len(X)]  # y와 X의 크기를 맞춤\n",
    "\n",
    "# 7. 라벨을 One-hot 인코딩\n",
    "y_categorical = to_categorical(y, num_classes=6)\n",
    "\n",
    "# 8. 학습 및 검증 데이터 분리\n",
    "X_train, X_val, y_train, y_val = train_test_split(X, y_categorical, test_size=0.2, random_state=42)\n",
    "\n",
    "# 9. LSTM 모델 생성\n",
    "input_shape = (time_steps, n_features)\n",
    "model = build_lstm_model(input_shape)\n",
    "\n",
    "# 10. EarlyStopping 콜백 추가\n",
    "early_stopping = EarlyStopping(monitor='val_loss', patience=5, restore_best_weights=True)\n",
    "\n",
    "# 11. 모델 훈련 (배치 크기: 64, 에포크: 50)\n",
    "batch_size = 64\n",
    "epochs = 50\n",
    "history = model.fit(X_train, y_train, epochs=epochs, batch_size=batch_size, validation_data=(X_val, y_val), callbacks=[early_stopping])\n",
    "\n",
    "# 모델 훈련 후 학습된 모델을 저장합니다.\n",
    "model.save('./lstm_model.h5')\n",
    "print(\"모델이 'lstm_model.h5'로 저장되었습니다.\")\n",
    "\n",
    "# 12. 예측 및 성능 평가\n",
    "predictions = model.predict(X_val)\n",
    "predicted_labels = np.argmax(predictions, axis=1)\n",
    "y_val_true = np.argmax(y_val, axis=1)\n",
    "\n",
    "# 13. 혼동 행렬 및 분류 성능 보고서 출력\n",
    "cm = confusion_matrix(y_val_true, predicted_labels)\n",
    "print(\"Confusion Matrix:\")\n",
    "print(cm)\n",
    "\n",
    "print(\"Classification Report:\")\n",
    "print(classification_report(y_val_true, predicted_labels))\n",
    "\n",
    "# 14. 학습 결과 시각화\n",
    "plt.plot(history.history['accuracy'], label='Train Accuracy')\n",
    "plt.plot(history.history['val_accuracy'], label='Validation Accuracy')\n",
    "plt.title('Model Accuracy')\n",
    "plt.ylabel('Accuracy')\n",
    "plt.xlabel('Epoch')\n",
    "plt.legend(loc='upper left')\n",
    "plt.show()\n",
    "\n",
    "plt.plot(history.history['loss'], label='Train Loss')\n",
    "plt.plot(history.history['val_loss'], label='Validation Loss')\n",
    "plt.title('Model Loss')\n",
    "plt.ylabel('Loss')\n",
    "plt.xlabel('Epoch')\n",
    "plt.legend(loc='upper left')\n",
    "plt.show()\n",
    "\n",
    "# # 15. 자이로 데이터에 라벨 추가 (검증 데이터 크기에 맞춰 수정)\n",
    "# gyro_data_with_labels = data.iloc[len(data) - len(predictions):].copy()  # 타임스텝에 맞춰 데이터 크기 조정\n",
    "# gyro_data_with_labels['Label'] = [LABELS[np.argmax(p)] for p in predictions]  # 예측된 라벨 추가\n",
    "\n",
    "# # 라벨링이 완료된 데이터 확인\n",
    "# print(gyro_data_with_labels.head())\n",
    "\n",
    "# # 16. 결과를 CSV로 저장 (필요 시)\n",
    "# gyro_data_with_labels.to_csv('./원본 데이터/labeled_gyro_data_with_labels.csv', index=False)"
   ]
  },
  {
   "cell_type": "code",
   "execution_count": null,
   "id": "e2ed4c68-a102-4889-b493-b5800c29d0d7",
   "metadata": {},
   "outputs": [],
   "source": []
  },
  {
   "cell_type": "code",
   "execution_count": null,
   "id": "3e2f2e92-92ec-4d8e-b412-201d1a513c0f",
   "metadata": {},
   "outputs": [],
   "source": []
  }
 ],
 "metadata": {
  "kernelspec": {
   "display_name": "Python 3 (ipykernel)",
   "language": "python",
   "name": "python3"
  },
  "language_info": {
   "codemirror_mode": {
    "name": "ipython",
    "version": 3
   },
   "file_extension": ".py",
   "mimetype": "text/x-python",
   "name": "python",
   "nbconvert_exporter": "python",
   "pygments_lexer": "ipython3",
   "version": "3.9.19"
  }
 },
 "nbformat": 4,
 "nbformat_minor": 5
}
