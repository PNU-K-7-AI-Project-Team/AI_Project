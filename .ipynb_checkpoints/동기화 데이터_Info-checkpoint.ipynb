{
 "cells": [
  {
   "cell_type": "code",
   "execution_count": 1,
   "id": "ad51c2f0-ac65-4ab0-8358-580324704696",
   "metadata": {},
   "outputs": [],
   "source": [
    "import pandas as pd"
   ]
  },
  {
   "cell_type": "code",
   "execution_count": 2,
   "id": "9f3fd98a-2ce7-4fd5-8327-82d67f7c572d",
   "metadata": {},
   "outputs": [
    {
     "name": "stdout",
     "output_type": "stream",
     "text": [
      "   WorkDate  UserCode  Heartbeat  Temperature  Spo2   Latitude   Longitude  \\\n",
      "0  20230803         1          0            0     0  35.173800  129.128500   \n",
      "1  20230803         1         59            0     0  35.173400  129.128200   \n",
      "2  20230803         1         76            0     0  35.173400  129.128200   \n",
      "3  20230803         7         82          367    -1  35.174502  129.128097   \n",
      "4  20230803         7         82          367    -1  35.174502  129.128097   \n",
      "\n",
      "             VitalDate        X     Y        Z         RegisterDate  \n",
      "0  2023-08-03 13:32:19     0.04  0.09     0.01  2023-08-03 13:32:19  \n",
      "1  2023-08-03 13:32:35    -0.01 -0.01    -0.01  2023-08-03 13:32:35  \n",
      "2  2023-08-03 13:33:55     0.04 -0.03    -0.06  2023-08-03 13:33:55  \n",
      "3  2023-08-03 08:56:02 -4480.00  0.00  6848.00  2023-08-03 08:56:02  \n",
      "4  2023-08-03 08:56:02 -4480.00  0.00  6848.00  2023-08-03 08:56:02  \n"
     ]
    }
   ],
   "source": [
    "df = pd.read_csv('./원본 데이터/동기화 데이터.csv')\n",
    "\n",
    "print(df.head())"
   ]
  },
  {
   "cell_type": "code",
   "execution_count": 3,
   "id": "28be506d-1c2a-41ad-b1bb-dec2b4d7a6c5",
   "metadata": {},
   "outputs": [
    {
     "name": "stdout",
     "output_type": "stream",
     "text": [
      "(790973, 12)\n"
     ]
    }
   ],
   "source": [
    "# 데이터의 크기 확인\n",
    "print(df.shape)"
   ]
  },
  {
   "cell_type": "code",
   "execution_count": 4,
   "id": "c203e9c0-5fce-4771-8cf6-0a199d17418e",
   "metadata": {},
   "outputs": [
    {
     "name": "stdout",
     "output_type": "stream",
     "text": [
      "<class 'pandas.core.frame.DataFrame'>\n",
      "RangeIndex: 790973 entries, 0 to 790972\n",
      "Data columns (total 12 columns):\n",
      " #   Column        Non-Null Count   Dtype  \n",
      "---  ------        --------------   -----  \n",
      " 0   WorkDate      790973 non-null  int64  \n",
      " 1   UserCode      790973 non-null  int64  \n",
      " 2   Heartbeat     790973 non-null  int64  \n",
      " 3   Temperature   790973 non-null  int64  \n",
      " 4   Spo2          790973 non-null  int64  \n",
      " 5   Latitude      790973 non-null  float64\n",
      " 6   Longitude     790973 non-null  float64\n",
      " 7   VitalDate     790973 non-null  object \n",
      " 8   X             790973 non-null  float64\n",
      " 9   Y             790973 non-null  float64\n",
      " 10  Z             790973 non-null  float64\n",
      " 11  RegisterDate  790973 non-null  object \n",
      "dtypes: float64(5), int64(5), object(2)\n",
      "memory usage: 72.4+ MB\n",
      "None\n"
     ]
    }
   ],
   "source": [
    "print(df.info())"
   ]
  },
  {
   "cell_type": "code",
   "execution_count": 5,
   "id": "3628d770-bdbb-4609-92c1-7d8589c39cb1",
   "metadata": {},
   "outputs": [
    {
     "name": "stdout",
     "output_type": "stream",
     "text": [
      "           WorkDate       UserCode      Heartbeat    Temperature  \\\n",
      "count  7.909730e+05  790973.000000  790973.000000  790973.000000   \n",
      "mean   2.023073e+07      44.273373      82.161987     358.773292   \n",
      "std    3.113212e+01      60.198342      16.053516      45.365314   \n",
      "min    2.023071e+07       0.000000       0.000000       0.000000   \n",
      "25%    2.023071e+07      12.000000      73.000000     362.000000   \n",
      "50%    2.023072e+07      12.000000      82.000000     364.000000   \n",
      "75%    2.023073e+07      48.000000      94.000000     367.000000   \n",
      "max    2.023080e+07     267.000000     192.000000     369.000000   \n",
      "\n",
      "                Spo2       Latitude      Longitude              X  \\\n",
      "count  790973.000000  790973.000000  790973.000000  790973.000000   \n",
      "mean       95.504691      34.769663     127.506997   -4009.220146   \n",
      "std        13.106167       3.867091      14.178637    2928.349097   \n",
      "min        -1.000000       0.000000       0.000000  -23552.000000   \n",
      "25%        96.000000      35.179609     129.077704   -6336.000000   \n",
      "50%        97.000000      35.179829     129.078393   -4096.000000   \n",
      "75%        99.000000      35.212025     129.091274   -2240.000000   \n",
      "max       100.000000      35.864031     129.243652   24768.000000   \n",
      "\n",
      "                   Y              Z  \n",
      "count  790973.000000  790973.000000  \n",
      "mean     2746.867748     656.644528  \n",
      "std      4775.885120    3760.084210  \n",
      "min    -19264.000000  -25728.000000  \n",
      "25%      -640.000000   -1664.000000  \n",
      "50%      3456.000000     320.000000  \n",
      "75%      7104.000000    3264.000000  \n",
      "max     26240.000000   24896.000000  \n"
     ]
    }
   ],
   "source": [
    "# 기본적인 통계 정보 확인\n",
    "print(df.describe())"
   ]
  },
  {
   "cell_type": "code",
   "execution_count": 6,
   "id": "26506418-dd7e-4c96-96ff-50bddbca236d",
   "metadata": {},
   "outputs": [
    {
     "name": "stdout",
     "output_type": "stream",
     "text": [
      "WorkDate          int64\n",
      "UserCode          int64\n",
      "Heartbeat         int64\n",
      "Temperature       int64\n",
      "Spo2              int64\n",
      "Latitude        float64\n",
      "Longitude       float64\n",
      "VitalDate        object\n",
      "X               float64\n",
      "Y               float64\n",
      "Z               float64\n",
      "RegisterDate     object\n",
      "dtype: object\n"
     ]
    }
   ],
   "source": [
    "print(df.dtypes)"
   ]
  }
 ],
 "metadata": {
  "kernelspec": {
   "display_name": "Python 3 (ipykernel)",
   "language": "python",
   "name": "python3"
  },
  "language_info": {
   "codemirror_mode": {
    "name": "ipython",
    "version": 3
   },
   "file_extension": ".py",
   "mimetype": "text/x-python",
   "name": "python",
   "nbconvert_exporter": "python",
   "pygments_lexer": "ipython3",
   "version": "3.10.14"
  }
 },
 "nbformat": 4,
 "nbformat_minor": 5
}
