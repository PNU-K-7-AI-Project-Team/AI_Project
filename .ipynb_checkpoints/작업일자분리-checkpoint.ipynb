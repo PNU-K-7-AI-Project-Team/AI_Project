{
 "cells": [
  {
   "cell_type": "code",
   "execution_count": 4,
   "id": "27c4d04b-bc78-4479-8b69-12e0d6c081d8",
   "metadata": {},
   "outputs": [
    {
     "name": "stdout",
     "output_type": "stream",
     "text": [
      "Saved: C:\\AI_Project\\원본 데이터\\bio_data_20230710.csv\n",
      "Saved: C:\\AI_Project\\원본 데이터\\bio_data_20230711.csv\n",
      "Saved: C:\\AI_Project\\원본 데이터\\bio_data_20230712.csv\n",
      "Saved: C:\\AI_Project\\원본 데이터\\bio_data_20230713.csv\n",
      "Saved: C:\\AI_Project\\원본 데이터\\bio_data_20230714.csv\n",
      "Saved: C:\\AI_Project\\원본 데이터\\bio_data_20230715.csv\n",
      "Saved: C:\\AI_Project\\원본 데이터\\bio_data_20230717.csv\n",
      "Saved: C:\\AI_Project\\원본 데이터\\bio_data_20230718.csv\n",
      "Saved: C:\\AI_Project\\원본 데이터\\bio_data_20230719.csv\n",
      "Saved: C:\\AI_Project\\원본 데이터\\bio_data_20230720.csv\n",
      "Saved: C:\\AI_Project\\원본 데이터\\bio_data_20230721.csv\n",
      "Saved: C:\\AI_Project\\원본 데이터\\bio_data_20230722.csv\n",
      "Saved: C:\\AI_Project\\원본 데이터\\bio_data_20230724.csv\n",
      "Saved: C:\\AI_Project\\원본 데이터\\bio_data_20230725.csv\n",
      "Saved: C:\\AI_Project\\원본 데이터\\bio_data_20230726.csv\n",
      "Saved: C:\\AI_Project\\원본 데이터\\bio_data_20230727.csv\n",
      "Saved: C:\\AI_Project\\원본 데이터\\bio_data_20230728.csv\n",
      "Saved: C:\\AI_Project\\원본 데이터\\bio_data_20230729.csv\n",
      "Saved: C:\\AI_Project\\원본 데이터\\bio_data_20230731.csv\n",
      "Saved: C:\\AI_Project\\원본 데이터\\bio_data_20230801.csv\n",
      "Saved: C:\\AI_Project\\원본 데이터\\bio_data_20230802.csv\n",
      "Saved: C:\\AI_Project\\원본 데이터\\bio_data_20230803.csv\n",
      "작업 일자 기준으로 데이터 분할 및 저장 완료.\n"
     ]
    }
   ],
   "source": [
    "import pandas as pd\n",
    "import os\n",
    "\n",
    "# 데이터 불러오기\n",
    "file_path = 'C:\\AI_Project\\원본 데이터\\생체 데이터.csv'  # 여기에 실제 파일 경로를 넣으세요.\n",
    "gyro_data = pd.read_csv(file_path)\n",
    "\n",
    "# '작업 일자' 컬럼이 있다고 가정하고 작업\n",
    "# '작업 일자' 컬럼이 없는 경우, 실제 컬럼명을 확인 후 변경하세요.\n",
    "# 예시로 'WorkDate' 컬럼을 기준으로 작업\n",
    "\n",
    "# 작업 일자별로 데이터 분할\n",
    "grouped_by_date = gyro_data.groupby('WorkDate')\n",
    "\n",
    "# 작업 일자별로 데이터를 나누어 저장할 디렉토리 생성\n",
    "output_dir = 'C:\\AI_Project\\원본 데이터'  # 결과 파일을 저장할 디렉토리 경로\n",
    "os.makedirs(output_dir, exist_ok=True)\n",
    "\n",
    "# 그룹별로 CSV 파일로 저장\n",
    "for date, group in grouped_by_date:\n",
    "    output_file = os.path.join(output_dir, f'bio_data_{date}.csv')\n",
    "    group.to_csv(output_file, index=False)\n",
    "    print(f\"Saved: {output_file}\")\n",
    "\n",
    "print(\"작업 일자 기준으로 데이터 분할 및 저장 완료.\")\n"
   ]
  },
  {
   "cell_type": "code",
   "execution_count": null,
   "id": "54966ee4-1344-42ee-975b-7e31e3c5dbe9",
   "metadata": {},
   "outputs": [],
   "source": []
  }
 ],
 "metadata": {
  "kernelspec": {
   "display_name": "Python 3 (ipykernel)",
   "language": "python",
   "name": "python3"
  },
  "language_info": {
   "codemirror_mode": {
    "name": "ipython",
    "version": 3
   },
   "file_extension": ".py",
   "mimetype": "text/x-python",
   "name": "python",
   "nbconvert_exporter": "python",
   "pygments_lexer": "ipython3",
   "version": "3.9.19"
  }
 },
 "nbformat": 4,
 "nbformat_minor": 5
}
