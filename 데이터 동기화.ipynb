{
 "cells": [
  {
   "cell_type": "code",
   "execution_count": 1,
   "id": "26c10be1-68c0-4ed0-86be-2e846c75ba27",
   "metadata": {},
   "outputs": [],
   "source": [
    "import pandas as pd\n",
    "import matplotlib.pyplot as plt\n",
    "import seaborn as sns"
   ]
  },
  {
   "cell_type": "code",
   "execution_count": 2,
   "id": "0b02226c-a34e-43cf-b414-70b9ebbda2b1",
   "metadata": {},
   "outputs": [],
   "source": [
    "# 생체 데이터와 자이로 데이터 로드\n",
    "bio_data = pd.read_csv('./원본 데이터/생체 데이터.csv')\n",
    "gyro_data = pd.read_csv('./원본 데이터/자이로 데이터.csv')"
   ]
  },
  {
   "cell_type": "code",
   "execution_count": 6,
   "id": "8385266e-3577-4468-ae2f-51cfb8418ff5",
   "metadata": {},
   "outputs": [
    {
     "name": "stderr",
     "output_type": "stream",
     "text": [
      "C:\\Users\\user\\AppData\\Local\\Temp\\ipykernel_10996\\4130170676.py:2: FutureWarning: 'S' is deprecated and will be removed in a future version, please use 's' instead.\n",
      "  bio_data['VitalDate'] = pd.to_datetime(bio_data['VitalDate']).dt.floor('S')\n",
      "C:\\Users\\user\\AppData\\Local\\Temp\\ipykernel_10996\\4130170676.py:3: FutureWarning: 'S' is deprecated and will be removed in a future version, please use 's' instead.\n",
      "  gyro_data['RegisterDate'] = pd.to_datetime(gyro_data['RegisterDate']).dt.floor('S')\n"
     ]
    },
    {
     "name": "stdout",
     "output_type": "stream",
     "text": [
      "정렬된 생체 데이터 (Bio Data):\n",
      "        WorkDate  UserCode           VitalDate\n",
      "404723  20230710         1 2022-10-11 01:25:49\n",
      "404724  20230710         1 2022-10-11 01:25:49\n",
      "403918  20230710         1 2023-07-10 08:59:12\n",
      "403919  20230710         1 2023-07-10 08:59:24\n",
      "403920  20230710         1 2023-07-10 08:59:27\n",
      "403921  20230710         1 2023-07-10 08:59:29\n",
      "403922  20230710         1 2023-07-10 08:59:30\n",
      "403923  20230710         1 2023-07-10 08:59:32\n",
      "403924  20230710         1 2023-07-10 08:59:37\n",
      "403925  20230710         1 2023-07-10 08:59:50\n",
      "\n",
      "정렬된 자이로 데이터 (Gyro Data):\n",
      "         WorkDate  UserCode        RegisterDate\n",
      "5620873  20230710         0 2023-07-10 11:19:33\n",
      "5620883  20230710         0 2023-07-10 11:19:33\n",
      "5620886  20230710         0 2023-07-10 11:19:35\n",
      "5620887  20230710         0 2023-07-10 11:19:35\n",
      "5620888  20230710         0 2023-07-10 11:19:35\n",
      "5620889  20230710         0 2023-07-10 11:19:35\n",
      "5620890  20230710         0 2023-07-10 11:19:35\n",
      "5620965  20230710         0 2023-07-10 11:19:35\n",
      "5620980  20230710         0 2023-07-10 11:19:35\n",
      "5620961  20230710         0 2023-07-10 11:19:36\n"
     ]
    }
   ],
   "source": [
    "# VitalDate와 RegisterDate를 날짜/시간 형식으로 변환 후 초 단위로 내림 처리\n",
    "bio_data['VitalDate'] = pd.to_datetime(bio_data['VitalDate']).dt.floor('S')\n",
    "gyro_data['RegisterDate'] = pd.to_datetime(gyro_data['RegisterDate']).dt.floor('S')\n",
    "\n",
    "# WorkDate와 UserCode의 데이터 형식 통일\n",
    "bio_data['WorkDate'] = bio_data['WorkDate'].astype(str)\n",
    "gyro_data['WorkDate'] = gyro_data['WorkDate'].astype(str)\n",
    "\n",
    "bio_data['UserCode'] = bio_data['UserCode'].astype(int)\n",
    "gyro_data['UserCode'] = gyro_data['UserCode'].astype(int)\n",
    "\n",
    "# 데이터를 VitalDate와 RegisterDate로 각각 정렬\n",
    "bio_data = bio_data.sort_values(['WorkDate', 'UserCode', 'VitalDate'])\n",
    "gyro_data = gyro_data.sort_values(['WorkDate', 'UserCode', 'RegisterDate'])\n",
    "\n",
    "# 정렬된 데이터 확인\n",
    "print(\"정렬된 생체 데이터 (Bio Data):\")\n",
    "print(bio_data[['WorkDate', 'UserCode', 'VitalDate']].head(10))\n",
    "\n",
    "print(\"\\n정렬된 자이로 데이터 (Gyro Data):\")\n",
    "print(gyro_data[['WorkDate', 'UserCode', 'RegisterDate']].head(10))"
   ]
  },
  {
   "cell_type": "code",
   "execution_count": 7,
   "id": "eda40671-6acb-44d1-a9b7-e08fec1fb3ea",
   "metadata": {},
   "outputs": [
    {
     "ename": "ValueError",
     "evalue": "left keys must be sorted",
     "output_type": "error",
     "traceback": [
      "\u001b[1;31m---------------------------------------------------------------------------\u001b[0m",
      "\u001b[1;31mValueError\u001b[0m                                Traceback (most recent call last)",
      "Cell \u001b[1;32mIn[7], line 2\u001b[0m\n\u001b[0;32m      1\u001b[0m \u001b[38;5;66;03m# merge_asof를 사용하여 동기화 (1초 시간 오차 허용, 가장 가까운 데이터 매칭)\u001b[39;00m\n\u001b[1;32m----> 2\u001b[0m merged_data \u001b[38;5;241m=\u001b[39m \u001b[43mpd\u001b[49m\u001b[38;5;241;43m.\u001b[39;49m\u001b[43mmerge_asof\u001b[49m\u001b[43m(\u001b[49m\n\u001b[0;32m      3\u001b[0m \u001b[43m    \u001b[49m\u001b[43mbio_data\u001b[49m\u001b[43m,\u001b[49m\n\u001b[0;32m      4\u001b[0m \u001b[43m    \u001b[49m\u001b[43mgyro_data\u001b[49m\u001b[43m,\u001b[49m\n\u001b[0;32m      5\u001b[0m \u001b[43m    \u001b[49m\u001b[43mleft_on\u001b[49m\u001b[38;5;241;43m=\u001b[39;49m\u001b[38;5;124;43m'\u001b[39;49m\u001b[38;5;124;43mVitalDate\u001b[39;49m\u001b[38;5;124;43m'\u001b[39;49m\u001b[43m,\u001b[49m\n\u001b[0;32m      6\u001b[0m \u001b[43m    \u001b[49m\u001b[43mright_on\u001b[49m\u001b[38;5;241;43m=\u001b[39;49m\u001b[38;5;124;43m'\u001b[39;49m\u001b[38;5;124;43mRegisterDate\u001b[39;49m\u001b[38;5;124;43m'\u001b[39;49m\u001b[43m,\u001b[49m\n\u001b[0;32m      7\u001b[0m \u001b[43m    \u001b[49m\u001b[43mby\u001b[49m\u001b[38;5;241;43m=\u001b[39;49m\u001b[43m[\u001b[49m\u001b[38;5;124;43m'\u001b[39;49m\u001b[38;5;124;43mWorkDate\u001b[39;49m\u001b[38;5;124;43m'\u001b[39;49m\u001b[43m,\u001b[49m\u001b[43m \u001b[49m\u001b[38;5;124;43m'\u001b[39;49m\u001b[38;5;124;43mUserCode\u001b[39;49m\u001b[38;5;124;43m'\u001b[39;49m\u001b[43m]\u001b[49m\u001b[43m,\u001b[49m\n\u001b[0;32m      8\u001b[0m \u001b[43m    \u001b[49m\u001b[43mtolerance\u001b[49m\u001b[38;5;241;43m=\u001b[39;49m\u001b[43mpd\u001b[49m\u001b[38;5;241;43m.\u001b[39;49m\u001b[43mTimedelta\u001b[49m\u001b[43m(\u001b[49m\u001b[38;5;124;43m'\u001b[39;49m\u001b[38;5;124;43m1s\u001b[39;49m\u001b[38;5;124;43m'\u001b[39;49m\u001b[43m)\u001b[49m\u001b[43m,\u001b[49m\u001b[43m  \u001b[49m\u001b[38;5;66;43;03m# 1초 오차 허용\u001b[39;49;00m\n\u001b[0;32m      9\u001b[0m \u001b[43m    \u001b[49m\u001b[43mdirection\u001b[49m\u001b[38;5;241;43m=\u001b[39;49m\u001b[38;5;124;43m'\u001b[39;49m\u001b[38;5;124;43mnearest\u001b[39;49m\u001b[38;5;124;43m'\u001b[39;49m\u001b[43m  \u001b[49m\u001b[38;5;66;43;03m# 가장 가까운 시간 값을 병합\u001b[39;49;00m\n\u001b[0;32m     10\u001b[0m \u001b[43m)\u001b[49m\n\u001b[0;32m     12\u001b[0m \u001b[38;5;66;03m# 병합된 데이터의 개수 확인\u001b[39;00m\n\u001b[0;32m     13\u001b[0m synchronized_data \u001b[38;5;241m=\u001b[39m merged_data\u001b[38;5;241m.\u001b[39mdropna(subset\u001b[38;5;241m=\u001b[39m[\u001b[38;5;124m'\u001b[39m\u001b[38;5;124mRegisterDate\u001b[39m\u001b[38;5;124m'\u001b[39m])\n",
      "File \u001b[1;32m~\\anaconda3\\envs\\ai-project\\lib\\site-packages\\pandas\\core\\reshape\\merge.py:708\u001b[0m, in \u001b[0;36mmerge_asof\u001b[1;34m(left, right, on, left_on, right_on, left_index, right_index, by, left_by, right_by, suffixes, tolerance, allow_exact_matches, direction)\u001b[0m\n\u001b[0;32m    456\u001b[0m \u001b[38;5;250m\u001b[39m\u001b[38;5;124;03m\"\"\"\u001b[39;00m\n\u001b[0;32m    457\u001b[0m \u001b[38;5;124;03mPerform a merge by key distance.\u001b[39;00m\n\u001b[0;32m    458\u001b[0m \n\u001b[1;32m   (...)\u001b[0m\n\u001b[0;32m    689\u001b[0m \u001b[38;5;124;03m4 2016-05-25 13:30:00.048   AAPL   98.00       100     NaN     NaN\u001b[39;00m\n\u001b[0;32m    690\u001b[0m \u001b[38;5;124;03m\"\"\"\u001b[39;00m\n\u001b[0;32m    691\u001b[0m op \u001b[38;5;241m=\u001b[39m _AsOfMerge(\n\u001b[0;32m    692\u001b[0m     left,\n\u001b[0;32m    693\u001b[0m     right,\n\u001b[1;32m   (...)\u001b[0m\n\u001b[0;32m    706\u001b[0m     direction\u001b[38;5;241m=\u001b[39mdirection,\n\u001b[0;32m    707\u001b[0m )\n\u001b[1;32m--> 708\u001b[0m \u001b[38;5;28;01mreturn\u001b[39;00m \u001b[43mop\u001b[49m\u001b[38;5;241;43m.\u001b[39;49m\u001b[43mget_result\u001b[49m\u001b[43m(\u001b[49m\u001b[43m)\u001b[49m\n",
      "File \u001b[1;32m~\\anaconda3\\envs\\ai-project\\lib\\site-packages\\pandas\\core\\reshape\\merge.py:1926\u001b[0m, in \u001b[0;36m_OrderedMerge.get_result\u001b[1;34m(self, copy)\u001b[0m\n\u001b[0;32m   1925\u001b[0m \u001b[38;5;28;01mdef\u001b[39;00m \u001b[38;5;21mget_result\u001b[39m(\u001b[38;5;28mself\u001b[39m, copy: \u001b[38;5;28mbool\u001b[39m \u001b[38;5;241m|\u001b[39m \u001b[38;5;28;01mNone\u001b[39;00m \u001b[38;5;241m=\u001b[39m \u001b[38;5;28;01mTrue\u001b[39;00m) \u001b[38;5;241m-\u001b[39m\u001b[38;5;241m>\u001b[39m DataFrame:\n\u001b[1;32m-> 1926\u001b[0m     join_index, left_indexer, right_indexer \u001b[38;5;241m=\u001b[39m \u001b[38;5;28;43mself\u001b[39;49m\u001b[38;5;241;43m.\u001b[39;49m\u001b[43m_get_join_info\u001b[49m\u001b[43m(\u001b[49m\u001b[43m)\u001b[49m\n\u001b[0;32m   1928\u001b[0m     left_join_indexer: npt\u001b[38;5;241m.\u001b[39mNDArray[np\u001b[38;5;241m.\u001b[39mintp] \u001b[38;5;241m|\u001b[39m \u001b[38;5;28;01mNone\u001b[39;00m\n\u001b[0;32m   1929\u001b[0m     right_join_indexer: npt\u001b[38;5;241m.\u001b[39mNDArray[np\u001b[38;5;241m.\u001b[39mintp] \u001b[38;5;241m|\u001b[39m \u001b[38;5;28;01mNone\u001b[39;00m\n",
      "File \u001b[1;32m~\\anaconda3\\envs\\ai-project\\lib\\site-packages\\pandas\\core\\reshape\\merge.py:1151\u001b[0m, in \u001b[0;36m_MergeOperation._get_join_info\u001b[1;34m(self)\u001b[0m\n\u001b[0;32m   1147\u001b[0m     join_index, right_indexer, left_indexer \u001b[38;5;241m=\u001b[39m _left_join_on_index(\n\u001b[0;32m   1148\u001b[0m         right_ax, left_ax, \u001b[38;5;28mself\u001b[39m\u001b[38;5;241m.\u001b[39mright_join_keys, sort\u001b[38;5;241m=\u001b[39m\u001b[38;5;28mself\u001b[39m\u001b[38;5;241m.\u001b[39msort\n\u001b[0;32m   1149\u001b[0m     )\n\u001b[0;32m   1150\u001b[0m \u001b[38;5;28;01melse\u001b[39;00m:\n\u001b[1;32m-> 1151\u001b[0m     (left_indexer, right_indexer) \u001b[38;5;241m=\u001b[39m \u001b[38;5;28;43mself\u001b[39;49m\u001b[38;5;241;43m.\u001b[39;49m\u001b[43m_get_join_indexers\u001b[49m\u001b[43m(\u001b[49m\u001b[43m)\u001b[49m\n\u001b[0;32m   1153\u001b[0m     \u001b[38;5;28;01mif\u001b[39;00m \u001b[38;5;28mself\u001b[39m\u001b[38;5;241m.\u001b[39mright_index:\n\u001b[0;32m   1154\u001b[0m         \u001b[38;5;28;01mif\u001b[39;00m \u001b[38;5;28mlen\u001b[39m(\u001b[38;5;28mself\u001b[39m\u001b[38;5;241m.\u001b[39mleft) \u001b[38;5;241m>\u001b[39m \u001b[38;5;241m0\u001b[39m:\n",
      "File \u001b[1;32m~\\anaconda3\\envs\\ai-project\\lib\\site-packages\\pandas\\core\\reshape\\merge.py:2238\u001b[0m, in \u001b[0;36m_AsOfMerge._get_join_indexers\u001b[1;34m(self)\u001b[0m\n\u001b[0;32m   2235\u001b[0m         tolerance \u001b[38;5;241m=\u001b[39m tolerance\u001b[38;5;241m.\u001b[39m_value\n\u001b[0;32m   2237\u001b[0m \u001b[38;5;66;03m# initial type conversion as needed\u001b[39;00m\n\u001b[1;32m-> 2238\u001b[0m left_values \u001b[38;5;241m=\u001b[39m \u001b[38;5;28;43mself\u001b[39;49m\u001b[38;5;241;43m.\u001b[39;49m\u001b[43m_convert_values_for_libjoin\u001b[49m\u001b[43m(\u001b[49m\u001b[43mleft_values\u001b[49m\u001b[43m,\u001b[49m\u001b[43m \u001b[49m\u001b[38;5;124;43m\"\u001b[39;49m\u001b[38;5;124;43mleft\u001b[39;49m\u001b[38;5;124;43m\"\u001b[39;49m\u001b[43m)\u001b[49m\n\u001b[0;32m   2239\u001b[0m right_values \u001b[38;5;241m=\u001b[39m \u001b[38;5;28mself\u001b[39m\u001b[38;5;241m.\u001b[39m_convert_values_for_libjoin(right_values, \u001b[38;5;124m\"\u001b[39m\u001b[38;5;124mright\u001b[39m\u001b[38;5;124m\"\u001b[39m)\n\u001b[0;32m   2241\u001b[0m \u001b[38;5;66;03m# a \"by\" parameter requires special handling\u001b[39;00m\n",
      "File \u001b[1;32m~\\anaconda3\\envs\\ai-project\\lib\\site-packages\\pandas\\core\\reshape\\merge.py:2182\u001b[0m, in \u001b[0;36m_AsOfMerge._convert_values_for_libjoin\u001b[1;34m(self, values, side)\u001b[0m\n\u001b[0;32m   2180\u001b[0m     \u001b[38;5;28;01mif\u001b[39;00m isna(values)\u001b[38;5;241m.\u001b[39many():\n\u001b[0;32m   2181\u001b[0m         \u001b[38;5;28;01mraise\u001b[39;00m \u001b[38;5;167;01mValueError\u001b[39;00m(\u001b[38;5;124mf\u001b[39m\u001b[38;5;124m\"\u001b[39m\u001b[38;5;124mMerge keys contain null values on \u001b[39m\u001b[38;5;132;01m{\u001b[39;00mside\u001b[38;5;132;01m}\u001b[39;00m\u001b[38;5;124m side\u001b[39m\u001b[38;5;124m\"\u001b[39m)\n\u001b[1;32m-> 2182\u001b[0m     \u001b[38;5;28;01mraise\u001b[39;00m \u001b[38;5;167;01mValueError\u001b[39;00m(\u001b[38;5;124mf\u001b[39m\u001b[38;5;124m\"\u001b[39m\u001b[38;5;132;01m{\u001b[39;00mside\u001b[38;5;132;01m}\u001b[39;00m\u001b[38;5;124m keys must be sorted\u001b[39m\u001b[38;5;124m\"\u001b[39m)\n\u001b[0;32m   2184\u001b[0m \u001b[38;5;28;01mif\u001b[39;00m \u001b[38;5;28misinstance\u001b[39m(values, ArrowExtensionArray):\n\u001b[0;32m   2185\u001b[0m     values \u001b[38;5;241m=\u001b[39m values\u001b[38;5;241m.\u001b[39m_maybe_convert_datelike_array()\n",
      "\u001b[1;31mValueError\u001b[0m: left keys must be sorted"
     ]
    }
   ],
   "source": [
    "# merge_asof를 사용하여 동기화 (1초 시간 오차 허용, 가장 가까운 데이터 매칭)\n",
    "merged_data = pd.merge_asof(\n",
    "    bio_data,\n",
    "    gyro_data,\n",
    "    left_on='VitalDate',\n",
    "    right_on='RegisterDate',\n",
    "    by=['WorkDate', 'UserCode'],\n",
    "    tolerance=pd.Timedelta('1s'),  # 1초 오차 허용\n",
    "    direction='nearest'  # 가장 가까운 시간 값을 병합\n",
    ")\n",
    "\n",
    "# 병합된 데이터의 개수 확인\n",
    "synchronized_data = merged_data.dropna(subset=['RegisterDate'])\n",
    "print(f\"동기화된 데이터 수: {synchronized_data.shape[0]}\")"
   ]
  },
  {
   "cell_type": "code",
   "execution_count": null,
   "id": "23605d77-9fa6-441d-8bc4-631b37f94650",
   "metadata": {},
   "outputs": [],
   "source": [
    "# 결과 출력\n",
    "print(f\"동기화된 데이터 수: {len(synchronized_data)}\")"
   ]
  },
  {
   "cell_type": "code",
   "execution_count": null,
   "id": "e31dd081-2f6b-413c-9c1f-b1f07503adbd",
   "metadata": {},
   "outputs": [],
   "source": [
    "print(f\"생체 데이터에만 존재하는 수: {len(missing_in_gyro)}\")\n",
    "print(f\"자이로 데이터에만 존재하는 수: {len(missing_in_bio)}\")"
   ]
  },
  {
   "cell_type": "code",
   "execution_count": null,
   "id": "996c29d0-f1bd-4000-9ce7-5d72d4fb851d",
   "metadata": {},
   "outputs": [],
   "source": [
    "# 동기화되지 않은 데이터 샘플 확인\n",
    "print(\"생체 데이터에만 존재하는 데이터 샘플:\")\n",
    "print(missing_in_bio.head())"
   ]
  },
  {
   "cell_type": "code",
   "execution_count": null,
   "id": "5878a51b-1c7c-4ffb-92d5-544717c880bf",
   "metadata": {},
   "outputs": [],
   "source": [
    "print(\"자이로 데이터에만 존재하는 데이터 샘플:\")\n",
    "print(missing_in_gyro.head())"
   ]
  },
  {
   "cell_type": "code",
   "execution_count": null,
   "id": "4bcf1d28-31f1-481c-979d-53d2e463683d",
   "metadata": {},
   "outputs": [],
   "source": []
  }
 ],
 "metadata": {
  "kernelspec": {
   "display_name": "Python 3 (ipykernel)",
   "language": "python",
   "name": "python3"
  },
  "language_info": {
   "codemirror_mode": {
    "name": "ipython",
    "version": 3
   },
   "file_extension": ".py",
   "mimetype": "text/x-python",
   "name": "python",
   "nbconvert_exporter": "python",
   "pygments_lexer": "ipython3",
   "version": "3.10.14"
  }
 },
 "nbformat": 4,
 "nbformat_minor": 5
}
