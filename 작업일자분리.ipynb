{
 "cells": [
  {
   "cell_type": "code",
   "execution_count": 8,
   "id": "27c4d04b-bc78-4479-8b69-12e0d6c081d8",
   "metadata": {},
   "outputs": [
    {
     "name": "stdout",
     "output_type": "stream",
     "text": [
      "Saved: C:\\AI_Project\\원본 데이터\\업체데이터\\날짜별_UserLocationLog\\UserLocationLog_20240801.csv\n",
      "Saved: C:\\AI_Project\\원본 데이터\\업체데이터\\날짜별_UserLocationLog\\UserLocationLog_20240802.csv\n",
      "Saved: C:\\AI_Project\\원본 데이터\\업체데이터\\날짜별_UserLocationLog\\UserLocationLog_20240803.csv\n",
      "Saved: C:\\AI_Project\\원본 데이터\\업체데이터\\날짜별_UserLocationLog\\UserLocationLog_20240804.csv\n",
      "Saved: C:\\AI_Project\\원본 데이터\\업체데이터\\날짜별_UserLocationLog\\UserLocationLog_20240805.csv\n",
      "Saved: C:\\AI_Project\\원본 데이터\\업체데이터\\날짜별_UserLocationLog\\UserLocationLog_20240806.csv\n",
      "Saved: C:\\AI_Project\\원본 데이터\\업체데이터\\날짜별_UserLocationLog\\UserLocationLog_20240807.csv\n",
      "Saved: C:\\AI_Project\\원본 데이터\\업체데이터\\날짜별_UserLocationLog\\UserLocationLog_20240808.csv\n",
      "Saved: C:\\AI_Project\\원본 데이터\\업체데이터\\날짜별_UserLocationLog\\UserLocationLog_20240809.csv\n",
      "Saved: C:\\AI_Project\\원본 데이터\\업체데이터\\날짜별_UserLocationLog\\UserLocationLog_20240810.csv\n",
      "Saved: C:\\AI_Project\\원본 데이터\\업체데이터\\날짜별_UserLocationLog\\UserLocationLog_20240811.csv\n",
      "Saved: C:\\AI_Project\\원본 데이터\\업체데이터\\날짜별_UserLocationLog\\UserLocationLog_20240812.csv\n",
      "Saved: C:\\AI_Project\\원본 데이터\\업체데이터\\날짜별_UserLocationLog\\UserLocationLog_20240813.csv\n",
      "Saved: C:\\AI_Project\\원본 데이터\\업체데이터\\날짜별_UserLocationLog\\UserLocationLog_20240814.csv\n",
      "Saved: C:\\AI_Project\\원본 데이터\\업체데이터\\날짜별_UserLocationLog\\UserLocationLog_20240815.csv\n",
      "Saved: C:\\AI_Project\\원본 데이터\\업체데이터\\날짜별_UserLocationLog\\UserLocationLog_20240816.csv\n",
      "Saved: C:\\AI_Project\\원본 데이터\\업체데이터\\날짜별_UserLocationLog\\UserLocationLog_20240817.csv\n",
      "Saved: C:\\AI_Project\\원본 데이터\\업체데이터\\날짜별_UserLocationLog\\UserLocationLog_20240818.csv\n",
      "Saved: C:\\AI_Project\\원본 데이터\\업체데이터\\날짜별_UserLocationLog\\UserLocationLog_20240819.csv\n",
      "Saved: C:\\AI_Project\\원본 데이터\\업체데이터\\날짜별_UserLocationLog\\UserLocationLog_20240820.csv\n",
      "Saved: C:\\AI_Project\\원본 데이터\\업체데이터\\날짜별_UserLocationLog\\UserLocationLog_20240821.csv\n",
      "Saved: C:\\AI_Project\\원본 데이터\\업체데이터\\날짜별_UserLocationLog\\UserLocationLog_20240822.csv\n",
      "Saved: C:\\AI_Project\\원본 데이터\\업체데이터\\날짜별_UserLocationLog\\UserLocationLog_20240823.csv\n",
      "Saved: C:\\AI_Project\\원본 데이터\\업체데이터\\날짜별_UserLocationLog\\UserLocationLog_20240824.csv\n",
      "Saved: C:\\AI_Project\\원본 데이터\\업체데이터\\날짜별_UserLocationLog\\UserLocationLog_20240825.csv\n",
      "Saved: C:\\AI_Project\\원본 데이터\\업체데이터\\날짜별_UserLocationLog\\UserLocationLog_20240826.csv\n",
      "Saved: C:\\AI_Project\\원본 데이터\\업체데이터\\날짜별_UserLocationLog\\UserLocationLog_20240827.csv\n",
      "Saved: C:\\AI_Project\\원본 데이터\\업체데이터\\날짜별_UserLocationLog\\UserLocationLog_20240828.csv\n",
      "Saved: C:\\AI_Project\\원본 데이터\\업체데이터\\날짜별_UserLocationLog\\UserLocationLog_20240829.csv\n",
      "Saved: C:\\AI_Project\\원본 데이터\\업체데이터\\날짜별_UserLocationLog\\UserLocationLog_20240830.csv\n",
      "Saved: C:\\AI_Project\\원본 데이터\\업체데이터\\날짜별_UserLocationLog\\UserLocationLog_20240831.csv\n",
      "Saved: C:\\AI_Project\\원본 데이터\\업체데이터\\날짜별_UserLocationLog\\UserLocationLog_20240901.csv\n",
      "Saved: C:\\AI_Project\\원본 데이터\\업체데이터\\날짜별_UserLocationLog\\UserLocationLog_20240902.csv\n",
      "Saved: C:\\AI_Project\\원본 데이터\\업체데이터\\날짜별_UserLocationLog\\UserLocationLog_20240903.csv\n",
      "Saved: C:\\AI_Project\\원본 데이터\\업체데이터\\날짜별_UserLocationLog\\UserLocationLog_20240904.csv\n",
      "Saved: C:\\AI_Project\\원본 데이터\\업체데이터\\날짜별_UserLocationLog\\UserLocationLog_20240905.csv\n",
      "작업 일자 기준으로 데이터 분할 및 저장 완료.\n"
     ]
    }
   ],
   "source": [
    "import pandas as pd\n",
    "import os\n",
    "\n",
    "# 데이터 불러오기\n",
    "file_path = 'C:\\\\AI_Project\\\\원본 데이터\\\\업체데이터\\\\UserLocationLog.csv'  # 여기에 실제 파일 경로를 넣으세요.\n",
    "gyro_data = pd.read_csv(file_path)\n",
    "\n",
    "# '작업 일자' 컬럼이 있다고 가정하고 작업\n",
    "# '작업 일자' 컬럼이 없는 경우, 실제 컬럼명을 확인 후 변경하세요.\n",
    "# 예시로 'WorkDate' 컬럼을 기준으로 작업\n",
    "\n",
    "# 작업 일자별로 데이터 분할\n",
    "grouped_by_date = gyro_data.groupby('workdate')\n",
    "\n",
    "# 작업 일자별로 데이터를 나누어 저장할 디렉토리 생성\n",
    "output_dir = 'C:\\AI_Project\\원본 데이터\\업체데이터\\날짜별_UserLocationLog'  # 결과 파일을 저장할 디렉토리 경로\n",
    "os.makedirs(output_dir, exist_ok=True)\n",
    "\n",
    "# 그룹별로 CSV 파일로 저장\n",
    "for date, group in grouped_by_date:\n",
    "    output_file = os.path.join(output_dir, f'UserLocationLog_{date}.csv')\n",
    "    group.to_csv(output_file, index=False)\n",
    "    print(f\"Saved: {output_file}\")\n",
    "\n",
    "print(\"작업 일자 기준으로 데이터 분할 및 저장 완료.\")"
   ]
  },
  {
   "cell_type": "code",
   "execution_count": null,
   "id": "54966ee4-1344-42ee-975b-7e31e3c5dbe9",
   "metadata": {},
   "outputs": [],
   "source": []
  }
 ],
 "metadata": {
  "kernelspec": {
   "display_name": "Python 3 (ipykernel)",
   "language": "python",
   "name": "python3"
  },
  "language_info": {
   "codemirror_mode": {
    "name": "ipython",
    "version": 3
   },
   "file_extension": ".py",
   "mimetype": "text/x-python",
   "name": "python",
   "nbconvert_exporter": "python",
   "pygments_lexer": "ipython3",
   "version": "3.9.19"
  }
 },
 "nbformat": 4,
 "nbformat_minor": 5
}
